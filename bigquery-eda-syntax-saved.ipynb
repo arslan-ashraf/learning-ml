{
 "cells": [
  {
   "cell_type": "code",
   "execution_count": null,
   "id": "8606eea1-89cc-4d5c-93e9-ff8ed0382914",
   "metadata": {},
   "outputs": [],
   "source": [
    "from google.cloud.bigquery import Client, QueryJobConfig\n",
    "import matplotlib.pyplot as plt\n",
    "import numpy as np\n",
    "import pandas as pd\n",
    "\n",
    "client = Client()"
   ]
  },
  {
   "cell_type": "code",
   "execution_count": null,
   "id": "60ba27fc-7f6a-4b97-9967-f20f9d4da27b",
   "metadata": {},
   "outputs": [],
   "source": [
    "sql_query = \"SELECT * FROM `bigquery-public-data.new_york_mv_collisions.nypd_mv_collisions` LIMIT 10\"\n",
    "\n",
    "bigquery_response = client.query(sql_query)\n",
    "\n",
    "df = bigquery_response.to_dataframe()"
   ]
  },
  {
   "cell_type": "code",
   "execution_count": null,
   "id": "9dc0f900-b634-4c49-8b59-2e23e7da2eba",
   "metadata": {},
   "outputs": [],
   "source": [
    "df.head()"
   ]
  },
  {
   "cell_type": "code",
   "execution_count": null,
   "id": "56611528-4cbb-4367-b0a8-400264eaa7a4",
   "metadata": {},
   "outputs": [],
   "source": [
    "df.info()"
   ]
  },
  {
   "cell_type": "code",
   "execution_count": null,
   "id": "b0890f86-fc41-43fe-826b-856d2ea91812",
   "metadata": {},
   "outputs": [],
   "source": [
    "df.describe()"
   ]
  },
  {
   "cell_type": "code",
   "execution_count": null,
   "id": "f66c598c-1beb-4cf3-b1e2-1a24772bc075",
   "metadata": {},
   "outputs": [],
   "source": [
    "sql_query = \" \\\n",
    "    SELECT borough, COUNT(*) AS number_of_collisions \\\n",
    "    FROM `bigquery-public-data.new_york_mv_collisions.nypd_mv_collisions` \\\n",
    "    GROUP BY borough \\\n",
    "    ORDER BY number_of_collisions DESC \\\n",
    "\"\n",
    "\n",
    "bigquery_response = client.query(sql_query)\n",
    "\n",
    "collisions_by_borough = bigquery_response.to_dataframe()"
   ]
  },
  {
   "cell_type": "code",
   "execution_count": null,
   "id": "319f30b5-ddce-4b80-b5f6-752685251cb1",
   "metadata": {},
   "outputs": [],
   "source": [
    "collisions_by_borough.drop(index=0, inplace=True)"
   ]
  },
  {
   "cell_type": "code",
   "execution_count": null,
   "id": "f4ab9292-8047-4de4-b71a-a658b827425f",
   "metadata": {},
   "outputs": [],
   "source": [
    "collisions_by_borough"
   ]
  },
  {
   "cell_type": "code",
   "execution_count": null,
   "id": "b0292734-0da1-4552-95ab-5fa71f1daf7f",
   "metadata": {},
   "outputs": [],
   "source": [
    "plt.figure(figsize=(5, 3))\n",
    "plt.bar(x=collisions_by_borough[\"borough\"], \n",
    "        height=collisions_by_borough[\"number_of_collisions\"],\n",
    "        width=0.4, color=\"red\", alpha=0.7, edgecolor=\"black\")\n",
    "plt.title(\"Collisions by Borough\")\n",
    "plt.xlabel(\"Borough\")\n",
    "plt.ylabel(\"Number of Collisions\")\n",
    "plt.grid(True)\n",
    "plt.show()"
   ]
  },
  {
   "cell_type": "markdown",
   "id": "87e014d3-1566-413f-8f14-8ffa55305843",
   "metadata": {},
   "source": [
    "### Which zipcodes are the most dangerous?"
   ]
  },
  {
   "cell_type": "code",
   "execution_count": null,
   "id": "7e435a46-ae30-492c-bfec-2c29ddd5687f",
   "metadata": {},
   "outputs": [],
   "source": [
    "sql_query = \" \\\n",
    "    SELECT zip_code, COUNT(*) AS number_of_collisions \\\n",
    "    FROM `bigquery-public-data.new_york_mv_collisions.nypd_mv_collisions` \\\n",
    "    GROUP BY zip_code \\\n",
    "    ORDER BY number_of_collisions DESC \\\n",
    "\"\n",
    "\n",
    "bigquery_response = client.query(sql_query)\n",
    "\n",
    "collisions_by_zipcode = bigquery_response.to_dataframe()"
   ]
  },
  {
   "cell_type": "code",
   "execution_count": null,
   "id": "8fc57812-64b0-4304-912b-3191211bf16b",
   "metadata": {},
   "outputs": [],
   "source": [
    "collisions_by_zipcode.drop(index=0, inplace=True)"
   ]
  },
  {
   "cell_type": "code",
   "execution_count": null,
   "id": "50036956-1ac2-4701-84d6-b831d85aaa17",
   "metadata": {},
   "outputs": [],
   "source": [
    "collisions_by_zipcode[\"zip_code\"] = collisions_by_zipcode[\"zip_code\"].astype(np.string_)"
   ]
  },
  {
   "cell_type": "code",
   "execution_count": null,
   "id": "49221e52-7a72-4986-854f-19da696a462a",
   "metadata": {},
   "outputs": [],
   "source": [
    "collisions_by_zipcode.head()"
   ]
  },
  {
   "cell_type": "code",
   "execution_count": null,
   "id": "6f55ce45-ad8c-46c5-ab98-87858c97aad1",
   "metadata": {},
   "outputs": [],
   "source": [
    "plt.figure(figsize=(10, 4))\n",
    "plt.bar(x=collisions_by_zipcode[:30][\"zip_code\"], \n",
    "        height=collisions_by_zipcode[:30][\"number_of_collisions\"],\n",
    "        width=0.3, color=\"red\", edgecolor=\"black\")\n",
    "plt.xticks(rotation=90)\n",
    "plt.title(\"Collisions by Zip Code\")\n",
    "plt.xlabel(\"Zip Codes\")\n",
    "plt.ylabel(\"Number of Collisions\")\n",
    "plt.grid(True)\n",
    "plt.show()"
   ]
  },
  {
   "cell_type": "markdown",
   "id": "60fdd39d-f644-4101-89f2-b3d7505f7284",
   "metadata": {},
   "source": [
    "## Let's scatter plot the longitudes and latitudes"
   ]
  },
  {
   "cell_type": "code",
   "execution_count": null,
   "id": "6ce509f3-1879-4d20-af67-926e8d0f57cc",
   "metadata": {},
   "outputs": [],
   "source": [
    "sql_query = \" \\\n",
    "    SELECT longitude, latitude \\\n",
    "    FROM `bigquery-public-data.new_york_mv_collisions.nypd_mv_collisions` \\\n",
    "    WHERE (longitude IS NOT NULL) \\\n",
    "    AND (latitude IS NOT NULL) \\\n",
    "\"\n",
    "\n",
    "bigquery_response = client.query(sql_query)\n",
    "\n",
    "longitude_latitude = bigquery_response.to_dataframe()"
   ]
  },
  {
   "cell_type": "markdown",
   "id": "3aa75657-43f7-486b-aa23-2b325a30e62d",
   "metadata": {},
   "source": [
    "#### First let's ensure the distributions of longitudes and latitudes values make sense\n"
   ]
  },
  {
   "cell_type": "code",
   "execution_count": null,
   "id": "5f847631-be7d-45c1-88c0-adb3fc640bee",
   "metadata": {},
   "outputs": [],
   "source": [
    "def clean_longitude_latitude(dataframe):\n",
    "    print(\"Shape before removing faulty longitudes:\", dataframe.shape)\n",
    "    longitude_rows_to_drop = dataframe[dataframe[\"longitude\"] < -74.27].index\n",
    "    dataframe.drop(labels=longitude_rows_to_drop, inplace=True)\n",
    "\n",
    "    longitude_rows_to_drop = dataframe[dataframe[\"longitude\"] > -73.68].index\n",
    "    dataframe.drop(labels=longitude_rows_to_drop, inplace=True)\n",
    "    print(\"Shape after removing faulty longitudes:\", dataframe.shape, \"\\n\")\n",
    "    \n",
    "    print(\"Shape before removing faulty latitudes:\", dataframe.shape)\n",
    "    latitude_rows_to_drop = dataframe[dataframe[\"latitude\"] < 40.49].index\n",
    "    dataframe.drop(labels=latitude_rows_to_drop, inplace=True)\n",
    "\n",
    "    latitude_rows_to_drop = dataframe[dataframe[\"latitude\"] > 40.90].index\n",
    "    dataframe.drop(labels=latitude_rows_to_drop, inplace=True)\n",
    "    print(\"Shape after removing faulty latitudes:\", dataframe.shape)\n",
    "    \n",
    "    return dataframe"
   ]
  },
  {
   "cell_type": "code",
   "execution_count": null,
   "id": "8200f803-1e4f-42b4-bf2c-aff289abd897",
   "metadata": {},
   "outputs": [],
   "source": [
    "longitude_latitude = clean_longitude_latitude(longitude_latitude)"
   ]
  },
  {
   "cell_type": "code",
   "execution_count": null,
   "id": "494a9da1-7695-45b3-a687-f943246159cd",
   "metadata": {},
   "outputs": [],
   "source": [
    "plt.figure(figsize=(5, 3))\n",
    "longitude_latitude[\"longitude\"].hist(bins=100)\n",
    "plt.title(\"Distribution of Longitudes\")\n",
    "plt.xlabel(\"Longitude Positions\")\n",
    "plt.ylabel(\"Number of Datapoints\")\n",
    "plt.show()"
   ]
  },
  {
   "cell_type": "code",
   "execution_count": null,
   "id": "6babb82c-cc7d-492f-8718-e54c88e9e830",
   "metadata": {},
   "outputs": [],
   "source": [
    "plt.figure(figsize=(5, 3))\n",
    "longitude_latitude[\"latitude\"].hist(bins=100)\n",
    "plt.title(\"Distribution of Latitudes\")\n",
    "plt.xlabel(\"Latitudes Positions\")\n",
    "plt.ylabel(\"Number of Datapoints\")\n",
    "plt.show()"
   ]
  },
  {
   "cell_type": "code",
   "execution_count": null,
   "id": "67c1e4f3-c1f2-4e92-9b9e-680f761c17e9",
   "metadata": {},
   "outputs": [],
   "source": [
    "plt.scatter(x=longitude_latitude[\"longitude\"], y=longitude_latitude[\"latitude\"],\n",
    "            color=\"green\", s=10, alpha=0.002)\n",
    "plt.xlabel(\"Longitude\")\n",
    "plt.ylabel(\"Latitude\")\n",
    "plt.title(\"Heatmap of Collisions\")\n",
    "plt.show()"
   ]
  },
  {
   "cell_type": "markdown",
   "id": "fee1f1e6-ca2a-4833-8d46-a6841dacb84f",
   "metadata": {},
   "source": [
    "## Lethal collisions and the resulting deaths/injuries"
   ]
  },
  {
   "cell_type": "code",
   "execution_count": null,
   "id": "a0767d5f-aa70-47a5-a62e-90ad57635dd2",
   "metadata": {},
   "outputs": [],
   "source": [
    "sql_query = \" \\\n",
    "    SELECT number_of_persons_killed, COUNT(*) AS number_of_collisions \\\n",
    "    FROM `bigquery-public-data.new_york_mv_collisions.nypd_mv_collisions` \\\n",
    "    GROUP BY number_of_persons_killed \\\n",
    "    ORDER BY number_of_collisions DESC \\\n",
    "\"\n",
    "\n",
    "bigquery_response = client.query(sql_query)\n",
    "\n",
    "number_of_collisions_by_deaths = bigquery_response.to_dataframe()"
   ]
  },
  {
   "cell_type": "code",
   "execution_count": null,
   "id": "f8f87fb4-d700-4320-9f59-401553ef98be",
   "metadata": {},
   "outputs": [],
   "source": [
    "number_of_collisions_by_deaths = number_of_collisions_by_deaths[number_of_collisions_by_deaths[\"number_of_persons_killed\"] > 0]\n",
    "number_of_collisions_by_deaths"
   ]
  },
  {
   "cell_type": "code",
   "execution_count": null,
   "id": "b86c3f86-6203-4f89-8168-bcd255c88c22",
   "metadata": {},
   "outputs": [],
   "source": [
    "plt.figure(figsize=(6, 3))\n",
    "plt.bar(x=number_of_collisions_by_deaths[\"number_of_persons_killed\"], \n",
    "        height=number_of_collisions_by_deaths[\"number_of_collisions\"],\n",
    "        width=0.3, color=\"orange\", edgecolor=\"black\", linewidth=2.5)\n",
    "plt.title(\"Deaths in Lethal Collisions\")\n",
    "plt.xlabel(\"Deaths\")\n",
    "plt.ylabel(\"Number of Collisions\")\n",
    "plt.grid(True)\n",
    "plt.show()"
   ]
  },
  {
   "cell_type": "markdown",
   "id": "197f9514-5946-4a62-bbe4-819d61fb176e",
   "metadata": {},
   "source": [
    "## Scatter plot of where the lethal collisions most frequently occur"
   ]
  },
  {
   "cell_type": "code",
   "execution_count": null,
   "id": "49746541-3808-44a7-8603-d57542597421",
   "metadata": {},
   "outputs": [],
   "source": [
    "sql_query = \" \\\n",
    "    SELECT number_of_persons_killed, \\\n",
    "    number_of_pedestrians_killed, \\\n",
    "    number_of_cyclist_killed, \\\n",
    "    number_of_motorist_killed, \\\n",
    "    longitude, latitude \\\n",
    "    FROM `bigquery-public-data.new_york_mv_collisions.nypd_mv_collisions` \\\n",
    "    WHERE number_of_persons_killed > 0 \\\n",
    "    AND (longitude IS NOT NULL) \\\n",
    "    AND (latitude IS NOT NULL) \\\n",
    "\"\n",
    "\n",
    "bigquery_response = client.query(sql_query)\n",
    "\n",
    "lethal_collisions = bigquery_response.to_dataframe()"
   ]
  },
  {
   "cell_type": "code",
   "execution_count": null,
   "id": "ef3cbb28-f5c5-49e1-a53f-7ee30ea8af55",
   "metadata": {},
   "outputs": [],
   "source": [
    "lethal_collisions.head()"
   ]
  },
  {
   "cell_type": "code",
   "execution_count": null,
   "id": "0a2b6edb-846c-4e6e-b970-5e9c4f42e7a3",
   "metadata": {},
   "outputs": [],
   "source": [
    "print(lethal_collisions.shape)\n",
    "\n",
    "# drop null values\n",
    "lethal_collisions.dropna(inplace=True)\n",
    "\n",
    "# remove faulty longitude and latitude values\n",
    "lethal_collisions = clean_longitude_latitude(lethal_collisions)"
   ]
  },
  {
   "cell_type": "code",
   "execution_count": null,
   "id": "76c5e934-71d0-40af-836f-b356ce08487f",
   "metadata": {},
   "outputs": [],
   "source": [
    "lethal_collisions.head()"
   ]
  },
  {
   "cell_type": "code",
   "execution_count": null,
   "id": "f7ef866b-4dc7-4e03-9c69-c3fad6d934f0",
   "metadata": {},
   "outputs": [],
   "source": [
    "lethal_collisions[\"number_of_persons_killed\"] = lethal_collisions[\"number_of_persons_killed\"].astype(np.float16)"
   ]
  },
  {
   "cell_type": "code",
   "execution_count": null,
   "id": "83e0d45e-88da-462a-b490-83ea857e2dd7",
   "metadata": {},
   "outputs": [],
   "source": [
    "plt.scatter(x=lethal_collisions[\"longitude\"], \n",
    "            y=lethal_collisions[\"latitude\"],\n",
    "            s=lethal_collisions[\"number_of_persons_killed\"] * 10,\n",
    "            color=\"red\", edgecolor=\"black\", alpha=0.6)\n",
    "plt.xlabel(\"Longitude\")\n",
    "plt.ylabel(\"Latitude\")\n",
    "plt.title(\"Heatmap of Lethal Collisions\")\n",
    "plt.grid(True)\n",
    "plt.show()"
   ]
  },
  {
   "cell_type": "markdown",
   "id": "44b63282-c886-4da0-a687-8d5a6089173f",
   "metadata": {},
   "source": [
    "## Number of pedestrians killed in lethal collisions"
   ]
  },
  {
   "cell_type": "code",
   "execution_count": null,
   "id": "5639522a-75ba-4f11-9e19-b9a8b9e7fb72",
   "metadata": {},
   "outputs": [],
   "source": [
    "group_by_pedestrian_deaths = lethal_collisions.groupby(\"number_of_pedestrians_killed\") \\\n",
    "                                              .count().reset_index()\n",
    "\n",
    "group_by_pedestrian_deaths = group_by_pedestrian_deaths[[\"number_of_pedestrians_killed\", \"number_of_persons_killed\"]]\n",
    "\n",
    "group_by_pedestrian_deaths.rename(columns={ \"number_of_persons_killed\": \"number_of_lethal_collisions\" }, inplace=True)\n",
    "\n",
    "group_by_pedestrian_deaths"
   ]
  },
  {
   "cell_type": "code",
   "execution_count": null,
   "id": "c4f54ee6-5dcf-4da2-8f32-0c12ebe49d4e",
   "metadata": {},
   "outputs": [],
   "source": [
    "plt.figure(figsize=(5, 3))\n",
    "plt.bar(x=group_by_pedestrian_deaths[\"number_of_pedestrians_killed\"], \n",
    "        height=group_by_pedestrian_deaths[\"number_of_lethal_collisions\"],\n",
    "        width=0.4, color=\"red\", alpha=0.9, edgecolor=\"black\", linewidth=2.5)\n",
    "plt.title(\"Pedestrian Deaths in Lethal Collisions\")\n",
    "plt.xlabel(\"Number of Pedestrian Deaths\")\n",
    "plt.ylabel(\"Number of Lethal Collisions\")\n",
    "plt.grid(True)\n",
    "plt.show()"
   ]
  },
  {
   "cell_type": "markdown",
   "id": "cf9b75ee-5fda-4e9d-a97d-7c48498647b1",
   "metadata": {},
   "source": [
    "## Number of cyclists killed in lethal collisions"
   ]
  },
  {
   "cell_type": "code",
   "execution_count": null,
   "id": "303414a0-c7aa-40d7-9534-a56178aa6e2c",
   "metadata": {},
   "outputs": [],
   "source": [
    "group_by_cyclist_deaths = lethal_collisions.groupby(\"number_of_cyclist_killed\") \\\n",
    "                                           .count().reset_index()\n",
    "\n",
    "group_by_cyclist_deaths = group_by_cyclist_deaths[[\"number_of_cyclist_killed\", \"number_of_persons_killed\"]]\n",
    "\n",
    "group_by_cyclist_deaths.rename(columns={ \"number_of_persons_killed\": \"number_of_lethal_collisions\" }, inplace=True)\n",
    "\n",
    "group_by_cyclist_deaths"
   ]
  },
  {
   "cell_type": "code",
   "execution_count": null,
   "id": "4147f493-22e5-4608-b500-e1d2c7f36f9a",
   "metadata": {},
   "outputs": [],
   "source": [
    "plt.figure(figsize=(3, 3))\n",
    "plt.bar(x=group_by_cyclist_deaths[\"number_of_cyclist_killed\"], \n",
    "        height=group_by_cyclist_deaths[\"number_of_lethal_collisions\"],\n",
    "        width=0.4, color=\"red\", alpha=0.9, edgecolor=\"black\", linewidth=2.5)\n",
    "plt.title(\"Cyclist Deaths in Lethal Collisions\")\n",
    "plt.xlabel(\"Number of Cyclist Deaths\")\n",
    "plt.ylabel(\"Number of Lethal Collisions\")\n",
    "plt.grid(True)\n",
    "plt.show()"
   ]
  },
  {
   "cell_type": "code",
   "execution_count": null,
   "id": "1dc5018f-471b-4824-967e-cc6d61c73c02",
   "metadata": {},
   "outputs": [],
   "source": [
    "group_by_cyclist_deaths = lethal_collisions.groupby(\"number_of_cyclist_killed\") \\\n",
    "                                           .count().reset_index()\n",
    "\n",
    "group_by_cyclist_deaths = group_by_cyclist_deaths[[\"number_of_cyclist_killed\", \"number_of_persons_killed\"]]\n",
    "\n",
    "group_by_cyclist_deaths.rename(columns={ \"number_of_persons_killed\": \"number_of_lethal_collisions\" }, inplace=True)\n",
    "\n",
    "group_by_cyclist_deaths"
   ]
  },
  {
   "cell_type": "markdown",
   "id": "313e0db5-b44b-455e-983a-fc0f334a39b0",
   "metadata": {},
   "source": [
    "## Number of motorists killed in lethal collisions"
   ]
  },
  {
   "cell_type": "code",
   "execution_count": null,
   "id": "ef8da4ca-cf02-4940-bb61-890135483ad1",
   "metadata": {},
   "outputs": [],
   "source": [
    "plt.figure(figsize=(5, 3))\n",
    "plt.bar(x=group_by_motorist_deaths[\"number_of_motorist_killed\"], \n",
    "        height=group_by_motorist_deaths[\"number_of_lethal_collisions\"],\n",
    "        width=0.4, color=\"red\", alpha=0.9, edgecolor=\"black\", linewidth=2.5)\n",
    "plt.title(\"Motorist Deaths in Lethal Collisions\")\n",
    "plt.xlabel(\"Number of Motorist Deaths\")\n",
    "plt.ylabel(\"Number of Lethal Collisions\")\n",
    "plt.grid(True)\n",
    "plt.show()"
   ]
  },
  {
   "cell_type": "markdown",
   "id": "31c517cf-d3f4-4e91-bc09-26ce210ba758",
   "metadata": {},
   "source": [
    "## Graphing number of injuries caused by collisions"
   ]
  },
  {
   "cell_type": "code",
   "execution_count": null,
   "id": "a1494db9-8aab-4e9e-929c-9c6e3e1321cd",
   "metadata": {},
   "outputs": [],
   "source": [
    "sql_query = \" \\\n",
    "    SELECT number_of_persons_injured, \\\n",
    "    number_of_pedestrians_injured, \\\n",
    "    number_of_cyclist_injured, \\\n",
    "    number_of_motorist_injured, \\\n",
    "    longitude, latitude \\\n",
    "    FROM `bigquery-public-data.new_york_mv_collisions.nypd_mv_collisions` \\\n",
    "    WHERE number_of_persons_injured > 0 \\\n",
    "    AND (longitude IS NOT NULL) \\\n",
    "    AND (latitude IS NOT NULL) \\\n",
    "\"\n",
    "\n",
    "bigquery_response = client.query(sql_query)\n",
    "\n",
    "injury_collisions = bigquery_response.to_dataframe()"
   ]
  },
  {
   "cell_type": "code",
   "execution_count": null,
   "id": "c75c451e-5baa-424e-b1a0-6aaa9fcccac7",
   "metadata": {},
   "outputs": [],
   "source": [
    "injury_collisions.head()"
   ]
  },
  {
   "cell_type": "code",
   "execution_count": null,
   "id": "57b711b3-f203-4944-8558-bda8681cbfb5",
   "metadata": {},
   "outputs": [],
   "source": [
    "print(injury_collisions.shape)\n",
    "\n",
    "# drop null values\n",
    "injury_collisions.dropna(inplace=True)\n",
    "\n",
    "# remove faulty longitude and latitude values\n",
    "injury_collisions = clean_longitude_latitude(injury_collisions)"
   ]
  },
  {
   "cell_type": "code",
   "execution_count": null,
   "id": "08fad313-e2db-45a0-8257-febddb1bff68",
   "metadata": {},
   "outputs": [],
   "source": [
    "injury_collisions[\"number_of_persons_injured\"] = injury_collisions[\"number_of_persons_injured\"].astype(np.float16)"
   ]
  },
  {
   "cell_type": "code",
   "execution_count": null,
   "id": "e5f46dff-1e5b-45cd-af2e-d4f25d486cb0",
   "metadata": {},
   "outputs": [],
   "source": [
    "plt.scatter(x=injury_collisions[\"longitude\"], \n",
    "            y=injury_collisions[\"latitude\"],\n",
    "            s=injury_collisions[\"number_of_persons_injured\"],\n",
    "            color=\"red\", edgecolor=\"black\", alpha=0.6)\n",
    "plt.xlabel(\"Longitude\")\n",
    "plt.ylabel(\"Latitude\")\n",
    "plt.title(\"Heatmap of Collisions Causing Injury\")\n",
    "plt.grid(True)\n",
    "plt.show()"
   ]
  },
  {
   "cell_type": "markdown",
   "id": "a68b6104-d74a-444d-9620-9179a8b8651c",
   "metadata": {},
   "source": [
    "## Pedestrians injured due to collision"
   ]
  },
  {
   "cell_type": "code",
   "execution_count": null,
   "id": "563dfd79-5740-42f5-8128-680af07f3dfd",
   "metadata": {},
   "outputs": [],
   "source": [
    "group_by_pedestrian_injuries = injury_collisions.groupby(\"number_of_pedestrians_injured\") \\\n",
    "                                                .count().reset_index()\n",
    "\n",
    "group_by_pedestrian_injuries = group_by_pedestrian_injuries[[\"number_of_pedestrians_injured\", \"number_of_persons_injured\"]]\n",
    "\n",
    "group_by_pedestrian_injuries.rename(columns={ \"number_of_persons_injured\": \"number_of_collisions_causing_injury\" }, inplace=True)\n",
    "\n",
    "group_by_pedestrian_injuries"
   ]
  },
  {
   "cell_type": "code",
   "execution_count": null,
   "id": "af599256-b3c9-40a7-9284-2633c85febd2",
   "metadata": {},
   "outputs": [],
   "source": [
    "plt.figure(figsize=(6, 3))\n",
    "plt.bar(x=group_by_pedestrian_injuries[\"number_of_pedestrians_injured\"], \n",
    "        height=group_by_pedestrian_injuries[\"number_of_collisions_causing_injury\"],\n",
    "        width=0.4, color=\"blue\", alpha=0.7, edgecolor=\"black\", linewidth=2.5)\n",
    "plt.title(\"(Log Scale) Pedestrians Injured in  Injury Causing Collisions\")\n",
    "plt.yscale(\"log\")\n",
    "plt.xlabel(\"Pedestrians Injured\")\n",
    "plt.ylabel(\"Number of Collisions (Log Scale)\")\n",
    "plt.grid(True)\n",
    "plt.show()"
   ]
  },
  {
   "cell_type": "code",
   "execution_count": null,
   "id": "9864f289-330b-40e8-bbdd-29664e13dec7",
   "metadata": {},
   "outputs": [],
   "source": [
    "plt.figure(figsize=(4, 3))\n",
    "plt.bar(x=group_by_cyclist_injuries[\"number_of_cyclist_injured\"], \n",
    "        height=group_by_cyclist_injuries[\"number_of_collisions_causing_injury\"],\n",
    "        width=0.4, color=\"blue\", alpha=0.7, edgecolor=\"black\", linewidth=2.5)\n",
    "plt.title(\"(Log Scale) Cyclists Injured in  Injury Causing Collisions\")\n",
    "plt.yscale(\"log\")\n",
    "plt.xlabel(\"Cyclists Injured\")\n",
    "plt.ylabel(\"Number of Collisions (Log Scale)\")\n",
    "plt.grid(True)\n",
    "plt.show()"
   ]
  },
  {
   "cell_type": "code",
   "execution_count": 1,
   "id": "65271d27-f36c-41d8-8d17-422b3f4cd84a",
   "metadata": {},
   "outputs": [],
   "source": [
    "## Motorists injured in injury causing collisions"
   ]
  },
  {
   "cell_type": "code",
   "execution_count": null,
   "id": "2b1b4d7b-ab71-418c-a68c-5582fb37c080",
   "metadata": {},
   "outputs": [],
   "source": [
    "group_by_motorist_injuries = injury_collisions.groupby(\"number_of_motorist_injured\") \\\n",
    "                                             .count().reset_index()\n",
    "\n",
    "group_by_motorist_injuries = group_by_motorist_injuries[[\"number_of_motorist_injured\", \"number_of_persons_injured\"]]\n",
    "\n",
    "group_by_motorist_injuries.rename(columns={ \"number_of_persons_injured\": \"number_of_collisions_causing_injury\" }, inplace=True)\n",
    "\n",
    "group_by_motorist_injuries.head()"
   ]
  },
  {
   "cell_type": "code",
   "execution_count": null,
   "id": "f9b995a5-05ee-4ba6-b653-ba1aa5f2d3df",
   "metadata": {},
   "outputs": [],
   "source": [
    "plt.figure(figsize=(10, 4))\n",
    "plt.bar(x=group_by_motorist_injuries[\"number_of_motorist_injured\"], \n",
    "        height=group_by_motorist_injuries[\"number_of_collisions_causing_injury\"],\n",
    "        width=0.4, color=\"blue\", alpha=0.7, edgecolor=\"black\", linewidth=2.5)\n",
    "plt.title(\"(Log Scale) Motorists Injured in  Injury Causing Collisions\")\n",
    "plt.yscale(\"log\")\n",
    "plt.xlabel(\"Motorists Injured\")\n",
    "plt.ylabel(\"Number of Collisions (Log Scale)\")\n",
    "plt.grid(True)\n",
    "plt.show()"
   ]
  },
  {
   "cell_type": "markdown",
   "id": "a51ffbfa-8e8e-4148-bc1c-a135e80305ca",
   "metadata": {},
   "source": [
    "## First group of factors contributing to collisions"
   ]
  },
  {
   "cell_type": "code",
   "execution_count": null,
   "id": "9cf94085-9505-418b-a2dc-a2ee57d6e698",
   "metadata": {},
   "outputs": [],
   "source": [
    "sql_query = \" \\\n",
    "    SELECT contributing_factor_vehicle_1, COUNT(*) AS number_of_collisions \\\n",
    "    FROM `bigquery-public-data.new_york_mv_collisions.nypd_mv_collisions` \\\n",
    "    GROUP BY contributing_factor_vehicle_1 \\\n",
    "    ORDER BY number_of_collisions DESC \\\n",
    "\"\n",
    "\n",
    "bigquery_response = client.query(sql_query)\n",
    "\n",
    "first_factor_contributing_to_collisions = bigquery_response.to_dataframe()"
   ]
  },
  {
   "cell_type": "code",
   "execution_count": null,
   "id": "cf1cefe8-1da6-4953-a3ad-4510ed1704ff",
   "metadata": {},
   "outputs": [],
   "source": [
    "first_factor_contributing_to_collisions.head(10)"
   ]
  },
  {
   "cell_type": "code",
   "execution_count": null,
   "id": "566c973e-ffb6-43d2-b22a-02c436e7db53",
   "metadata": {},
   "outputs": [],
   "source": [
    "plt.figure(figsize=(17, 7))\n",
    "plt.bar(x=first_factor_contributing_to_collisions[:20][\"contributing_factor_vehicle_1\"], \n",
    "        height=first_factor_contributing_to_collisions[:20][\"number_of_collisions\"],\n",
    "        width=0.5, color=\"purple\", edgecolor=\"black\", linewidth=2.5)\n",
    "plt.xticks(rotation=90)\n",
    "plt.yscale(\"log\")\n",
    "plt.title(\"(Log Scale) First Group of Factors Contributing to Collisions\")\n",
    "plt.xlabel(\"Collision Contributing Factors\")\n",
    "plt.ylabel(\"Number of Collisions (Log Scale)\")\n",
    "plt.grid(True)\n",
    "plt.show()"
   ]
  },
  {
   "cell_type": "code",
   "execution_count": null,
   "id": "69eab35e-5407-46f7-9928-46a59b09465c",
   "metadata": {},
   "outputs": [],
   "source": []
  }
 ],
 "metadata": {
  "kernelspec": {
   "display_name": "Python 3 (ipykernel)",
   "language": "python",
   "name": "python3"
  },
  "language_info": {
   "codemirror_mode": {
    "name": "ipython",
    "version": 3
   },
   "file_extension": ".py",
   "mimetype": "text/x-python",
   "name": "python",
   "nbconvert_exporter": "python",
   "pygments_lexer": "ipython3",
   "version": "3.10.1"
  }
 },
 "nbformat": 4,
 "nbformat_minor": 5
}
