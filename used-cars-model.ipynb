{
 "cells": [
  {
   "cell_type": "code",
   "execution_count": 169,
   "metadata": {
    "_cell_guid": "b1076dfc-b9ad-4769-8c92-a6c4dae69d19",
    "_uuid": "8f2839f25d086af736a60e9eeb907d3b93b6e0e5",
    "execution": {
     "iopub.execute_input": "2023-06-07T20:34:47.935847Z",
     "iopub.status.busy": "2023-06-07T20:34:47.934832Z",
     "iopub.status.idle": "2023-06-07T20:34:48.384165Z",
     "shell.execute_reply": "2023-06-07T20:34:48.383115Z",
     "shell.execute_reply.started": "2023-06-07T20:34:47.935809Z"
    }
   },
   "outputs": [],
   "source": [
    "import numpy as np\n",
    "import tensorflow as tf\n",
    "import matplotlib.pyplot as plt\n",
    "import seaborn as sns\n",
    "import pandas as pd\n",
    "import sklearn\n",
    "from sklearn.preprocessing import OneHotEncoder\n",
    "from sklearn.tree import DecisionTreeRegressor\n",
    "from sklearn.ensemble import RandomForestRegressor\n",
    "from xgboost import XGBRegressor"
   ]
  },
  {
   "cell_type": "code",
   "execution_count": 126,
   "metadata": {
    "execution": {
     "iopub.execute_input": "2023-06-07T19:58:14.712917Z",
     "iopub.status.busy": "2023-06-07T19:58:14.712499Z",
     "iopub.status.idle": "2023-06-07T19:58:36.475640Z",
     "shell.execute_reply": "2023-06-07T19:58:36.474387Z",
     "shell.execute_reply.started": "2023-06-07T19:58:14.712884Z"
    }
   },
   "outputs": [],
   "source": [
    "cars_df = pd.read_csv(\"/kaggle/input/craigslist-carstrucks-data/vehicles.csv\")"
   ]
  },
  {
   "cell_type": "markdown",
   "metadata": {},
   "source": [
    "## EDA and data cleaning"
   ]
  },
  {
   "cell_type": "code",
   "execution_count": 127,
   "metadata": {
    "execution": {
     "iopub.execute_input": "2023-06-07T19:58:36.478166Z",
     "iopub.status.busy": "2023-06-07T19:58:36.477774Z",
     "iopub.status.idle": "2023-06-07T19:58:38.999036Z",
     "shell.execute_reply": "2023-06-07T19:58:38.997896Z",
     "shell.execute_reply.started": "2023-06-07T19:58:36.478134Z"
    }
   },
   "outputs": [
    {
     "name": "stdout",
     "output_type": "stream",
     "text": [
      "<class 'pandas.core.frame.DataFrame'>\n",
      "RangeIndex: 426880 entries, 0 to 426879\n",
      "Data columns (total 26 columns):\n",
      " #   Column        Non-Null Count   Dtype  \n",
      "---  ------        --------------   -----  \n",
      " 0   id            426880 non-null  int64  \n",
      " 1   url           426880 non-null  object \n",
      " 2   region        426880 non-null  object \n",
      " 3   region_url    426880 non-null  object \n",
      " 4   price         426880 non-null  int64  \n",
      " 5   year          425675 non-null  float64\n",
      " 6   manufacturer  409234 non-null  object \n",
      " 7   model         421603 non-null  object \n",
      " 8   condition     252776 non-null  object \n",
      " 9   cylinders     249202 non-null  object \n",
      " 10  fuel          423867 non-null  object \n",
      " 11  odometer      422480 non-null  float64\n",
      " 12  title_status  418638 non-null  object \n",
      " 13  transmission  424324 non-null  object \n",
      " 14  VIN           265838 non-null  object \n",
      " 15  drive         296313 non-null  object \n",
      " 16  size          120519 non-null  object \n",
      " 17  type          334022 non-null  object \n",
      " 18  paint_color   296677 non-null  object \n",
      " 19  image_url     426812 non-null  object \n",
      " 20  description   426810 non-null  object \n",
      " 21  county        0 non-null       float64\n",
      " 22  state         426880 non-null  object \n",
      " 23  lat           420331 non-null  float64\n",
      " 24  long          420331 non-null  float64\n",
      " 25  posting_date  426812 non-null  object \n",
      "dtypes: float64(5), int64(2), object(19)\n",
      "memory usage: 84.7+ MB\n"
     ]
    }
   ],
   "source": [
    "cars_df.info()"
   ]
  },
  {
   "cell_type": "code",
   "execution_count": 128,
   "metadata": {
    "execution": {
     "iopub.execute_input": "2023-06-07T19:59:17.638977Z",
     "iopub.status.busy": "2023-06-07T19:59:17.638501Z",
     "iopub.status.idle": "2023-06-07T19:59:17.646639Z",
     "shell.execute_reply": "2023-06-07T19:59:17.645055Z",
     "shell.execute_reply.started": "2023-06-07T19:59:17.638940Z"
    }
   },
   "outputs": [],
   "source": [
    "cars_df.rename(columns={ \"odometer\": \"mileage\" }, inplace=True)"
   ]
  },
  {
   "cell_type": "code",
   "execution_count": 129,
   "metadata": {
    "execution": {
     "iopub.execute_input": "2023-06-07T19:59:19.018523Z",
     "iopub.status.busy": "2023-06-07T19:59:19.018107Z",
     "iopub.status.idle": "2023-06-07T19:59:19.168085Z",
     "shell.execute_reply": "2023-06-07T19:59:19.166976Z",
     "shell.execute_reply.started": "2023-06-07T19:59:19.018491Z"
    }
   },
   "outputs": [
    {
     "data": {
      "text/html": [
       "<div>\n",
       "<style scoped>\n",
       "    .dataframe tbody tr th:only-of-type {\n",
       "        vertical-align: middle;\n",
       "    }\n",
       "\n",
       "    .dataframe tbody tr th {\n",
       "        vertical-align: top;\n",
       "    }\n",
       "\n",
       "    .dataframe thead th {\n",
       "        text-align: right;\n",
       "    }\n",
       "</style>\n",
       "<table border=\"1\" class=\"dataframe\">\n",
       "  <thead>\n",
       "    <tr style=\"text-align: right;\">\n",
       "      <th></th>\n",
       "      <th>id</th>\n",
       "      <th>price</th>\n",
       "      <th>year</th>\n",
       "      <th>mileage</th>\n",
       "      <th>county</th>\n",
       "      <th>lat</th>\n",
       "      <th>long</th>\n",
       "    </tr>\n",
       "  </thead>\n",
       "  <tbody>\n",
       "    <tr>\n",
       "      <th>count</th>\n",
       "      <td>4.268800e+05</td>\n",
       "      <td>4.268800e+05</td>\n",
       "      <td>425675.000000</td>\n",
       "      <td>4.224800e+05</td>\n",
       "      <td>0.0</td>\n",
       "      <td>420331.000000</td>\n",
       "      <td>420331.000000</td>\n",
       "    </tr>\n",
       "    <tr>\n",
       "      <th>mean</th>\n",
       "      <td>7.311487e+09</td>\n",
       "      <td>7.519903e+04</td>\n",
       "      <td>2011.235191</td>\n",
       "      <td>9.804333e+04</td>\n",
       "      <td>NaN</td>\n",
       "      <td>38.493940</td>\n",
       "      <td>-94.748599</td>\n",
       "    </tr>\n",
       "    <tr>\n",
       "      <th>std</th>\n",
       "      <td>4.473170e+06</td>\n",
       "      <td>1.218228e+07</td>\n",
       "      <td>9.452120</td>\n",
       "      <td>2.138815e+05</td>\n",
       "      <td>NaN</td>\n",
       "      <td>5.841533</td>\n",
       "      <td>18.365462</td>\n",
       "    </tr>\n",
       "    <tr>\n",
       "      <th>min</th>\n",
       "      <td>7.207408e+09</td>\n",
       "      <td>0.000000e+00</td>\n",
       "      <td>1900.000000</td>\n",
       "      <td>0.000000e+00</td>\n",
       "      <td>NaN</td>\n",
       "      <td>-84.122245</td>\n",
       "      <td>-159.827728</td>\n",
       "    </tr>\n",
       "    <tr>\n",
       "      <th>25%</th>\n",
       "      <td>7.308143e+09</td>\n",
       "      <td>5.900000e+03</td>\n",
       "      <td>2008.000000</td>\n",
       "      <td>3.770400e+04</td>\n",
       "      <td>NaN</td>\n",
       "      <td>34.601900</td>\n",
       "      <td>-111.939847</td>\n",
       "    </tr>\n",
       "    <tr>\n",
       "      <th>50%</th>\n",
       "      <td>7.312621e+09</td>\n",
       "      <td>1.395000e+04</td>\n",
       "      <td>2013.000000</td>\n",
       "      <td>8.554800e+04</td>\n",
       "      <td>NaN</td>\n",
       "      <td>39.150100</td>\n",
       "      <td>-88.432600</td>\n",
       "    </tr>\n",
       "    <tr>\n",
       "      <th>75%</th>\n",
       "      <td>7.315254e+09</td>\n",
       "      <td>2.648575e+04</td>\n",
       "      <td>2017.000000</td>\n",
       "      <td>1.335425e+05</td>\n",
       "      <td>NaN</td>\n",
       "      <td>42.398900</td>\n",
       "      <td>-80.832039</td>\n",
       "    </tr>\n",
       "    <tr>\n",
       "      <th>max</th>\n",
       "      <td>7.317101e+09</td>\n",
       "      <td>3.736929e+09</td>\n",
       "      <td>2022.000000</td>\n",
       "      <td>1.000000e+07</td>\n",
       "      <td>NaN</td>\n",
       "      <td>82.390818</td>\n",
       "      <td>173.885502</td>\n",
       "    </tr>\n",
       "  </tbody>\n",
       "</table>\n",
       "</div>"
      ],
      "text/plain": [
       "                 id         price           year       mileage  county  \\\n",
       "count  4.268800e+05  4.268800e+05  425675.000000  4.224800e+05     0.0   \n",
       "mean   7.311487e+09  7.519903e+04    2011.235191  9.804333e+04     NaN   \n",
       "std    4.473170e+06  1.218228e+07       9.452120  2.138815e+05     NaN   \n",
       "min    7.207408e+09  0.000000e+00    1900.000000  0.000000e+00     NaN   \n",
       "25%    7.308143e+09  5.900000e+03    2008.000000  3.770400e+04     NaN   \n",
       "50%    7.312621e+09  1.395000e+04    2013.000000  8.554800e+04     NaN   \n",
       "75%    7.315254e+09  2.648575e+04    2017.000000  1.335425e+05     NaN   \n",
       "max    7.317101e+09  3.736929e+09    2022.000000  1.000000e+07     NaN   \n",
       "\n",
       "                 lat           long  \n",
       "count  420331.000000  420331.000000  \n",
       "mean       38.493940     -94.748599  \n",
       "std         5.841533      18.365462  \n",
       "min       -84.122245    -159.827728  \n",
       "25%        34.601900    -111.939847  \n",
       "50%        39.150100     -88.432600  \n",
       "75%        42.398900     -80.832039  \n",
       "max        82.390818     173.885502  "
      ]
     },
     "execution_count": 129,
     "metadata": {},
     "output_type": "execute_result"
    }
   ],
   "source": [
    "cars_df.describe()"
   ]
  },
  {
   "cell_type": "code",
   "execution_count": 130,
   "metadata": {
    "execution": {
     "iopub.execute_input": "2023-06-07T19:59:22.676779Z",
     "iopub.status.busy": "2023-06-07T19:59:22.676241Z",
     "iopub.status.idle": "2023-06-07T19:59:23.122508Z",
     "shell.execute_reply": "2023-06-07T19:59:23.121355Z",
     "shell.execute_reply.started": "2023-06-07T19:59:22.676734Z"
    }
   },
   "outputs": [
    {
     "data": {
      "text/plain": [
       "(403068, 26)"
      ]
     },
     "execution_count": 130,
     "metadata": {},
     "output_type": "execute_result"
    }
   ],
   "source": [
    "# drop all data with missing values in following columns\n",
    "cars_df.dropna(subset=[\"manufacturer\", \"fuel\", \"mileage\", \"year\"], inplace=True)\n",
    "cars_df.shape"
   ]
  },
  {
   "cell_type": "code",
   "execution_count": 131,
   "metadata": {
    "execution": {
     "iopub.execute_input": "2023-06-07T19:59:25.669689Z",
     "iopub.status.busy": "2023-06-07T19:59:25.669266Z",
     "iopub.status.idle": "2023-06-07T19:59:25.898752Z",
     "shell.execute_reply": "2023-06-07T19:59:25.897572Z",
     "shell.execute_reply.started": "2023-06-07T19:59:25.669655Z"
    }
   },
   "outputs": [
    {
     "data": {
      "text/plain": [
       "(301593, 26)"
      ]
     },
     "execution_count": 131,
     "metadata": {},
     "output_type": "execute_result"
    }
   ],
   "source": [
    "# drop all data of cars made before 2008\n",
    "indices_of_cars_before_2008 = cars_df[cars_df['year'] <= 2008].index\n",
    "cars_df.drop(labels=indices_of_cars_before_2008, inplace=True)\n",
    "cars_df.shape"
   ]
  },
  {
   "cell_type": "code",
   "execution_count": 132,
   "metadata": {
    "execution": {
     "iopub.execute_input": "2023-06-07T19:59:28.023071Z",
     "iopub.status.busy": "2023-06-07T19:59:28.022612Z",
     "iopub.status.idle": "2023-06-07T19:59:28.094836Z",
     "shell.execute_reply": "2023-06-07T19:59:28.093590Z",
     "shell.execute_reply.started": "2023-06-07T19:59:28.023028Z"
    }
   },
   "outputs": [
    {
     "data": {
      "text/plain": [
       "(301593, 14)"
      ]
     },
     "execution_count": 132,
     "metadata": {},
     "output_type": "execute_result"
    }
   ],
   "source": [
    "# drop columns with little to no predictive value on price\n",
    "cars_df.drop(columns=[\"url\", \"id\", \"region_url\", \"county\", \"image_url\", \n",
    "                        \"description\", \"model\", \"VIN\", \"long\", \"lat\", \n",
    "                        \"region\", \"posting_date\"], \n",
    "             inplace=True)\n",
    "\n",
    "cars_df.shape"
   ]
  },
  {
   "cell_type": "code",
   "execution_count": 133,
   "metadata": {
    "execution": {
     "iopub.execute_input": "2023-06-07T19:59:37.716817Z",
     "iopub.status.busy": "2023-06-07T19:59:37.716301Z",
     "iopub.status.idle": "2023-06-07T19:59:37.798826Z",
     "shell.execute_reply": "2023-06-07T19:59:37.797340Z",
     "shell.execute_reply.started": "2023-06-07T19:59:37.716774Z"
    }
   },
   "outputs": [
    {
     "data": {
      "text/plain": [
       "(300370, 14)"
      ]
     },
     "execution_count": 133,
     "metadata": {},
     "output_type": "execute_result"
    }
   ],
   "source": [
    "# drop all data of cars with mileage in excess of 250k\n",
    "indices_of_cars_with_excess_mileage = cars_df[cars_df[\"mileage\"] > 250000].index\n",
    "cars_df.drop(labels=indices_of_cars_with_excess_mileage, inplace=True)\n",
    "cars_df.shape"
   ]
  },
  {
   "cell_type": "code",
   "execution_count": 134,
   "metadata": {
    "execution": {
     "iopub.execute_input": "2023-06-07T19:59:41.340912Z",
     "iopub.status.busy": "2023-06-07T19:59:41.340397Z",
     "iopub.status.idle": "2023-06-07T19:59:41.430158Z",
     "shell.execute_reply": "2023-06-07T19:59:41.429164Z",
     "shell.execute_reply.started": "2023-06-07T19:59:41.340869Z"
    }
   },
   "outputs": [
    {
     "data": {
      "text/plain": [
       "(264887, 14)"
      ]
     },
     "execution_count": 134,
     "metadata": {},
     "output_type": "execute_result"
    }
   ],
   "source": [
    "# drop all data of cars with unrealistic prices, under $1000\n",
    "indices_of_cars_with_unrealistic_prices = cars_df[cars_df[\"price\"] < 1000].index\n",
    "cars_df.drop(labels=indices_of_cars_with_unrealistic_prices, inplace=True)\n",
    "cars_df.shape"
   ]
  },
  {
   "cell_type": "code",
   "execution_count": 135,
   "metadata": {
    "execution": {
     "iopub.execute_input": "2023-06-07T19:59:43.862417Z",
     "iopub.status.busy": "2023-06-07T19:59:43.861976Z",
     "iopub.status.idle": "2023-06-07T19:59:44.752510Z",
     "shell.execute_reply": "2023-06-07T19:59:44.751358Z",
     "shell.execute_reply.started": "2023-06-07T19:59:43.862387Z"
    }
   },
   "outputs": [
    {
     "name": "stdout",
     "output_type": "stream",
     "text": [
      "<class 'pandas.core.frame.DataFrame'>\n",
      "Int64Index: 264887 entries, 27 to 426879\n",
      "Data columns (total 14 columns):\n",
      " #   Column        Non-Null Count   Dtype  \n",
      "---  ------        --------------   -----  \n",
      " 0   price         264887 non-null  int64  \n",
      " 1   year          264887 non-null  float64\n",
      " 2   manufacturer  264887 non-null  object \n",
      " 3   condition     160504 non-null  object \n",
      " 4   cylinders     147487 non-null  object \n",
      " 5   fuel          264887 non-null  object \n",
      " 6   mileage       264887 non-null  float64\n",
      " 7   title_status  260569 non-null  object \n",
      " 8   transmission  263720 non-null  object \n",
      " 9   drive         184726 non-null  object \n",
      " 10  size          62871 non-null   object \n",
      " 11  type          218259 non-null  object \n",
      " 12  paint_color   193031 non-null  object \n",
      " 13  state         264887 non-null  object \n",
      "dtypes: float64(2), int64(1), object(11)\n",
      "memory usage: 30.3+ MB\n"
     ]
    }
   ],
   "source": [
    "cars_df.info()"
   ]
  },
  {
   "cell_type": "code",
   "execution_count": 136,
   "metadata": {
    "execution": {
     "iopub.execute_input": "2023-06-07T19:59:49.341029Z",
     "iopub.status.busy": "2023-06-07T19:59:49.340353Z",
     "iopub.status.idle": "2023-06-07T19:59:49.395150Z",
     "shell.execute_reply": "2023-06-07T19:59:49.393801Z",
     "shell.execute_reply.started": "2023-06-07T19:59:49.340982Z"
    }
   },
   "outputs": [
    {
     "data": {
      "text/html": [
       "<div>\n",
       "<style scoped>\n",
       "    .dataframe tbody tr th:only-of-type {\n",
       "        vertical-align: middle;\n",
       "    }\n",
       "\n",
       "    .dataframe tbody tr th {\n",
       "        vertical-align: top;\n",
       "    }\n",
       "\n",
       "    .dataframe thead th {\n",
       "        text-align: right;\n",
       "    }\n",
       "</style>\n",
       "<table border=\"1\" class=\"dataframe\">\n",
       "  <thead>\n",
       "    <tr style=\"text-align: right;\">\n",
       "      <th></th>\n",
       "      <th>price</th>\n",
       "      <th>year</th>\n",
       "      <th>mileage</th>\n",
       "    </tr>\n",
       "  </thead>\n",
       "  <tbody>\n",
       "    <tr>\n",
       "      <th>count</th>\n",
       "      <td>2.648870e+05</td>\n",
       "      <td>264887.000000</td>\n",
       "      <td>264887.000000</td>\n",
       "    </tr>\n",
       "    <tr>\n",
       "      <th>mean</th>\n",
       "      <td>3.956881e+04</td>\n",
       "      <td>2015.044053</td>\n",
       "      <td>74954.210852</td>\n",
       "    </tr>\n",
       "    <tr>\n",
       "      <th>std</th>\n",
       "      <td>6.238162e+06</td>\n",
       "      <td>3.112021</td>\n",
       "      <td>51813.560226</td>\n",
       "    </tr>\n",
       "    <tr>\n",
       "      <th>min</th>\n",
       "      <td>1.000000e+03</td>\n",
       "      <td>2009.000000</td>\n",
       "      <td>0.000000</td>\n",
       "    </tr>\n",
       "    <tr>\n",
       "      <th>25%</th>\n",
       "      <td>1.199500e+04</td>\n",
       "      <td>2013.000000</td>\n",
       "      <td>30164.000000</td>\n",
       "    </tr>\n",
       "    <tr>\n",
       "      <th>50%</th>\n",
       "      <td>2.039500e+04</td>\n",
       "      <td>2015.000000</td>\n",
       "      <td>68982.000000</td>\n",
       "    </tr>\n",
       "    <tr>\n",
       "      <th>75%</th>\n",
       "      <td>3.159000e+04</td>\n",
       "      <td>2018.000000</td>\n",
       "      <td>111431.500000</td>\n",
       "    </tr>\n",
       "    <tr>\n",
       "      <th>max</th>\n",
       "      <td>3.009549e+09</td>\n",
       "      <td>2022.000000</td>\n",
       "      <td>250000.000000</td>\n",
       "    </tr>\n",
       "  </tbody>\n",
       "</table>\n",
       "</div>"
      ],
      "text/plain": [
       "              price           year        mileage\n",
       "count  2.648870e+05  264887.000000  264887.000000\n",
       "mean   3.956881e+04    2015.044053   74954.210852\n",
       "std    6.238162e+06       3.112021   51813.560226\n",
       "min    1.000000e+03    2009.000000       0.000000\n",
       "25%    1.199500e+04    2013.000000   30164.000000\n",
       "50%    2.039500e+04    2015.000000   68982.000000\n",
       "75%    3.159000e+04    2018.000000  111431.500000\n",
       "max    3.009549e+09    2022.000000  250000.000000"
      ]
     },
     "execution_count": 136,
     "metadata": {},
     "output_type": "execute_result"
    }
   ],
   "source": [
    "cars_df.describe()"
   ]
  },
  {
   "cell_type": "markdown",
   "metadata": {},
   "source": [
    "## Plot prices column"
   ]
  },
  {
   "cell_type": "code",
   "execution_count": 137,
   "metadata": {
    "execution": {
     "iopub.execute_input": "2023-06-07T19:59:54.647042Z",
     "iopub.status.busy": "2023-06-07T19:59:54.646591Z",
     "iopub.status.idle": "2023-06-07T19:59:54.941136Z",
     "shell.execute_reply": "2023-06-07T19:59:54.940066Z",
     "shell.execute_reply.started": "2023-06-07T19:59:54.646986Z"
    }
   },
   "outputs": [
    {
     "data": {
      "image/png": "[encoded data removed]",
      "text/plain": [
       "<Figure size 300x300 with 1 Axes>"
      ]
     },
     "metadata": {},
     "output_type": "display_data"
    }
   ],
   "source": [
    "fig, ax = plt.subplots(figsize=(3,3))\n",
    "cars_df[\"price\"].hist(bins=50)\n",
    "plt.xlabel(\"Price in Dollars($)\")\n",
    "plt.ylabel(\"Number of Cars\")\n",
    "plt.title(\"Distribution of Prices\")\n",
    "plt.show()"
   ]
  },
  {
   "cell_type": "markdown",
   "metadata": {},
   "source": [
    "## Plot log of price column"
   ]
  },
  {
   "cell_type": "code",
   "execution_count": 139,
   "metadata": {
    "execution": {
     "iopub.execute_input": "2023-06-07T20:00:09.262769Z",
     "iopub.status.busy": "2023-06-07T20:00:09.262058Z",
     "iopub.status.idle": "2023-06-07T20:00:09.576975Z",
     "shell.execute_reply": "2023-06-07T20:00:09.575771Z",
     "shell.execute_reply.started": "2023-06-07T20:00:09.262722Z"
    }
   },
   "outputs": [
    {
     "data": {
      "image/png": "[encoded data removed]",
      "text/plain": [
       "<Figure size 300x300 with 1 Axes>"
      ]
     },
     "metadata": {},
     "output_type": "display_data"
    }
   ],
   "source": [
    "fig, ax = plt.subplots(figsize=(3,3))\n",
    "cars_df[\"price\"].apply(np.log).hist(bins=50, color=\"blue\")\n",
    "plt.xlabel(\"Log(Price) in Dollars($)\")\n",
    "plt.ylabel(\"Number of Cars\")\n",
    "plt.title(\"Log Distribution of Prices\")\n",
    "plt.show()"
   ]
  },
  {
   "cell_type": "markdown",
   "metadata": {},
   "source": [
    "## Transform price into log(price)"
   ]
  },
  {
   "cell_type": "code",
   "execution_count": 140,
   "metadata": {
    "execution": {
     "iopub.execute_input": "2023-06-07T20:00:20.848630Z",
     "iopub.status.busy": "2023-06-07T20:00:20.848239Z",
     "iopub.status.idle": "2023-06-07T20:00:20.901179Z",
     "shell.execute_reply": "2023-06-07T20:00:20.900036Z",
     "shell.execute_reply.started": "2023-06-07T20:00:20.848601Z"
    }
   },
   "outputs": [
    {
     "data": {
      "text/plain": [
       "(264887, 14)"
      ]
     },
     "execution_count": 140,
     "metadata": {},
     "output_type": "execute_result"
    }
   ],
   "source": [
    "cars_df[\"log(price)\"] = cars_df[\"price\"].apply(np.log)\n",
    "cars_df.drop(columns=[\"price\"], inplace=True)\n",
    "cars_df = cars_df.astype(dtype={\"log(price)\": np.float16},\n",
    "                         copy=False)\n",
    "cars_df.shape"
   ]
  },
  {
   "cell_type": "code",
   "execution_count": 141,
   "metadata": {
    "execution": {
     "iopub.execute_input": "2023-06-07T20:00:24.626601Z",
     "iopub.status.busy": "2023-06-07T20:00:24.626202Z",
     "iopub.status.idle": "2023-06-07T20:00:24.635920Z",
     "shell.execute_reply": "2023-06-07T20:00:24.634795Z",
     "shell.execute_reply.started": "2023-06-07T20:00:24.626573Z"
    }
   },
   "outputs": [
    {
     "data": {
      "text/plain": [
       "27    10.421875\n",
       "28    10.023438\n",
       "29    10.585938\n",
       "30    10.343750\n",
       "31     9.617188\n",
       "Name: log(price), dtype: float16"
      ]
     },
     "execution_count": 141,
     "metadata": {},
     "output_type": "execute_result"
    }
   ],
   "source": [
    "cars_df['log(price)'].head()"
   ]
  },
  {
   "cell_type": "markdown",
   "metadata": {},
   "source": [
    "## Plot mileage column"
   ]
  },
  {
   "cell_type": "code",
   "execution_count": 142,
   "metadata": {
    "execution": {
     "iopub.execute_input": "2023-06-07T20:00:27.331375Z",
     "iopub.status.busy": "2023-06-07T20:00:27.330471Z",
     "iopub.status.idle": "2023-06-07T20:00:27.637432Z",
     "shell.execute_reply": "2023-06-07T20:00:27.636567Z",
     "shell.execute_reply.started": "2023-06-07T20:00:27.331327Z"
    }
   },
   "outputs": [
    {
     "data": {
      "image/png": "[encoded data removed]",
      "text/plain": [
       "<Figure size 300x300 with 1 Axes>"
      ]
     },
     "metadata": {},
     "output_type": "display_data"
    }
   ],
   "source": [
    "fig, ax = plt.subplots(figsize=(3,3))\n",
    "cars_df[\"mileage\"].hist(bins=50, color=\"green\", alpha=0.8)\n",
    "plt.xlabel(\"Mileage\")\n",
    "plt.ylabel(\"Number of Cars\")\n",
    "plt.title(\"Distribution of Miles Driven\")\n",
    "plt.show()"
   ]
  },
  {
   "cell_type": "markdown",
   "metadata": {},
   "source": [
    "## Plot transformations of mileage column"
   ]
  },
  {
   "cell_type": "code",
   "execution_count": 143,
   "metadata": {
    "execution": {
     "iopub.execute_input": "2023-06-07T20:00:34.471246Z",
     "iopub.status.busy": "2023-06-07T20:00:34.470798Z",
     "iopub.status.idle": "2023-06-07T20:00:34.768156Z",
     "shell.execute_reply": "2023-06-07T20:00:34.767216Z",
     "shell.execute_reply.started": "2023-06-07T20:00:34.471214Z"
    }
   },
   "outputs": [
    {
     "data": {
      "image/png": "[encoded data removed]",
      "text/plain": [
       "<Figure size 300x300 with 1 Axes>"
      ]
     },
     "metadata": {},
     "output_type": "display_data"
    }
   ],
   "source": [
    "sqrt_mileage = (cars_df[\"mileage\"] + 1).apply(np.sqrt)\n",
    "mean_mileage = sqrt_mileage.mean()\n",
    "std_mileage = sqrt_mileage.std()\n",
    "standardized_mileage = (sqrt_mileage - mean_mileage) / std_mileage\n",
    "\n",
    "fig, ax = plt.subplots(figsize=(3,3))\n",
    "standardized_mileage.hist(bins=50, color=\"green\", alpha=0.8)\n",
    "plt.xlabel(\"Transformed Mileage\")\n",
    "plt.ylabel(\"Number of Cars\")\n",
    "plt.title(\"Tranformed Distribution of Miles Driven\")\n",
    "plt.show()"
   ]
  },
  {
   "cell_type": "code",
   "execution_count": 144,
   "metadata": {
    "execution": {
     "iopub.execute_input": "2023-06-07T20:00:40.170717Z",
     "iopub.status.busy": "2023-06-07T20:00:40.169841Z",
     "iopub.status.idle": "2023-06-07T20:00:40.182694Z",
     "shell.execute_reply": "2023-06-07T20:00:40.181391Z",
     "shell.execute_reply.started": "2023-06-07T20:00:40.170675Z"
    }
   },
   "outputs": [],
   "source": [
    "years_quanitites = cars_df[\"year\"].value_counts()\n",
    "year_car_made = years_quanitites.index\n",
    "number_of_cars = years_quanitites.values"
   ]
  },
  {
   "cell_type": "code",
   "execution_count": 145,
   "metadata": {
    "execution": {
     "iopub.execute_input": "2023-06-07T20:00:47.476537Z",
     "iopub.status.busy": "2023-06-07T20:00:47.476140Z",
     "iopub.status.idle": "2023-06-07T20:00:47.779176Z",
     "shell.execute_reply": "2023-06-07T20:00:47.778030Z",
     "shell.execute_reply.started": "2023-06-07T20:00:47.476508Z"
    }
   },
   "outputs": [
    {
     "data": {
      "image/png": "[encoded data removed]",
      "text/plain": [
       "<Figure size 300x300 with 1 Axes>"
      ]
     },
     "metadata": {},
     "output_type": "display_data"
    }
   ],
   "source": [
    "years_quanitites = cars_df[\"year\"].value_counts()\n",
    "year_car_made = years_quanitites.index\n",
    "number_of_cars = years_quanitites.values\n",
    "\n",
    "fig, ax = plt.subplots(figsize=(3,3))\n",
    "ax.bar(x=year_car_made, height=number_of_cars, color=\"red\", alpha=0.5, edgecolor='black')\n",
    "plt.xlabel(\"Year Made\")\n",
    "plt.ylabel(\"Number of Cars\")\n",
    "plt.title(\"Distribution of Year Made\")\n",
    "plt.grid(True)\n",
    "plt.show()"
   ]
  },
  {
   "cell_type": "markdown",
   "metadata": {},
   "source": [
    "## Defining functions for feature engineering and preprocessing for training, validation, and test sets"
   ]
  },
  {
   "cell_type": "code",
   "execution_count": 158,
   "metadata": {
    "execution": {
     "iopub.execute_input": "2023-06-07T20:26:28.200007Z",
     "iopub.status.busy": "2023-06-07T20:26:28.199574Z",
     "iopub.status.idle": "2023-06-07T20:26:28.209038Z",
     "shell.execute_reply": "2023-06-07T20:26:28.208087Z",
     "shell.execute_reply.started": "2023-06-07T20:26:28.199973Z"
    }
   },
   "outputs": [],
   "source": [
    "def train_data_prep_year_column(train_df):\n",
    "    max_year = train_df[\"year\"].max()\n",
    "    train_df[\"year\"] /= max_year\n",
    "    return train_df, max_year\n",
    "\n",
    "def train_data_prep_mileage_column(train_df):\n",
    "    sqrt_mileage = (train_df[\"mileage\"] + 1).apply(np.sqrt)\n",
    "    mean_mileage = sqrt_mileage.mean()\n",
    "    std_mileage = sqrt_mileage.std()\n",
    "    train_df[\"mileage\"] = (train_df[\"mileage\"] - mean_mileage) / std_mileage\n",
    "    return train_df, mean_mileage, std_mileage\n",
    "\n",
    "def valid_test_data_prep_year_column(valid_test_df, max_year):\n",
    "    valid_test_df[\"year\"] /= max_year\n",
    "    return valid_test_df\n",
    "\n",
    "def valid_test_data_prep_mileage_column(valid_test_df, mean_mileage, std_mileage):\n",
    "    valid_test_df[\"mileage\"] = (valid_test_df[\"mileage\"] + 1).apply(np.log)\n",
    "    valid_test_df[\"mileage\"] = (valid_test_df[\"mileage\"] - mean_mileage) / std_mileage\n",
    "    return valid_test_df"
   ]
  },
  {
   "cell_type": "code",
   "execution_count": 159,
   "metadata": {
    "execution": {
     "iopub.execute_input": "2023-06-07T20:26:29.312173Z",
     "iopub.status.busy": "2023-06-07T20:26:29.311345Z",
     "iopub.status.idle": "2023-06-07T20:26:29.320247Z",
     "shell.execute_reply": "2023-06-07T20:26:29.318941Z",
     "shell.execute_reply.started": "2023-06-07T20:26:29.312134Z"
    }
   },
   "outputs": [],
   "source": [
    "# get the names of categorical columns for onehot encoding \n",
    "def get_columns_to_onehot(train_df):\n",
    "    train_columns_to_onehot = train_df.columns\n",
    "    columns_to_onehot = []\n",
    "    total_categories = 0\n",
    "    for car_column in train_columns_to_onehot:\n",
    "        if car_column in [\"price\", \"mileage\", \"year\"]: continue\n",
    "        all_categories = train_df[car_column].value_counts()\n",
    "        print(\"column:\", car_column, 'and number of categories:', len(all_categories))\n",
    "        print(\"----------------------\")\n",
    "        columns_to_onehot.append(car_column)\n",
    "        total_categories += len(all_categories)\n",
    "\n",
    "    print('columns_to_onehot:', columns_to_onehot)\n",
    "    print('total_categories:', total_categories)\n",
    "    return columns_to_onehot"
   ]
  },
  {
   "cell_type": "code",
   "execution_count": 160,
   "metadata": {
    "execution": {
     "iopub.execute_input": "2023-06-07T20:26:30.114535Z",
     "iopub.status.busy": "2023-06-07T20:26:30.114122Z",
     "iopub.status.idle": "2023-06-07T20:26:30.122990Z",
     "shell.execute_reply": "2023-06-07T20:26:30.121681Z",
     "shell.execute_reply.started": "2023-06-07T20:26:30.114502Z"
    }
   },
   "outputs": [],
   "source": [
    "def train_data_columns_to_onehot(train_df, columns_to_onehot, onehot_encoder):\n",
    "\n",
    "    # get the categorical columns\n",
    "    data_for_onehot = train_df[columns_to_onehot]\n",
    "    \n",
    "    # fit Sklearn's OneHotEncoder with fit_transform() to training data\n",
    "    onehot_encoded_data = onehot_encoder.fit_transform(data_for_onehot)\n",
    "\n",
    "    # get the names of all categories that were onehot encoded by Sklearn\n",
    "    onehot_categories = []\n",
    "    for subarray in onehot_encoder.categories_:\n",
    "        onehot_categories += list(subarray)\n",
    "\n",
    "    # create a dataframe out of the onehot encoded columns only\n",
    "    onehot_df = pd.DataFrame(data=onehot_encoded_data.toarray(),\n",
    "                             columns= onehot_categories)\n",
    "\n",
    "    # drop all categorical columns in the train dataframe\n",
    "    category_columns_dropped_df = train_df.drop(columns=columns_to_onehot)\n",
    "    onehot_encoded_train_df = pd.concat([category_columns_dropped_df.reset_index(drop=True), \n",
    "                                         onehot_df.reset_index(drop=True)],\n",
    "                                         axis=1)\n",
    "    \n",
    "    # ensure all columns names are of type str\n",
    "    onehot_encoded_train_df.columns = onehot_encoded_train_df.columns.astype(str)\n",
    "    \n",
    "    return onehot_encoded_train_df, onehot_categories"
   ]
  },
  {
   "cell_type": "code",
   "execution_count": 161,
   "metadata": {
    "execution": {
     "iopub.execute_input": "2023-06-07T20:26:30.910583Z",
     "iopub.status.busy": "2023-06-07T20:26:30.910193Z",
     "iopub.status.idle": "2023-06-07T20:26:30.919178Z",
     "shell.execute_reply": "2023-06-07T20:26:30.917930Z",
     "shell.execute_reply.started": "2023-06-07T20:26:30.910554Z"
    }
   },
   "outputs": [],
   "source": [
    "def valid_test_data_columns_to_onehot(valid_test_df, \n",
    "                                      columns_to_onehot, \n",
    "                                      onehot_categories, \n",
    "                                      onehot_encoder):\n",
    "\n",
    "    # get the categorical columns\n",
    "    data_for_onehot = valid_test_df[columns_to_onehot]\n",
    "    \n",
    "    # apply Sklearn's OneHotEncoder.transform() to already fitted training data\n",
    "    onehot_encoded_data = onehot_encoder.transform(data_for_onehot)\n",
    "\n",
    "    # create a dataframe out of the onehot encoded columns only\n",
    "    onehot_df = pd.DataFrame(data=onehot_encoded_data.toarray(),\n",
    "                             columns=onehot_categories)\n",
    "    \n",
    "    # drop all categorical columns in the valid/test dataframe\n",
    "    category_columns_dropped_df = valid_test_df.drop(columns=columns_to_onehot)\n",
    "    \n",
    "    # join the remaining numerical columns dataframe with onehot encoded dataframe\n",
    "    onehot_encoded_valid_test_df = pd.concat([category_columns_dropped_df.reset_index(drop=True), \n",
    "                                              onehot_df.reset_index(drop=True)],\n",
    "                                             axis=1)\n",
    "    \n",
    "    # ensure all columns names are of type str\n",
    "    onehot_encoded_valid_test_df.columns = onehot_encoded_valid_test_df.columns.astype(str)\n",
    "    \n",
    "    return onehot_encoded_valid_test_df"
   ]
  },
  {
   "cell_type": "code",
   "execution_count": 165,
   "metadata": {
    "execution": {
     "iopub.execute_input": "2023-06-07T20:29:53.716094Z",
     "iopub.status.busy": "2023-06-07T20:29:53.715639Z",
     "iopub.status.idle": "2023-06-07T20:29:53.727268Z",
     "shell.execute_reply": "2023-06-07T20:29:53.726089Z",
     "shell.execute_reply.started": "2023-06-07T20:29:53.716054Z"
    }
   },
   "outputs": [],
   "source": [
    "def full_train_prep(train_df, onehot_encoder):\n",
    "    feature_engineering_params = {}\n",
    "    \n",
    "    # divide year column by max year\n",
    "    train_df_year_transformed, max_year = train_data_prep_year_column(train_df)\n",
    "    feature_engineering_params[\"max_year\"] = max_year\n",
    "    \n",
    "    # apply log and then normalization on mileage column\n",
    "    train_df_mileage_transformed, mean_mileage, std_mileage = train_data_prep_mileage_column(train_df_year_transformed)\n",
    "    feature_engineering_params[\"mean_mileage\"] = mean_mileage\n",
    "    feature_engineering_params[\"std_mileage\"] = std_mileage\n",
    "    \n",
    "    # get the categorical columns to onehot encode\n",
    "    columns_to_onehot = get_columns_to_onehot(train_df_mileage_transformed)\n",
    "    feature_engineering_params[\"columns_to_onehot\"] = columns_to_onehot\n",
    "    \n",
    "    # onehot encode all remaining columns which are categorical\n",
    "    onehot_encoded_train_df, onehot_categories = train_data_columns_to_onehot(train_df_mileage_transformed,\n",
    "                                                                              columns_to_onehot,\n",
    "                                                                              onehot_encoder)\n",
    "    feature_engineering_params[\"onehot_categories\"] = onehot_categories\n",
    "    \n",
    "    # get all the new columns which are all the categories in all categorical columns\n",
    "    all_onehot_encoded_columns = [column for column in onehot_encoded_train_df.columns if column not in [\"year\", \"mileage\"]]\n",
    "    onehot_new_dtype_dict = {}\n",
    "    for column in all_onehot_encoded_columns:\n",
    "        onehot_new_dtype_dict[column] = np.uint8\n",
    "    \n",
    "    feature_engineering_params[\"onehot_new_dtype_dict\"] = onehot_new_dtype_dict\n",
    "    \n",
    "    # change data type of all onehot encoded columns\n",
    "    train_df_onehot_datatypes_changed = onehot_encoded_train_df.astype(dtype=onehot_new_dtype_dict,\n",
    "                                                                       copy=False)\n",
    "    \n",
    "    # change data type of all remaining columns\n",
    "    final_train_df = train_df_onehot_datatypes_changed.astype(dtype={ \"year\": np.float16,\n",
    "                                                                      \"mileage\": np.float16 },\n",
    "                                                              copy=False)\n",
    "    \n",
    "    return final_train_df, feature_engineering_params"
   ]
  },
  {
   "cell_type": "code",
   "execution_count": 163,
   "metadata": {
    "execution": {
     "iopub.execute_input": "2023-06-07T20:26:32.609121Z",
     "iopub.status.busy": "2023-06-07T20:26:32.608431Z",
     "iopub.status.idle": "2023-06-07T20:26:32.618449Z",
     "shell.execute_reply": "2023-06-07T20:26:32.617595Z",
     "shell.execute_reply.started": "2023-06-07T20:26:32.609083Z"
    }
   },
   "outputs": [],
   "source": [
    "def full_valid_test_prep(valid_test_df, feature_engineering_params, onehot_encoder):\n",
    "\n",
    "    # collect all parameters generated by training data\n",
    "    max_year = feature_engineering_params[\"max_year\"]\n",
    "    mean_mileage = feature_engineering_params[\"mean_mileage\"]\n",
    "    std_mileage = feature_engineering_params[\"std_mileage\"]\n",
    "    columns_to_onehot = feature_engineering_params[\"columns_to_onehot\"]\n",
    "    onehot_categories = feature_engineering_params[\"onehot_categories\"]\n",
    "    onehot_new_dtype_dict = feature_engineering_params[\"onehot_new_dtype_dict\"]\n",
    "    \n",
    "    # divide year column by max year\n",
    "    valid_test_df_year_transformed = valid_test_data_prep_year_column(valid_test_df, max_year)\n",
    "    \n",
    "    # apply log and then normalization on mileage column\n",
    "    valid_test_df_mileage_transformed = valid_test_data_prep_mileage_column(valid_test_df_year_transformed,\n",
    "                                                                              mean_mileage, \n",
    "                                                                              std_mileage)\n",
    "    \n",
    "    # onehot encode all remaining columns which are categorical\n",
    "    onehot_encoded_valid_test_df = valid_test_data_columns_to_onehot(valid_test_df_mileage_transformed,\n",
    "                                                                     columns_to_onehot,\n",
    "                                                                     onehot_categories,\n",
    "                                                                     onehot_encoder)\n",
    "\n",
    "    # change data type of all onehot encoded columns\n",
    "    valid_test_df_onehot_datatypes_changed = onehot_encoded_valid_test_df.astype(dtype=onehot_new_dtype_dict,\n",
    "                                                                                 copy=False)\n",
    "    \n",
    "    # change data type of all remaining columns\n",
    "    final_valid_test_df = valid_test_df_onehot_datatypes_changed.astype(dtype={ \"year\": np.float16,\n",
    "                                                                                \"mileage\": np.float16 },\n",
    "                                                                        copy=False)\n",
    "    \n",
    "    return final_valid_test_df"
   ]
  },
  {
   "cell_type": "markdown",
   "metadata": {},
   "source": [
    "## Split data set into training, validation and testing sets"
   ]
  },
  {
   "cell_type": "code",
   "execution_count": 166,
   "metadata": {
    "execution": {
     "iopub.execute_input": "2023-06-07T20:31:41.535654Z",
     "iopub.status.busy": "2023-06-07T20:31:41.535235Z",
     "iopub.status.idle": "2023-06-07T20:31:41.799711Z",
     "shell.execute_reply": "2023-06-07T20:31:41.798102Z",
     "shell.execute_reply.started": "2023-06-07T20:31:41.535622Z"
    }
   },
   "outputs": [
    {
     "name": "stdout",
     "output_type": "stream",
     "text": [
      "train dataset shape: (211910, 13)\n",
      "valid dataset shape: (26488, 13)\n",
      "test dataset shape: (26489, 13)\n"
     ]
    }
   ],
   "source": [
    "train_df = cars_df.sample(frac=0.8, random_state=0)\n",
    "valid_test_df = cars_df.drop(labels=train_df.index)\n",
    "\n",
    "valid_df = valid_test_df.sample(frac=0.5, random_state=0)\n",
    "test_df = valid_test_df.drop(labels=valid_df.index)\n",
    "\n",
    "x_train_df = train_df.drop(columns=[\"log(price)\"])\n",
    "y_train = train_df[\"log(price)\"]\n",
    "\n",
    "x_valid_df = valid_df.drop(columns=[\"log(price)\"])\n",
    "y_valid = valid_df[\"log(price)\"]\n",
    "\n",
    "x_test_df = test_df.drop(columns=[\"log(price)\"])\n",
    "y_test = test_df[\"log(price)\"]\n",
    "\n",
    "print(\"train dataset shape:\", x_train_df.shape)\n",
    "print(\"valid dataset shape:\", x_valid_df.shape)\n",
    "print(\"test dataset shape:\", x_test_df.shape)"
   ]
  },
  {
   "cell_type": "code",
   "execution_count": 164,
   "metadata": {
    "execution": {
     "iopub.execute_input": "2023-06-07T20:28:33.681927Z",
     "iopub.status.busy": "2023-06-07T20:28:33.681520Z",
     "iopub.status.idle": "2023-06-07T20:28:33.688362Z",
     "shell.execute_reply": "2023-06-07T20:28:33.686607Z",
     "shell.execute_reply.started": "2023-06-07T20:28:33.681897Z"
    }
   },
   "outputs": [],
   "source": [
    "# handle_ingnore='ignore' sets all new categories found on unseen data to all zeros\n",
    "onehot_encoder = OneHotEncoder(handle_unknown='ignore')"
   ]
  },
  {
   "cell_type": "code",
   "execution_count": 167,
   "metadata": {
    "execution": {
     "iopub.execute_input": "2023-06-07T20:33:05.233530Z",
     "iopub.status.busy": "2023-06-07T20:33:05.233135Z",
     "iopub.status.idle": "2023-06-07T20:33:08.780771Z",
     "shell.execute_reply": "2023-06-07T20:33:08.779268Z",
     "shell.execute_reply.started": "2023-06-07T20:33:05.233500Z"
    }
   },
   "outputs": [
    {
     "name": "stdout",
     "output_type": "stream",
     "text": [
      "column: manufacturer and number of categories: 40\n",
      "----------------------\n",
      "column: condition and number of categories: 6\n",
      "----------------------\n",
      "column: cylinders and number of categories: 8\n",
      "----------------------\n",
      "column: fuel and number of categories: 5\n",
      "----------------------\n",
      "column: title_status and number of categories: 6\n",
      "----------------------\n",
      "column: transmission and number of categories: 3\n",
      "----------------------\n",
      "column: drive and number of categories: 3\n",
      "----------------------\n",
      "column: size and number of categories: 4\n",
      "----------------------\n",
      "column: type and number of categories: 13\n",
      "----------------------\n",
      "column: paint_color and number of categories: 12\n",
      "----------------------\n",
      "column: state and number of categories: 51\n",
      "----------------------\n",
      "columns_to_onehot: ['manufacturer', 'condition', 'cylinders', 'fuel', 'title_status', 'transmission', 'drive', 'size', 'type', 'paint_color', 'state']\n",
      "total_categories: 151\n",
      "fully prepped train dataset shape: (211910, 161)\n",
      "fully prepped valid dataset shape: (26488, 161)\n",
      "fully prepped test dataset shape: (26489, 161)\n"
     ]
    }
   ],
   "source": [
    "x_train, feature_engineering_params = full_train_prep(train_df=x_train_df, \n",
    "                                                      onehot_encoder=onehot_encoder)\n",
    "\n",
    "x_valid = full_valid_test_prep(valid_test_df=x_valid_df,\n",
    "                               feature_engineering_params=feature_engineering_params,\n",
    "                               onehot_encoder=onehot_encoder)\n",
    "\n",
    "x_test = full_valid_test_prep(valid_test_df=x_test_df,\n",
    "                              feature_engineering_params=feature_engineering_params,\n",
    "                              onehot_encoder=onehot_encoder)\n",
    "\n",
    "print(\"fully prepped train dataset shape:\", x_train.shape)\n",
    "print(\"fully prepped valid dataset shape:\", x_valid.shape)\n",
    "print(\"fully prepped test dataset shape:\", x_test.shape)"
   ]
  },
  {
   "cell_type": "code",
   "execution_count": 168,
   "metadata": {
    "execution": {
     "iopub.execute_input": "2023-06-07T20:33:35.697889Z",
     "iopub.status.busy": "2023-06-07T20:33:35.697090Z",
     "iopub.status.idle": "2023-06-07T20:33:35.715744Z",
     "shell.execute_reply": "2023-06-07T20:33:35.714816Z",
     "shell.execute_reply.started": "2023-06-07T20:33:35.697853Z"
    }
   },
   "outputs": [
    {
     "name": "stdout",
     "output_type": "stream",
     "text": [
      "<class 'pandas.core.frame.DataFrame'>\n",
      "RangeIndex: 211910 entries, 0 to 211909\n",
      "Columns: 161 entries, year to wy\n",
      "dtypes: float16(2), uint8(159)\n",
      "memory usage: 32.9 MB\n"
     ]
    }
   ],
   "source": [
    "x_train.info()"
   ]
  },
  {
   "cell_type": "code",
   "execution_count": 173,
   "metadata": {
    "execution": {
     "iopub.execute_input": "2023-06-07T20:42:33.934051Z",
     "iopub.status.busy": "2023-06-07T20:42:33.933591Z",
     "iopub.status.idle": "2023-06-07T20:42:41.866699Z",
     "shell.execute_reply": "2023-06-07T20:42:41.865577Z",
     "shell.execute_reply.started": "2023-06-07T20:42:33.933994Z"
    }
   },
   "outputs": [
    {
     "data": {
      "text/html": [
       "<style>#sk-container-id-1 {color: black;background-color: white;}#sk-container-id-1 pre{padding: 0;}#sk-container-id-1 div.sk-toggleable {background-color: white;}#sk-container-id-1 label.sk-toggleable__label {cursor: pointer;display: block;width: 100%;margin-bottom: 0;padding: 0.3em;box-sizing: border-box;text-align: center;}#sk-container-id-1 label.sk-toggleable__label-arrow:before {content: \"▸\";float: left;margin-right: 0.25em;color: #696969;}#sk-container-id-1 label.sk-toggleable__label-arrow:hover:before {color: black;}#sk-container-id-1 div.sk-estimator:hover label.sk-toggleable__label-arrow:before {color: black;}#sk-container-id-1 div.sk-toggleable__content {max-height: 0;max-width: 0;overflow: hidden;text-align: left;background-color: #f0f8ff;}#sk-container-id-1 div.sk-toggleable__content pre {margin: 0.2em;color: black;border-radius: 0.25em;background-color: #f0f8ff;}#sk-container-id-1 input.sk-toggleable__control:checked~div.sk-toggleable__content {max-height: 200px;max-width: 100%;overflow: auto;}#sk-container-id-1 input.sk-toggleable__control:checked~label.sk-toggleable__label-arrow:before {content: \"▾\";}#sk-container-id-1 div.sk-estimator input.sk-toggleable__control:checked~label.sk-toggleable__label {background-color: #d4ebff;}#sk-container-id-1 div.sk-label input.sk-toggleable__control:checked~label.sk-toggleable__label {background-color: #d4ebff;}#sk-container-id-1 input.sk-hidden--visually {border: 0;clip: rect(1px 1px 1px 1px);clip: rect(1px, 1px, 1px, 1px);height: 1px;margin: -1px;overflow: hidden;padding: 0;position: absolute;width: 1px;}#sk-container-id-1 div.sk-estimator {font-family: monospace;background-color: #f0f8ff;border: 1px dotted black;border-radius: 0.25em;box-sizing: border-box;margin-bottom: 0.5em;}#sk-container-id-1 div.sk-estimator:hover {background-color: #d4ebff;}#sk-container-id-1 div.sk-parallel-item::after {content: \"\";width: 100%;border-bottom: 1px solid gray;flex-grow: 1;}#sk-container-id-1 div.sk-label:hover label.sk-toggleable__label {background-color: #d4ebff;}#sk-container-id-1 div.sk-serial::before {content: \"\";position: absolute;border-left: 1px solid gray;box-sizing: border-box;top: 0;bottom: 0;left: 50%;z-index: 0;}#sk-container-id-1 div.sk-serial {display: flex;flex-direction: column;align-items: center;background-color: white;padding-right: 0.2em;padding-left: 0.2em;position: relative;}#sk-container-id-1 div.sk-item {position: relative;z-index: 1;}#sk-container-id-1 div.sk-parallel {display: flex;align-items: stretch;justify-content: center;background-color: white;position: relative;}#sk-container-id-1 div.sk-item::before, #sk-container-id-1 div.sk-parallel-item::before {content: \"\";position: absolute;border-left: 1px solid gray;box-sizing: border-box;top: 0;bottom: 0;left: 50%;z-index: -1;}#sk-container-id-1 div.sk-parallel-item {display: flex;flex-direction: column;z-index: 1;position: relative;background-color: white;}#sk-container-id-1 div.sk-parallel-item:first-child::after {align-self: flex-end;width: 50%;}#sk-container-id-1 div.sk-parallel-item:last-child::after {align-self: flex-start;width: 50%;}#sk-container-id-1 div.sk-parallel-item:only-child::after {width: 0;}#sk-container-id-1 div.sk-dashed-wrapped {border: 1px dashed gray;margin: 0 0.4em 0.5em 0.4em;box-sizing: border-box;padding-bottom: 0.4em;background-color: white;}#sk-container-id-1 div.sk-label label {font-family: monospace;font-weight: bold;display: inline-block;line-height: 1.2em;}#sk-container-id-1 div.sk-label-container {text-align: center;}#sk-container-id-1 div.sk-container {/* jupyter's `normalize.less` sets `[hidden] { display: none; }` but bootstrap.min.css set `[hidden] { display: none !important; }` so we also need the `!important` here to be able to override the default hidden behavior on the sphinx rendered scikit-learn.org. See: https://github.com/scikit-learn/scikit-learn/issues/21755 */display: inline-block !important;position: relative;}#sk-container-id-1 div.sk-text-repr-fallback {display: none;}</style><div id=\"sk-container-id-1\" class=\"sk-top-container\"><div class=\"sk-text-repr-fallback\"><pre>DecisionTreeRegressor()</pre><b>In a Jupyter environment, please rerun this cell to show the HTML representation or trust the notebook. <br />On GitHub, the HTML representation is unable to render, please try loading this page with nbviewer.org.</b></div><div class=\"sk-container\" hidden><div class=\"sk-item\"><div class=\"sk-estimator sk-toggleable\"><input class=\"sk-toggleable__control sk-hidden--visually\" id=\"sk-estimator-id-1\" type=\"checkbox\" checked><label for=\"sk-estimator-id-1\" class=\"sk-toggleable__label sk-toggleable__label-arrow\">DecisionTreeRegressor</label><div class=\"sk-toggleable__content\"><pre>DecisionTreeRegressor()</pre></div></div></div></div></div>"
      ],
      "text/plain": [
       "DecisionTreeRegressor()"
      ]
     },
     "execution_count": 173,
     "metadata": {},
     "output_type": "execute_result"
    }
   ],
   "source": [
    "decision_tree = DecisionTreeRegressor()\n",
    "decision_tree.fit(x_train, y_train)"
   ]
  },
  {
   "cell_type": "code",
   "execution_count": 174,
   "metadata": {
    "execution": {
     "iopub.execute_input": "2023-06-07T20:42:41.869409Z",
     "iopub.status.busy": "2023-06-07T20:42:41.868955Z",
     "iopub.status.idle": "2023-06-07T20:42:41.971556Z",
     "shell.execute_reply": "2023-06-07T20:42:41.970749Z",
     "shell.execute_reply.started": "2023-06-07T20:42:41.869368Z"
    }
   },
   "outputs": [
    {
     "data": {
      "text/plain": [
       "array([10.0390625,  9.7421875,  9.046875 , ...,  9.5390625,  8.6796875,\n",
       "       10.7578125])"
      ]
     },
     "execution_count": 174,
     "metadata": {},
     "output_type": "execute_result"
    }
   ],
   "source": [
    "decision_tree_preds_valid_data = decision_tree.predict(x_valid)\n",
    "decision_tree_preds_valid_data"
   ]
  },
  {
   "cell_type": "code",
   "execution_count": 176,
   "metadata": {
    "execution": {
     "iopub.execute_input": "2023-06-07T20:44:23.728274Z",
     "iopub.status.busy": "2023-06-07T20:44:23.727840Z",
     "iopub.status.idle": "2023-06-07T20:46:41.066816Z",
     "shell.execute_reply": "2023-06-07T20:46:41.065508Z",
     "shell.execute_reply.started": "2023-06-07T20:44:23.728241Z"
    }
   },
   "outputs": [
    {
     "name": "stderr",
     "output_type": "stream",
     "text": [
      "[Parallel(n_jobs=1)]: Using backend SequentialBackend with 1 concurrent workers.\n",
      "[Parallel(n_jobs=1)]: Done  30 out of  30 | elapsed:  2.3min finished\n"
     ]
    },
    {
     "data": {
      "text/html": [
       "<style>#sk-container-id-2 {color: black;background-color: white;}#sk-container-id-2 pre{padding: 0;}#sk-container-id-2 div.sk-toggleable {background-color: white;}#sk-container-id-2 label.sk-toggleable__label {cursor: pointer;display: block;width: 100%;margin-bottom: 0;padding: 0.3em;box-sizing: border-box;text-align: center;}#sk-container-id-2 label.sk-toggleable__label-arrow:before {content: \"▸\";float: left;margin-right: 0.25em;color: #696969;}#sk-container-id-2 label.sk-toggleable__label-arrow:hover:before {color: black;}#sk-container-id-2 div.sk-estimator:hover label.sk-toggleable__label-arrow:before {color: black;}#sk-container-id-2 div.sk-toggleable__content {max-height: 0;max-width: 0;overflow: hidden;text-align: left;background-color: #f0f8ff;}#sk-container-id-2 div.sk-toggleable__content pre {margin: 0.2em;color: black;border-radius: 0.25em;background-color: #f0f8ff;}#sk-container-id-2 input.sk-toggleable__control:checked~div.sk-toggleable__content {max-height: 200px;max-width: 100%;overflow: auto;}#sk-container-id-2 input.sk-toggleable__control:checked~label.sk-toggleable__label-arrow:before {content: \"▾\";}#sk-container-id-2 div.sk-estimator input.sk-toggleable__control:checked~label.sk-toggleable__label {background-color: #d4ebff;}#sk-container-id-2 div.sk-label input.sk-toggleable__control:checked~label.sk-toggleable__label {background-color: #d4ebff;}#sk-container-id-2 input.sk-hidden--visually {border: 0;clip: rect(1px 1px 1px 1px);clip: rect(1px, 1px, 1px, 1px);height: 1px;margin: -1px;overflow: hidden;padding: 0;position: absolute;width: 1px;}#sk-container-id-2 div.sk-estimator {font-family: monospace;background-color: #f0f8ff;border: 1px dotted black;border-radius: 0.25em;box-sizing: border-box;margin-bottom: 0.5em;}#sk-container-id-2 div.sk-estimator:hover {background-color: #d4ebff;}#sk-container-id-2 div.sk-parallel-item::after {content: \"\";width: 100%;border-bottom: 1px solid gray;flex-grow: 1;}#sk-container-id-2 div.sk-label:hover label.sk-toggleable__label {background-color: #d4ebff;}#sk-container-id-2 div.sk-serial::before {content: \"\";position: absolute;border-left: 1px solid gray;box-sizing: border-box;top: 0;bottom: 0;left: 50%;z-index: 0;}#sk-container-id-2 div.sk-serial {display: flex;flex-direction: column;align-items: center;background-color: white;padding-right: 0.2em;padding-left: 0.2em;position: relative;}#sk-container-id-2 div.sk-item {position: relative;z-index: 1;}#sk-container-id-2 div.sk-parallel {display: flex;align-items: stretch;justify-content: center;background-color: white;position: relative;}#sk-container-id-2 div.sk-item::before, #sk-container-id-2 div.sk-parallel-item::before {content: \"\";position: absolute;border-left: 1px solid gray;box-sizing: border-box;top: 0;bottom: 0;left: 50%;z-index: -1;}#sk-container-id-2 div.sk-parallel-item {display: flex;flex-direction: column;z-index: 1;position: relative;background-color: white;}#sk-container-id-2 div.sk-parallel-item:first-child::after {align-self: flex-end;width: 50%;}#sk-container-id-2 div.sk-parallel-item:last-child::after {align-self: flex-start;width: 50%;}#sk-container-id-2 div.sk-parallel-item:only-child::after {width: 0;}#sk-container-id-2 div.sk-dashed-wrapped {border: 1px dashed gray;margin: 0 0.4em 0.5em 0.4em;box-sizing: border-box;padding-bottom: 0.4em;background-color: white;}#sk-container-id-2 div.sk-label label {font-family: monospace;font-weight: bold;display: inline-block;line-height: 1.2em;}#sk-container-id-2 div.sk-label-container {text-align: center;}#sk-container-id-2 div.sk-container {/* jupyter's `normalize.less` sets `[hidden] { display: none; }` but bootstrap.min.css set `[hidden] { display: none !important; }` so we also need the `!important` here to be able to override the default hidden behavior on the sphinx rendered scikit-learn.org. See: https://github.com/scikit-learn/scikit-learn/issues/21755 */display: inline-block !important;position: relative;}#sk-container-id-2 div.sk-text-repr-fallback {display: none;}</style><div id=\"sk-container-id-2\" class=\"sk-top-container\"><div class=\"sk-text-repr-fallback\"><pre>RandomForestRegressor(n_estimators=30, verbose=1)</pre><b>In a Jupyter environment, please rerun this cell to show the HTML representation or trust the notebook. <br />On GitHub, the HTML representation is unable to render, please try loading this page with nbviewer.org.</b></div><div class=\"sk-container\" hidden><div class=\"sk-item\"><div class=\"sk-estimator sk-toggleable\"><input class=\"sk-toggleable__control sk-hidden--visually\" id=\"sk-estimator-id-2\" type=\"checkbox\" checked><label for=\"sk-estimator-id-2\" class=\"sk-toggleable__label sk-toggleable__label-arrow\">RandomForestRegressor</label><div class=\"sk-toggleable__content\"><pre>RandomForestRegressor(n_estimators=30, verbose=1)</pre></div></div></div></div></div>"
      ],
      "text/plain": [
       "RandomForestRegressor(n_estimators=30, verbose=1)"
      ]
     },
     "execution_count": 176,
     "metadata": {},
     "output_type": "execute_result"
    }
   ],
   "source": [
    "random_forest = RandomForestRegressor(n_estimators=30, verbose=1)\n",
    "random_forest.fit(x_train, y_train)"
   ]
  },
  {
   "cell_type": "code",
   "execution_count": 177,
   "metadata": {
    "execution": {
     "iopub.execute_input": "2023-06-07T20:46:41.068962Z",
     "iopub.status.busy": "2023-06-07T20:46:41.068653Z",
     "iopub.status.idle": "2023-06-07T20:46:41.373568Z",
     "shell.execute_reply": "2023-06-07T20:46:41.372414Z",
     "shell.execute_reply.started": "2023-06-07T20:46:41.068935Z"
    }
   },
   "outputs": [
    {
     "name": "stderr",
     "output_type": "stream",
     "text": [
      "[Parallel(n_jobs=1)]: Using backend SequentialBackend with 1 concurrent workers.\n",
      "[Parallel(n_jobs=1)]: Done  30 out of  30 | elapsed:    0.2s finished\n"
     ]
    },
    {
     "data": {
      "text/plain": [
       "array([ 9.61223958,  9.35885417,  8.85559896, ...,  9.68098958,\n",
       "        8.92369792, 10.67291667])"
      ]
     },
     "execution_count": 177,
     "metadata": {},
     "output_type": "execute_result"
    }
   ],
   "source": [
    "random_forest_preds_valid_data = random_forest.predict(x_valid)\n",
    "random_forest_preds_valid_data"
   ]
  },
  {
   "cell_type": "code",
   "execution_count": 179,
   "metadata": {
    "execution": {
     "iopub.execute_input": "2023-06-07T20:46:53.847635Z",
     "iopub.status.busy": "2023-06-07T20:46:53.847219Z",
     "iopub.status.idle": "2023-06-07T20:52:31.290520Z",
     "shell.execute_reply": "2023-06-07T20:52:31.289276Z",
     "shell.execute_reply.started": "2023-06-07T20:46:53.847604Z"
    }
   },
   "outputs": [
    {
     "name": "stderr",
     "output_type": "stream",
     "text": [
      "[Parallel(n_jobs=1)]: Using backend SequentialBackend with 1 concurrent workers.\n",
      "[Parallel(n_jobs=1)]: Done  75 out of  75 | elapsed:  5.6min finished\n"
     ]
    },
    {
     "data": {
      "text/html": [
       "<style>#sk-container-id-3 {color: black;background-color: white;}#sk-container-id-3 pre{padding: 0;}#sk-container-id-3 div.sk-toggleable {background-color: white;}#sk-container-id-3 label.sk-toggleable__label {cursor: pointer;display: block;width: 100%;margin-bottom: 0;padding: 0.3em;box-sizing: border-box;text-align: center;}#sk-container-id-3 label.sk-toggleable__label-arrow:before {content: \"▸\";float: left;margin-right: 0.25em;color: #696969;}#sk-container-id-3 label.sk-toggleable__label-arrow:hover:before {color: black;}#sk-container-id-3 div.sk-estimator:hover label.sk-toggleable__label-arrow:before {color: black;}#sk-container-id-3 div.sk-toggleable__content {max-height: 0;max-width: 0;overflow: hidden;text-align: left;background-color: #f0f8ff;}#sk-container-id-3 div.sk-toggleable__content pre {margin: 0.2em;color: black;border-radius: 0.25em;background-color: #f0f8ff;}#sk-container-id-3 input.sk-toggleable__control:checked~div.sk-toggleable__content {max-height: 200px;max-width: 100%;overflow: auto;}#sk-container-id-3 input.sk-toggleable__control:checked~label.sk-toggleable__label-arrow:before {content: \"▾\";}#sk-container-id-3 div.sk-estimator input.sk-toggleable__control:checked~label.sk-toggleable__label {background-color: #d4ebff;}#sk-container-id-3 div.sk-label input.sk-toggleable__control:checked~label.sk-toggleable__label {background-color: #d4ebff;}#sk-container-id-3 input.sk-hidden--visually {border: 0;clip: rect(1px 1px 1px 1px);clip: rect(1px, 1px, 1px, 1px);height: 1px;margin: -1px;overflow: hidden;padding: 0;position: absolute;width: 1px;}#sk-container-id-3 div.sk-estimator {font-family: monospace;background-color: #f0f8ff;border: 1px dotted black;border-radius: 0.25em;box-sizing: border-box;margin-bottom: 0.5em;}#sk-container-id-3 div.sk-estimator:hover {background-color: #d4ebff;}#sk-container-id-3 div.sk-parallel-item::after {content: \"\";width: 100%;border-bottom: 1px solid gray;flex-grow: 1;}#sk-container-id-3 div.sk-label:hover label.sk-toggleable__label {background-color: #d4ebff;}#sk-container-id-3 div.sk-serial::before {content: \"\";position: absolute;border-left: 1px solid gray;box-sizing: border-box;top: 0;bottom: 0;left: 50%;z-index: 0;}#sk-container-id-3 div.sk-serial {display: flex;flex-direction: column;align-items: center;background-color: white;padding-right: 0.2em;padding-left: 0.2em;position: relative;}#sk-container-id-3 div.sk-item {position: relative;z-index: 1;}#sk-container-id-3 div.sk-parallel {display: flex;align-items: stretch;justify-content: center;background-color: white;position: relative;}#sk-container-id-3 div.sk-item::before, #sk-container-id-3 div.sk-parallel-item::before {content: \"\";position: absolute;border-left: 1px solid gray;box-sizing: border-box;top: 0;bottom: 0;left: 50%;z-index: -1;}#sk-container-id-3 div.sk-parallel-item {display: flex;flex-direction: column;z-index: 1;position: relative;background-color: white;}#sk-container-id-3 div.sk-parallel-item:first-child::after {align-self: flex-end;width: 50%;}#sk-container-id-3 div.sk-parallel-item:last-child::after {align-self: flex-start;width: 50%;}#sk-container-id-3 div.sk-parallel-item:only-child::after {width: 0;}#sk-container-id-3 div.sk-dashed-wrapped {border: 1px dashed gray;margin: 0 0.4em 0.5em 0.4em;box-sizing: border-box;padding-bottom: 0.4em;background-color: white;}#sk-container-id-3 div.sk-label label {font-family: monospace;font-weight: bold;display: inline-block;line-height: 1.2em;}#sk-container-id-3 div.sk-label-container {text-align: center;}#sk-container-id-3 div.sk-container {/* jupyter's `normalize.less` sets `[hidden] { display: none; }` but bootstrap.min.css set `[hidden] { display: none !important; }` so we also need the `!important` here to be able to override the default hidden behavior on the sphinx rendered scikit-learn.org. See: https://github.com/scikit-learn/scikit-learn/issues/21755 */display: inline-block !important;position: relative;}#sk-container-id-3 div.sk-text-repr-fallback {display: none;}</style><div id=\"sk-container-id-3\" class=\"sk-top-container\"><div class=\"sk-text-repr-fallback\"><pre>RandomForestRegressor(n_estimators=75, verbose=1)</pre><b>In a Jupyter environment, please rerun this cell to show the HTML representation or trust the notebook. <br />On GitHub, the HTML representation is unable to render, please try loading this page with nbviewer.org.</b></div><div class=\"sk-container\" hidden><div class=\"sk-item\"><div class=\"sk-estimator sk-toggleable\"><input class=\"sk-toggleable__control sk-hidden--visually\" id=\"sk-estimator-id-3\" type=\"checkbox\" checked><label for=\"sk-estimator-id-3\" class=\"sk-toggleable__label sk-toggleable__label-arrow\">RandomForestRegressor</label><div class=\"sk-toggleable__content\"><pre>RandomForestRegressor(n_estimators=75, verbose=1)</pre></div></div></div></div></div>"
      ],
      "text/plain": [
       "RandomForestRegressor(n_estimators=75, verbose=1)"
      ]
     },
     "execution_count": 179,
     "metadata": {},
     "output_type": "execute_result"
    }
   ],
   "source": [
    "bigger_random_forest = RandomForestRegressor(n_estimators=75, verbose=1)\n",
    "bigger_random_forest.fit(x_train, y_train)"
   ]
  },
  {
   "cell_type": "code",
   "execution_count": 180,
   "metadata": {
    "execution": {
     "iopub.execute_input": "2023-06-07T20:52:31.293214Z",
     "iopub.status.busy": "2023-06-07T20:52:31.292773Z",
     "iopub.status.idle": "2023-06-07T20:52:31.880697Z",
     "shell.execute_reply": "2023-06-07T20:52:31.879514Z",
     "shell.execute_reply.started": "2023-06-07T20:52:31.293175Z"
    }
   },
   "outputs": [
    {
     "name": "stderr",
     "output_type": "stream",
     "text": [
      "[Parallel(n_jobs=1)]: Using backend SequentialBackend with 1 concurrent workers.\n",
      "[Parallel(n_jobs=1)]: Done  75 out of  75 | elapsed:    0.5s finished\n"
     ]
    },
    {
     "data": {
      "text/plain": [
       "array([ 9.5565625 ,  9.40177083,  8.89831597, ...,  9.58958333,\n",
       "        9.07510417, 10.70854167])"
      ]
     },
     "execution_count": 180,
     "metadata": {},
     "output_type": "execute_result"
    }
   ],
   "source": [
    "bigger_random_forest_preds_valid_data = bigger_random_forest.predict(x_valid)\n",
    "bigger_random_forest_preds_valid_data"
   ]
  },
  {
   "cell_type": "code",
   "execution_count": 182,
   "metadata": {
    "execution": {
     "iopub.execute_input": "2023-06-07T21:00:45.875902Z",
     "iopub.status.busy": "2023-06-07T21:00:45.875483Z",
     "iopub.status.idle": "2023-06-07T21:02:04.677459Z",
     "shell.execute_reply": "2023-06-07T21:02:04.676416Z",
     "shell.execute_reply.started": "2023-06-07T21:00:45.875863Z"
    }
   },
   "outputs": [
    {
     "data": {
      "text/html": [
       "<style>#sk-container-id-4 {color: black;background-color: white;}#sk-container-id-4 pre{padding: 0;}#sk-container-id-4 div.sk-toggleable {background-color: white;}#sk-container-id-4 label.sk-toggleable__label {cursor: pointer;display: block;width: 100%;margin-bottom: 0;padding: 0.3em;box-sizing: border-box;text-align: center;}#sk-container-id-4 label.sk-toggleable__label-arrow:before {content: \"▸\";float: left;margin-right: 0.25em;color: #696969;}#sk-container-id-4 label.sk-toggleable__label-arrow:hover:before {color: black;}#sk-container-id-4 div.sk-estimator:hover label.sk-toggleable__label-arrow:before {color: black;}#sk-container-id-4 div.sk-toggleable__content {max-height: 0;max-width: 0;overflow: hidden;text-align: left;background-color: #f0f8ff;}#sk-container-id-4 div.sk-toggleable__content pre {margin: 0.2em;color: black;border-radius: 0.25em;background-color: #f0f8ff;}#sk-container-id-4 input.sk-toggleable__control:checked~div.sk-toggleable__content {max-height: 200px;max-width: 100%;overflow: auto;}#sk-container-id-4 input.sk-toggleable__control:checked~label.sk-toggleable__label-arrow:before {content: \"▾\";}#sk-container-id-4 div.sk-estimator input.sk-toggleable__control:checked~label.sk-toggleable__label {background-color: #d4ebff;}#sk-container-id-4 div.sk-label input.sk-toggleable__control:checked~label.sk-toggleable__label {background-color: #d4ebff;}#sk-container-id-4 input.sk-hidden--visually {border: 0;clip: rect(1px 1px 1px 1px);clip: rect(1px, 1px, 1px, 1px);height: 1px;margin: -1px;overflow: hidden;padding: 0;position: absolute;width: 1px;}#sk-container-id-4 div.sk-estimator {font-family: monospace;background-color: #f0f8ff;border: 1px dotted black;border-radius: 0.25em;box-sizing: border-box;margin-bottom: 0.5em;}#sk-container-id-4 div.sk-estimator:hover {background-color: #d4ebff;}#sk-container-id-4 div.sk-parallel-item::after {content: \"\";width: 100%;border-bottom: 1px solid gray;flex-grow: 1;}#sk-container-id-4 div.sk-label:hover label.sk-toggleable__label {background-color: #d4ebff;}#sk-container-id-4 div.sk-serial::before {content: \"\";position: absolute;border-left: 1px solid gray;box-sizing: border-box;top: 0;bottom: 0;left: 50%;z-index: 0;}#sk-container-id-4 div.sk-serial {display: flex;flex-direction: column;align-items: center;background-color: white;padding-right: 0.2em;padding-left: 0.2em;position: relative;}#sk-container-id-4 div.sk-item {position: relative;z-index: 1;}#sk-container-id-4 div.sk-parallel {display: flex;align-items: stretch;justify-content: center;background-color: white;position: relative;}#sk-container-id-4 div.sk-item::before, #sk-container-id-4 div.sk-parallel-item::before {content: \"\";position: absolute;border-left: 1px solid gray;box-sizing: border-box;top: 0;bottom: 0;left: 50%;z-index: -1;}#sk-container-id-4 div.sk-parallel-item {display: flex;flex-direction: column;z-index: 1;position: relative;background-color: white;}#sk-container-id-4 div.sk-parallel-item:first-child::after {align-self: flex-end;width: 50%;}#sk-container-id-4 div.sk-parallel-item:last-child::after {align-self: flex-start;width: 50%;}#sk-container-id-4 div.sk-parallel-item:only-child::after {width: 0;}#sk-container-id-4 div.sk-dashed-wrapped {border: 1px dashed gray;margin: 0 0.4em 0.5em 0.4em;box-sizing: border-box;padding-bottom: 0.4em;background-color: white;}#sk-container-id-4 div.sk-label label {font-family: monospace;font-weight: bold;display: inline-block;line-height: 1.2em;}#sk-container-id-4 div.sk-label-container {text-align: center;}#sk-container-id-4 div.sk-container {/* jupyter's `normalize.less` sets `[hidden] { display: none; }` but bootstrap.min.css set `[hidden] { display: none !important; }` so we also need the `!important` here to be able to override the default hidden behavior on the sphinx rendered scikit-learn.org. See: https://github.com/scikit-learn/scikit-learn/issues/21755 */display: inline-block !important;position: relative;}#sk-container-id-4 div.sk-text-repr-fallback {display: none;}</style><div id=\"sk-container-id-4\" class=\"sk-top-container\"><div class=\"sk-text-repr-fallback\"><pre>XGBRegressor(base_score=None, booster=None, callbacks=None,\n",
       "             colsample_bylevel=None, colsample_bynode=None,\n",
       "             colsample_bytree=None, early_stopping_rounds=None,\n",
       "             enable_categorical=False, eval_metric=None, feature_types=None,\n",
       "             gamma=None, gpu_id=None, grow_policy=None, importance_type=None,\n",
       "             interaction_constraints=None, learning_rate=None, max_bin=None,\n",
       "             max_cat_threshold=None, max_cat_to_onehot=None,\n",
       "             max_delta_step=None, max_depth=None, max_leaves=None,\n",
       "             min_child_weight=None, missing=nan, monotone_constraints=None,\n",
       "             n_estimators=100, n_jobs=None, num_parallel_tree=None,\n",
       "             predictor=None, random_state=None, ...)</pre><b>In a Jupyter environment, please rerun this cell to show the HTML representation or trust the notebook. <br />On GitHub, the HTML representation is unable to render, please try loading this page with nbviewer.org.</b></div><div class=\"sk-container\" hidden><div class=\"sk-item\"><div class=\"sk-estimator sk-toggleable\"><input class=\"sk-toggleable__control sk-hidden--visually\" id=\"sk-estimator-id-4\" type=\"checkbox\" checked><label for=\"sk-estimator-id-4\" class=\"sk-toggleable__label sk-toggleable__label-arrow\">XGBRegressor</label><div class=\"sk-toggleable__content\"><pre>XGBRegressor(base_score=None, booster=None, callbacks=None,\n",
       "             colsample_bylevel=None, colsample_bynode=None,\n",
       "             colsample_bytree=None, early_stopping_rounds=None,\n",
       "             enable_categorical=False, eval_metric=None, feature_types=None,\n",
       "             gamma=None, gpu_id=None, grow_policy=None, importance_type=None,\n",
       "             interaction_constraints=None, learning_rate=None, max_bin=None,\n",
       "             max_cat_threshold=None, max_cat_to_onehot=None,\n",
       "             max_delta_step=None, max_depth=None, max_leaves=None,\n",
       "             min_child_weight=None, missing=nan, monotone_constraints=None,\n",
       "             n_estimators=100, n_jobs=None, num_parallel_tree=None,\n",
       "             predictor=None, random_state=None, ...)</pre></div></div></div></div></div>"
      ],
      "text/plain": [
       "XGBRegressor(base_score=None, booster=None, callbacks=None,\n",
       "             colsample_bylevel=None, colsample_bynode=None,\n",
       "             colsample_bytree=None, early_stopping_rounds=None,\n",
       "             enable_categorical=False, eval_metric=None, feature_types=None,\n",
       "             gamma=None, gpu_id=None, grow_policy=None, importance_type=None,\n",
       "             interaction_constraints=None, learning_rate=None, max_bin=None,\n",
       "             max_cat_threshold=None, max_cat_to_onehot=None,\n",
       "             max_delta_step=None, max_depth=None, max_leaves=None,\n",
       "             min_child_weight=None, missing=nan, monotone_constraints=None,\n",
       "             n_estimators=100, n_jobs=None, num_parallel_tree=None,\n",
       "             predictor=None, random_state=None, ...)"
      ]
     },
     "execution_count": 182,
     "metadata": {},
     "output_type": "execute_result"
    }
   ],
   "source": [
    "xgboost = XGBRegressor()\n",
    "xgboost.fit(np.array(x_train), np.array(y_train))"
   ]
  },
  {
   "cell_type": "code",
   "execution_count": 183,
   "metadata": {
    "execution": {
     "iopub.execute_input": "2023-06-07T21:02:04.679791Z",
     "iopub.status.busy": "2023-06-07T21:02:04.679342Z",
     "iopub.status.idle": "2023-06-07T21:02:04.800706Z",
     "shell.execute_reply": "2023-06-07T21:02:04.799513Z",
     "shell.execute_reply.started": "2023-06-07T21:02:04.679759Z"
    }
   },
   "outputs": [
    {
     "data": {
      "text/plain": [
       "array([ 9.570213,  9.613693,  9.273147, ...,  9.830841,  8.958197,\n",
       "       11.016733], dtype=float32)"
      ]
     },
     "execution_count": 183,
     "metadata": {},
     "output_type": "execute_result"
    }
   ],
   "source": [
    "xgboost_preds_valid_data = xgboost.predict(x_valid)\n",
    "xgboost_preds_valid_data"
   ]
  },
  {
   "cell_type": "markdown",
   "metadata": {},
   "source": [
    "## Neural networks"
   ]
  },
  {
   "cell_type": "code",
   "execution_count": 226,
   "metadata": {
    "execution": {
     "iopub.execute_input": "2023-06-07T21:33:56.286775Z",
     "iopub.status.busy": "2023-06-07T21:33:56.286234Z",
     "iopub.status.idle": "2023-06-07T21:33:56.296173Z",
     "shell.execute_reply": "2023-06-07T21:33:56.294706Z",
     "shell.execute_reply.started": "2023-06-07T21:33:56.286731Z"
    }
   },
   "outputs": [],
   "source": [
    "def neural_network_1(input_shape=x_train.shape[1:], name=\"ann_model_1\"):\n",
    "    _inputs = tf.keras.layers.Input(shape=(input_shape))\n",
    "    hidden_layer1 = tf.keras.layers.Dense(units=100, activation=\"relu\")\n",
    "    hidden_layer2 = tf.keras.layers.Dense(units=100, activation=\"relu\")\n",
    "    hidden_layer3 = tf.keras.layers.Dense(units=100, activation=\"relu\")\n",
    "    output_layer = tf.keras.layers.Dense(units=1)\n",
    "    \n",
    "    hidden1 = hidden_layer1(_inputs)\n",
    "    hidden2 = hidden_layer2(hidden1)\n",
    "    hidden3 = hidden_layer3(hidden2)\n",
    "    outputs = output_layer(hidden3)\n",
    "    \n",
    "    model = tf.keras.Model(inputs=_inputs, outputs=outputs, name=name)\n",
    "    \n",
    "    return model"
   ]
  },
  {
   "cell_type": "code",
   "execution_count": 227,
   "metadata": {
    "execution": {
     "iopub.execute_input": "2023-06-07T21:33:56.677536Z",
     "iopub.status.busy": "2023-06-07T21:33:56.677129Z",
     "iopub.status.idle": "2023-06-07T21:33:56.686901Z",
     "shell.execute_reply": "2023-06-07T21:33:56.685843Z",
     "shell.execute_reply.started": "2023-06-07T21:33:56.677498Z"
    }
   },
   "outputs": [],
   "source": [
    "def neural_network_2(input_shape=x_train.shape[1:], name=\"ann_model_2\"):\n",
    "    _inputs = tf.keras.layers.Input(shape=input_shape)\n",
    "    hidden_layer1 = tf.keras.layers.Dense(units=100, activation=\"leaky_relu\")\n",
    "    hidden_layer2 = tf.keras.layers.Dense(units=300, activation=\"leaky_relu\")\n",
    "    hidden_layer3 = tf.keras.layers.Dense(units=500, activation=\"leaky_relu\")\n",
    "    hidden_layer4 = tf.keras.layers.Dense(units=300, activation=\"leaky_relu\")\n",
    "    hidden_layer5 = tf.keras.layers.Dense(units=100, activation=\"leaky_relu\")\n",
    "    output_layer = tf.keras.layers.Dense(units=1)\n",
    "    \n",
    "    hidden1 = hidden_layer1(_inputs)\n",
    "    hidden2 = hidden_layer2(hidden1)\n",
    "    hidden3 = hidden_layer3(hidden2)\n",
    "    hidden4 = hidden_layer4(hidden3)\n",
    "    hidden5 = hidden_layer5(hidden4)\n",
    "    outputs = output_layer(hidden5)\n",
    "    \n",
    "    model = tf.keras.Model(inputs=_inputs, outputs=outputs, name=name)\n",
    "    \n",
    "    return model"
   ]
  },
  {
   "cell_type": "code",
   "execution_count": 244,
   "metadata": {
    "execution": {
     "iopub.execute_input": "2023-06-07T22:44:04.641194Z",
     "iopub.status.busy": "2023-06-07T22:44:04.640159Z",
     "iopub.status.idle": "2023-06-07T22:44:04.655059Z",
     "shell.execute_reply": "2023-06-07T22:44:04.653753Z",
     "shell.execute_reply.started": "2023-06-07T22:44:04.641152Z"
    }
   },
   "outputs": [],
   "source": [
    "def neural_network_3(input_shape=x_train.shape[1:], name=\"ann_model_3\"):\n",
    "    # define layers\n",
    "    _inputs = tf.keras.layers.Input(shape=input_shape)\n",
    "    \n",
    "    hidden_layer1 = tf.keras.layers.Dense(units=300, activation=\"leaky_relu\")\n",
    "    dropout_layer1 = tf.keras.layers.Dropout(rate=0.5)\n",
    "    batchnorm_layer1 = tf.keras.layers.BatchNormalization()\n",
    "    \n",
    "    hidden_layer2 = tf.keras.layers.Dense(units=500, activation=\"leaky_relu\")\n",
    "    dropout_layer2 = tf.keras.layers.Dropout(rate=0.5)\n",
    "    batchnorm_layer2 = tf.keras.layers.BatchNormalization()\n",
    "    \n",
    "    hidden_layer3 = tf.keras.layers.Dense(units=500, activation=\"leaky_relu\")\n",
    "    dropout_layer3 = tf.keras.layers.Dropout(rate=0.5)\n",
    "    batchnorm_layer3 = tf.keras.layers.BatchNormalization()\n",
    "    \n",
    "    hidden_layer4 = tf.keras.layers.Dense(units=500, activation=\"leaky_relu\")\n",
    "    dropout_layer4 = tf.keras.layers.Dropout(rate=0.5)\n",
    "    batchnorm_layer4 = tf.keras.layers.BatchNormalization()\n",
    "    \n",
    "    hidden_layer5 = tf.keras.layers.Dense(units=500, activation=\"leaky_relu\")\n",
    "    output_layer = tf.keras.layers.Dense(units=1)\n",
    "    \n",
    "    # activate layers\n",
    "    hidden1 = hidden_layer1(_inputs)\n",
    "    dropout1 = dropout_layer1(hidden1)\n",
    "    batchnorm1 = batchnorm_layer1(dropout1)\n",
    "    \n",
    "    hidden2 = hidden_layer2(batchnorm1)\n",
    "    dropout2 = dropout_layer2(hidden2)\n",
    "    batchnorm2 = batchnorm_layer2(dropout2)\n",
    "    \n",
    "    hidden3 = hidden_layer3(batchnorm2)\n",
    "    dropout3 = dropout_layer3(hidden3)\n",
    "    batchnorm3 = batchnorm_layer3(dropout3)\n",
    "    \n",
    "    hidden4 = hidden_layer4(batchnorm3)\n",
    "    dropout4 = dropout_layer4(hidden4)\n",
    "    batchnorm4 = batchnorm_layer4(dropout4)\n",
    "    \n",
    "    hidden5 = hidden_layer5(batchnorm4)\n",
    "    \n",
    "    outputs = output_layer(hidden5)\n",
    "    \n",
    "    model = tf.keras.Model(inputs=_inputs, outputs=outputs, name=name)\n",
    "    \n",
    "    return model"
   ]
  },
  {
   "cell_type": "code",
   "execution_count": 232,
   "metadata": {
    "execution": {
     "iopub.execute_input": "2023-06-07T21:34:31.601635Z",
     "iopub.status.busy": "2023-06-07T21:34:31.601204Z",
     "iopub.status.idle": "2023-06-07T21:34:31.675047Z",
     "shell.execute_reply": "2023-06-07T21:34:31.674004Z",
     "shell.execute_reply.started": "2023-06-07T21:34:31.601600Z"
    }
   },
   "outputs": [
    {
     "name": "stdout",
     "output_type": "stream",
     "text": [
      "Model: \"ann_model_1\"\n",
      "_________________________________________________________________\n",
      " Layer (type)                Output Shape              Param #   \n",
      "=================================================================\n",
      " input_21 (InputLayer)       [(None, 161)]             0         \n",
      "                                                                 \n",
      " dense_112 (Dense)           (None, 100)               16200     \n",
      "                                                                 \n",
      " dense_113 (Dense)           (None, 100)               10100     \n",
      "                                                                 \n",
      " dense_114 (Dense)           (None, 100)               10100     \n",
      "                                                                 \n",
      " dense_115 (Dense)           (None, 1)                 101       \n",
      "                                                                 \n",
      "=================================================================\n",
      "Total params: 36,501\n",
      "Trainable params: 36,501\n",
      "Non-trainable params: 0\n",
      "_________________________________________________________________\n"
     ]
    }
   ],
   "source": [
    "ann_model_1 = neural_network_1()\n",
    "ann_model_1.summary()"
   ]
  },
  {
   "cell_type": "code",
   "execution_count": 233,
   "metadata": {
    "execution": {
     "iopub.execute_input": "2023-06-07T21:34:32.029761Z",
     "iopub.status.busy": "2023-06-07T21:34:32.029373Z",
     "iopub.status.idle": "2023-06-07T21:34:32.138593Z",
     "shell.execute_reply": "2023-06-07T21:34:32.137443Z",
     "shell.execute_reply.started": "2023-06-07T21:34:32.029730Z"
    }
   },
   "outputs": [
    {
     "name": "stdout",
     "output_type": "stream",
     "text": [
      "Model: \"ann_model_2\"\n",
      "_________________________________________________________________\n",
      " Layer (type)                Output Shape              Param #   \n",
      "=================================================================\n",
      " input_22 (InputLayer)       [(None, 161)]             0         \n",
      "                                                                 \n",
      " dense_116 (Dense)           (None, 100)               16200     \n",
      "                                                                 \n",
      " dense_117 (Dense)           (None, 300)               30300     \n",
      "                                                                 \n",
      " dense_118 (Dense)           (None, 500)               150500    \n",
      "                                                                 \n",
      " dense_119 (Dense)           (None, 300)               150300    \n",
      "                                                                 \n",
      " dense_120 (Dense)           (None, 100)               30100     \n",
      "                                                                 \n",
      " dense_121 (Dense)           (None, 1)                 101       \n",
      "                                                                 \n",
      "=================================================================\n",
      "Total params: 377,501\n",
      "Trainable params: 377,501\n",
      "Non-trainable params: 0\n",
      "_________________________________________________________________\n"
     ]
    }
   ],
   "source": [
    "ann_model_2 = neural_network_2()\n",
    "ann_model_2.summary()"
   ]
  },
  {
   "cell_type": "code",
   "execution_count": 245,
   "metadata": {
    "execution": {
     "iopub.execute_input": "2023-06-07T22:44:07.571232Z",
     "iopub.status.busy": "2023-06-07T22:44:07.570826Z",
     "iopub.status.idle": "2023-06-07T22:44:07.793652Z",
     "shell.execute_reply": "2023-06-07T22:44:07.792643Z",
     "shell.execute_reply.started": "2023-06-07T22:44:07.571202Z"
    }
   },
   "outputs": [
    {
     "name": "stdout",
     "output_type": "stream",
     "text": [
      "Model: \"ann_model_3\"\n",
      "_________________________________________________________________\n",
      " Layer (type)                Output Shape              Param #   \n",
      "=================================================================\n",
      " input_26 (InputLayer)       [(None, 161)]             0         \n",
      "                                                                 \n",
      " dense_140 (Dense)           (None, 300)               48600     \n",
      "                                                                 \n",
      " dropout_48 (Dropout)        (None, 300)               0         \n",
      "                                                                 \n",
      " batch_normalization_48 (Bat  (None, 300)              1200      \n",
      " chNormalization)                                                \n",
      "                                                                 \n",
      " dense_141 (Dense)           (None, 500)               150500    \n",
      "                                                                 \n",
      " dropout_49 (Dropout)        (None, 500)               0         \n",
      "                                                                 \n",
      " batch_normalization_49 (Bat  (None, 500)              2000      \n",
      " chNormalization)                                                \n",
      "                                                                 \n",
      " dense_142 (Dense)           (None, 500)               250500    \n",
      "                                                                 \n",
      " dropout_50 (Dropout)        (None, 500)               0         \n",
      "                                                                 \n",
      " batch_normalization_50 (Bat  (None, 500)              2000      \n",
      " chNormalization)                                                \n",
      "                                                                 \n",
      " dense_143 (Dense)           (None, 500)               250500    \n",
      "                                                                 \n",
      " dropout_51 (Dropout)        (None, 500)               0         \n",
      "                                                                 \n",
      " batch_normalization_51 (Bat  (None, 500)              2000      \n",
      " chNormalization)                                                \n",
      "                                                                 \n",
      " dense_144 (Dense)           (None, 500)               250500    \n",
      "                                                                 \n",
      " dense_145 (Dense)           (None, 1)                 501       \n",
      "                                                                 \n",
      "=================================================================\n",
      "Total params: 958,301\n",
      "Trainable params: 954,701\n",
      "Non-trainable params: 3,600\n",
      "_________________________________________________________________\n"
     ]
    }
   ],
   "source": [
    "ann_model_3 = neural_network_3()\n",
    "ann_model_3.summary()"
   ]
  },
  {
   "cell_type": "code",
   "execution_count": 238,
   "metadata": {
    "execution": {
     "iopub.execute_input": "2023-06-07T21:37:17.144641Z",
     "iopub.status.busy": "2023-06-07T21:37:17.143697Z",
     "iopub.status.idle": "2023-06-07T22:03:40.737703Z",
     "shell.execute_reply": "2023-06-07T22:03:40.736435Z",
     "shell.execute_reply.started": "2023-06-07T21:37:17.144595Z"
    }
   },
   "outputs": [
    {
     "name": "stdout",
     "output_type": "stream",
     "text": [
      "Epoch 1/100\n",
      "6623/6623 [==============================] - 17s 2ms/step - loss: 3.4564 - mse: 3.4564 - val_loss: 0.3351 - val_mse: 0.3351\n",
      "Epoch 2/100\n",
      "6623/6623 [==============================] - 15s 2ms/step - loss: 0.2749 - mse: 0.2749 - val_loss: 0.3755 - val_mse: 0.3755\n",
      "Epoch 3/100\n",
      "6623/6623 [==============================] - 15s 2ms/step - loss: 0.1997 - mse: 0.1997 - val_loss: 0.3557 - val_mse: 0.3557\n",
      "Epoch 4/100\n",
      "6623/6623 [==============================] - 16s 2ms/step - loss: 0.1733 - mse: 0.1733 - val_loss: 0.5115 - val_mse: 0.5115\n",
      "Epoch 5/100\n",
      "6623/6623 [==============================] - 16s 2ms/step - loss: 0.1611 - mse: 0.1611 - val_loss: 0.3977 - val_mse: 0.3977\n",
      "Epoch 6/100\n",
      "6623/6623 [==============================] - 15s 2ms/step - loss: 0.1520 - mse: 0.1520 - val_loss: 0.3571 - val_mse: 0.3571\n",
      "Epoch 7/100\n",
      "6623/6623 [==============================] - 15s 2ms/step - loss: 0.1464 - mse: 0.1464 - val_loss: 0.4002 - val_mse: 0.4002\n",
      "Epoch 8/100\n",
      "6623/6623 [==============================] - 15s 2ms/step - loss: 0.1411 - mse: 0.1411 - val_loss: 0.3793 - val_mse: 0.3793\n",
      "Epoch 9/100\n",
      "6623/6623 [==============================] - 15s 2ms/step - loss: 0.1388 - mse: 0.1388 - val_loss: 0.4212 - val_mse: 0.4212\n",
      "Epoch 10/100\n",
      "6623/6623 [==============================] - 15s 2ms/step - loss: 0.1368 - mse: 0.1368 - val_loss: 0.5471 - val_mse: 0.5471\n",
      "Epoch 11/100\n",
      "6623/6623 [==============================] - 15s 2ms/step - loss: 0.1341 - mse: 0.1341 - val_loss: 0.4313 - val_mse: 0.4313\n",
      "Epoch 12/100\n",
      "6623/6623 [==============================] - 15s 2ms/step - loss: 0.1323 - mse: 0.1323 - val_loss: 0.5745 - val_mse: 0.5745\n",
      "Epoch 13/100\n",
      "6623/6623 [==============================] - 15s 2ms/step - loss: 0.1298 - mse: 0.1298 - val_loss: 0.4681 - val_mse: 0.4681\n",
      "Epoch 14/100\n",
      "6623/6623 [==============================] - 15s 2ms/step - loss: 0.1287 - mse: 0.1287 - val_loss: 0.5896 - val_mse: 0.5896\n",
      "Epoch 15/100\n",
      "6623/6623 [==============================] - 15s 2ms/step - loss: 0.1282 - mse: 0.1282 - val_loss: 0.5222 - val_mse: 0.5222\n",
      "Epoch 16/100\n",
      "6623/6623 [==============================] - 15s 2ms/step - loss: 0.1269 - mse: 0.1269 - val_loss: 0.5918 - val_mse: 0.5918\n",
      "Epoch 17/100\n",
      "6623/6623 [==============================] - 15s 2ms/step - loss: 0.1260 - mse: 0.1260 - val_loss: 0.6062 - val_mse: 0.6062\n",
      "Epoch 18/100\n",
      "6623/6623 [==============================] - 15s 2ms/step - loss: 0.1256 - mse: 0.1256 - val_loss: 0.6090 - val_mse: 0.6090\n",
      "Epoch 19/100\n",
      "6623/6623 [==============================] - 15s 2ms/step - loss: 0.1243 - mse: 0.1243 - val_loss: 0.5394 - val_mse: 0.5394\n",
      "Epoch 20/100\n",
      "6623/6623 [==============================] - 15s 2ms/step - loss: 0.1234 - mse: 0.1234 - val_loss: 0.5784 - val_mse: 0.5784\n",
      "Epoch 21/100\n",
      "6623/6623 [==============================] - 15s 2ms/step - loss: 0.1237 - mse: 0.1237 - val_loss: 0.5392 - val_mse: 0.5392\n",
      "Epoch 22/100\n",
      "6623/6623 [==============================] - 15s 2ms/step - loss: 0.1232 - mse: 0.1232 - val_loss: 0.5493 - val_mse: 0.5493\n",
      "Epoch 23/100\n",
      "6623/6623 [==============================] - 15s 2ms/step - loss: 0.1223 - mse: 0.1223 - val_loss: 0.5841 - val_mse: 0.5841\n",
      "Epoch 24/100\n",
      "6623/6623 [==============================] - 15s 2ms/step - loss: 0.1218 - mse: 0.1218 - val_loss: 0.5533 - val_mse: 0.5533\n",
      "Epoch 25/100\n",
      "6623/6623 [==============================] - 15s 2ms/step - loss: 0.1222 - mse: 0.1222 - val_loss: 0.5897 - val_mse: 0.5897\n",
      "Epoch 26/100\n",
      "6623/6623 [==============================] - 15s 2ms/step - loss: 0.1221 - mse: 0.1221 - val_loss: 0.6135 - val_mse: 0.6135\n",
      "Epoch 27/100\n",
      "6623/6623 [==============================] - 15s 2ms/step - loss: 0.1218 - mse: 0.1218 - val_loss: 0.5651 - val_mse: 0.5651\n",
      "Epoch 28/100\n",
      "6623/6623 [==============================] - 16s 2ms/step - loss: 0.1206 - mse: 0.1206 - val_loss: 0.5788 - val_mse: 0.5788\n",
      "Epoch 29/100\n",
      "6623/6623 [==============================] - 15s 2ms/step - loss: 0.1204 - mse: 0.1204 - val_loss: 0.6495 - val_mse: 0.6495\n",
      "Epoch 30/100\n",
      "6623/6623 [==============================] - 15s 2ms/step - loss: 0.1200 - mse: 0.1200 - val_loss: 0.5750 - val_mse: 0.5750\n",
      "Epoch 31/100\n",
      "6623/6623 [==============================] - 16s 2ms/step - loss: 0.1200 - mse: 0.1200 - val_loss: 0.5724 - val_mse: 0.5724\n",
      "Epoch 32/100\n",
      "6623/6623 [==============================] - 15s 2ms/step - loss: 0.1193 - mse: 0.1193 - val_loss: 0.6608 - val_mse: 0.6608\n",
      "Epoch 33/100\n",
      "6623/6623 [==============================] - 15s 2ms/step - loss: 0.1188 - mse: 0.1188 - val_loss: 0.6610 - val_mse: 0.6610\n",
      "Epoch 34/100\n",
      "6623/6623 [==============================] - 15s 2ms/step - loss: 0.1191 - mse: 0.1191 - val_loss: 0.5923 - val_mse: 0.5923\n",
      "Epoch 35/100\n",
      "6623/6623 [==============================] - 16s 2ms/step - loss: 0.1191 - mse: 0.1191 - val_loss: 0.6654 - val_mse: 0.6654\n",
      "Epoch 36/100\n",
      "6623/6623 [==============================] - 16s 2ms/step - loss: 0.1182 - mse: 0.1182 - val_loss: 0.5807 - val_mse: 0.5807\n",
      "Epoch 37/100\n",
      "6623/6623 [==============================] - 16s 2ms/step - loss: 0.1192 - mse: 0.1192 - val_loss: 0.5690 - val_mse: 0.5690\n",
      "Epoch 38/100\n",
      "6623/6623 [==============================] - 16s 2ms/step - loss: 0.1177 - mse: 0.1177 - val_loss: 0.6029 - val_mse: 0.6029\n",
      "Epoch 39/100\n",
      "6623/6623 [==============================] - 16s 2ms/step - loss: 0.1179 - mse: 0.1179 - val_loss: 0.6568 - val_mse: 0.6568\n",
      "Epoch 40/100\n",
      "6623/6623 [==============================] - 15s 2ms/step - loss: 0.1174 - mse: 0.1174 - val_loss: 0.6220 - val_mse: 0.6220\n",
      "Epoch 41/100\n",
      "6623/6623 [==============================] - 15s 2ms/step - loss: 0.1172 - mse: 0.1172 - val_loss: 0.5649 - val_mse: 0.5649\n",
      "Epoch 42/100\n",
      "6623/6623 [==============================] - 15s 2ms/step - loss: 0.1177 - mse: 0.1177 - val_loss: 0.5780 - val_mse: 0.5780\n",
      "Epoch 43/100\n",
      "6623/6623 [==============================] - 16s 2ms/step - loss: 0.1171 - mse: 0.1171 - val_loss: 0.6812 - val_mse: 0.6812\n",
      "Epoch 44/100\n",
      "6623/6623 [==============================] - 15s 2ms/step - loss: 0.1165 - mse: 0.1165 - val_loss: 0.6367 - val_mse: 0.6367\n",
      "Epoch 45/100\n",
      "6623/6623 [==============================] - 15s 2ms/step - loss: 0.1160 - mse: 0.1160 - val_loss: 0.6315 - val_mse: 0.6315\n",
      "Epoch 46/100\n",
      "6623/6623 [==============================] - 15s 2ms/step - loss: 0.1165 - mse: 0.1165 - val_loss: 0.6465 - val_mse: 0.6465\n",
      "Epoch 47/100\n",
      "6623/6623 [==============================] - 15s 2ms/step - loss: 0.1158 - mse: 0.1158 - val_loss: 0.6973 - val_mse: 0.6973\n",
      "Epoch 48/100\n",
      "6623/6623 [==============================] - 16s 2ms/step - loss: 0.1161 - mse: 0.1161 - val_loss: 0.5614 - val_mse: 0.5614\n",
      "Epoch 49/100\n",
      "6623/6623 [==============================] - 16s 2ms/step - loss: 0.1159 - mse: 0.1159 - val_loss: 0.5759 - val_mse: 0.5759\n",
      "Epoch 50/100\n",
      "6623/6623 [==============================] - 15s 2ms/step - loss: 0.1158 - mse: 0.1158 - val_loss: 0.5928 - val_mse: 0.5928\n",
      "Epoch 51/100\n",
      "6623/6623 [==============================] - 16s 2ms/step - loss: 0.1156 - mse: 0.1156 - val_loss: 0.6077 - val_mse: 0.6077\n",
      "Epoch 52/100\n",
      "6623/6623 [==============================] - 16s 2ms/step - loss: 0.1153 - mse: 0.1153 - val_loss: 0.5284 - val_mse: 0.5284\n",
      "Epoch 53/100\n",
      "6623/6623 [==============================] - 15s 2ms/step - loss: 0.1146 - mse: 0.1146 - val_loss: 0.5706 - val_mse: 0.5706\n",
      "Epoch 54/100\n",
      "6623/6623 [==============================] - 15s 2ms/step - loss: 0.1153 - mse: 0.1153 - val_loss: 0.5946 - val_mse: 0.5946\n",
      "Epoch 55/100\n",
      "6623/6623 [==============================] - 16s 2ms/step - loss: 0.1150 - mse: 0.1150 - val_loss: 0.6738 - val_mse: 0.6738\n",
      "Epoch 56/100\n",
      "6623/6623 [==============================] - 15s 2ms/step - loss: 0.1146 - mse: 0.1146 - val_loss: 0.5874 - val_mse: 0.5874\n",
      "Epoch 57/100\n",
      "6623/6623 [==============================] - 16s 2ms/step - loss: 0.1142 - mse: 0.1142 - val_loss: 0.5592 - val_mse: 0.5592\n",
      "Epoch 58/100\n",
      "6623/6623 [==============================] - 15s 2ms/step - loss: 0.1142 - mse: 0.1142 - val_loss: 0.6363 - val_mse: 0.6363\n",
      "Epoch 59/100\n",
      "6623/6623 [==============================] - 15s 2ms/step - loss: 0.1158 - mse: 0.1158 - val_loss: 0.6499 - val_mse: 0.6499\n",
      "Epoch 60/100\n",
      "6623/6623 [==============================] - 15s 2ms/step - loss: 0.1139 - mse: 0.1139 - val_loss: 0.6737 - val_mse: 0.6737\n",
      "Epoch 61/100\n",
      "6623/6623 [==============================] - 16s 2ms/step - loss: 0.1143 - mse: 0.1143 - val_loss: 0.6229 - val_mse: 0.6229\n",
      "Epoch 62/100\n",
      "6623/6623 [==============================] - 15s 2ms/step - loss: 0.1141 - mse: 0.1141 - val_loss: 0.6362 - val_mse: 0.6362\n",
      "Epoch 63/100\n",
      "6623/6623 [==============================] - 15s 2ms/step - loss: 0.1137 - mse: 0.1137 - val_loss: 0.6130 - val_mse: 0.6130\n",
      "Epoch 64/100\n",
      "6623/6623 [==============================] - 15s 2ms/step - loss: 0.1142 - mse: 0.1142 - val_loss: 0.6306 - val_mse: 0.6306\n",
      "Epoch 65/100\n",
      "6623/6623 [==============================] - 16s 2ms/step - loss: 0.1135 - mse: 0.1135 - val_loss: 0.5626 - val_mse: 0.5626\n",
      "Epoch 66/100\n",
      "6623/6623 [==============================] - 16s 2ms/step - loss: 0.1138 - mse: 0.1138 - val_loss: 0.6609 - val_mse: 0.6609\n",
      "Epoch 67/100\n",
      "6623/6623 [==============================] - 15s 2ms/step - loss: 0.1134 - mse: 0.1134 - val_loss: 0.6796 - val_mse: 0.6796\n",
      "Epoch 68/100\n",
      "6623/6623 [==============================] - 15s 2ms/step - loss: 0.1132 - mse: 0.1132 - val_loss: 0.6715 - val_mse: 0.6715\n",
      "Epoch 69/100\n",
      "6623/6623 [==============================] - 15s 2ms/step - loss: 0.1134 - mse: 0.1134 - val_loss: 0.7352 - val_mse: 0.7352\n",
      "Epoch 70/100\n",
      "6623/6623 [==============================] - 15s 2ms/step - loss: 0.1130 - mse: 0.1130 - val_loss: 0.6506 - val_mse: 0.6506\n",
      "Epoch 71/100\n",
      "6623/6623 [==============================] - 15s 2ms/step - loss: 0.1125 - mse: 0.1125 - val_loss: 0.6458 - val_mse: 0.6458\n",
      "Epoch 72/100\n",
      "6623/6623 [==============================] - 15s 2ms/step - loss: 0.1126 - mse: 0.1126 - val_loss: 0.5898 - val_mse: 0.5898\n",
      "Epoch 73/100\n",
      "6623/6623 [==============================] - 15s 2ms/step - loss: 0.1130 - mse: 0.1130 - val_loss: 0.6541 - val_mse: 0.6541\n",
      "Epoch 74/100\n",
      "6623/6623 [==============================] - 15s 2ms/step - loss: 0.1129 - mse: 0.1129 - val_loss: 0.6034 - val_mse: 0.6034\n",
      "Epoch 75/100\n",
      "6623/6623 [==============================] - 15s 2ms/step - loss: 0.1130 - mse: 0.1130 - val_loss: 0.6721 - val_mse: 0.6721\n",
      "Epoch 76/100\n",
      "6623/6623 [==============================] - 15s 2ms/step - loss: 0.1129 - mse: 0.1129 - val_loss: 0.7084 - val_mse: 0.7084\n",
      "Epoch 77/100\n",
      "6623/6623 [==============================] - 15s 2ms/step - loss: 0.1132 - mse: 0.1132 - val_loss: 0.6803 - val_mse: 0.6803\n",
      "Epoch 78/100\n",
      "6623/6623 [==============================] - 15s 2ms/step - loss: 0.1121 - mse: 0.1121 - val_loss: 0.6931 - val_mse: 0.6931\n",
      "Epoch 79/100\n",
      "6623/6623 [==============================] - 15s 2ms/step - loss: 0.1125 - mse: 0.1125 - val_loss: 0.7258 - val_mse: 0.7258\n",
      "Epoch 80/100\n",
      "6623/6623 [==============================] - 15s 2ms/step - loss: 0.1118 - mse: 0.1118 - val_loss: 0.6644 - val_mse: 0.6644\n",
      "Epoch 81/100\n",
      "6623/6623 [==============================] - 15s 2ms/step - loss: 0.1123 - mse: 0.1123 - val_loss: 0.6484 - val_mse: 0.6484\n",
      "Epoch 82/100\n",
      "6623/6623 [==============================] - 15s 2ms/step - loss: 0.1120 - mse: 0.1120 - val_loss: 0.6219 - val_mse: 0.6219\n",
      "Epoch 83/100\n",
      "6623/6623 [==============================] - 15s 2ms/step - loss: 0.1120 - mse: 0.1120 - val_loss: 0.6746 - val_mse: 0.6746\n",
      "Epoch 84/100\n",
      "6623/6623 [==============================] - 16s 2ms/step - loss: 0.1117 - mse: 0.1117 - val_loss: 0.6031 - val_mse: 0.6031\n",
      "Epoch 85/100\n",
      "6623/6623 [==============================] - 16s 2ms/step - loss: 0.1113 - mse: 0.1113 - val_loss: 0.7227 - val_mse: 0.7227\n",
      "Epoch 86/100\n",
      "6623/6623 [==============================] - 15s 2ms/step - loss: 0.1118 - mse: 0.1118 - val_loss: 0.6034 - val_mse: 0.6034\n",
      "Epoch 87/100\n",
      "6623/6623 [==============================] - 15s 2ms/step - loss: 0.1115 - mse: 0.1115 - val_loss: 0.6437 - val_mse: 0.6437\n",
      "Epoch 88/100\n",
      "6623/6623 [==============================] - 16s 2ms/step - loss: 0.1112 - mse: 0.1112 - val_loss: 0.6664 - val_mse: 0.6664\n",
      "Epoch 89/100\n",
      "6623/6623 [==============================] - 15s 2ms/step - loss: 0.1116 - mse: 0.1116 - val_loss: 0.6230 - val_mse: 0.6230\n",
      "Epoch 90/100\n",
      "6623/6623 [==============================] - 16s 2ms/step - loss: 0.1113 - mse: 0.1113 - val_loss: 0.6249 - val_mse: 0.6249\n",
      "Epoch 91/100\n",
      "6623/6623 [==============================] - 15s 2ms/step - loss: 0.1115 - mse: 0.1115 - val_loss: 0.6174 - val_mse: 0.6174\n",
      "Epoch 92/100\n",
      "6623/6623 [==============================] - 15s 2ms/step - loss: 0.1111 - mse: 0.1111 - val_loss: 0.7260 - val_mse: 0.7260\n",
      "Epoch 93/100\n",
      "6623/6623 [==============================] - 16s 2ms/step - loss: 0.1113 - mse: 0.1113 - val_loss: 0.6820 - val_mse: 0.6820\n",
      "Epoch 94/100\n",
      "6623/6623 [==============================] - 16s 2ms/step - loss: 0.1109 - mse: 0.1109 - val_loss: 0.6864 - val_mse: 0.6864\n",
      "Epoch 95/100\n",
      "6623/6623 [==============================] - 15s 2ms/step - loss: 0.1107 - mse: 0.1107 - val_loss: 0.6785 - val_mse: 0.6785\n",
      "Epoch 96/100\n",
      "6623/6623 [==============================] - 15s 2ms/step - loss: 0.1112 - mse: 0.1112 - val_loss: 0.6509 - val_mse: 0.6509\n",
      "Epoch 97/100\n",
      "6623/6623 [==============================] - 15s 2ms/step - loss: 0.1109 - mse: 0.1109 - val_loss: 0.6427 - val_mse: 0.6427\n",
      "Epoch 98/100\n",
      "6623/6623 [==============================] - 15s 2ms/step - loss: 0.1107 - mse: 0.1107 - val_loss: 0.6697 - val_mse: 0.6697\n",
      "Epoch 99/100\n",
      "6623/6623 [==============================] - 15s 2ms/step - loss: 0.1108 - mse: 0.1108 - val_loss: 0.6667 - val_mse: 0.6667\n",
      "Epoch 100/100\n",
      "6623/6623 [==============================] - 15s 2ms/step - loss: 0.1107 - mse: 0.1107 - val_loss: 0.6852 - val_mse: 0.6852\n"
     ]
    },
    {
     "data": {
      "text/plain": [
       "<keras.callbacks.History at 0x7c53746a9150>"
      ]
     },
     "execution_count": 238,
     "metadata": {},
     "output_type": "execute_result"
    }
   ],
   "source": [
    "ann_model_1.compile(loss=\"mse\",\n",
    "                    optimizer=tf.keras.optimizers.Adam(),\n",
    "                    metrics=[\"mse\"])\n",
    "ann_model_1_history = ann_model_1.fit(x=x_train,\n",
    "                                      y=y_train,\n",
    "                                      epochs=100,\n",
    "                                      validation_data=(x_valid, y_valid))"
   ]
  },
  {
   "cell_type": "code",
   "execution_count": 239,
   "metadata": {
    "execution": {
     "iopub.execute_input": "2023-06-07T22:03:40.917306Z",
     "iopub.status.busy": "2023-06-07T22:03:40.916915Z",
     "iopub.status.idle": "2023-06-07T22:39:55.574321Z",
     "shell.execute_reply": "2023-06-07T22:39:55.573081Z",
     "shell.execute_reply.started": "2023-06-07T22:03:40.917273Z"
    }
   },
   "outputs": [
    {
     "name": "stdout",
     "output_type": "stream",
     "text": [
      "Epoch 1/50\n",
      "6623/6623 [==============================] - 46s 7ms/step - loss: 4.3706 - mse: 4.3706 - val_loss: 0.2873 - val_mse: 0.2873\n",
      "Epoch 2/50\n",
      "6623/6623 [==============================] - 43s 6ms/step - loss: 2.7884 - mse: 2.7884 - val_loss: 1.4582 - val_mse: 1.4582\n",
      "Epoch 3/50\n",
      "6623/6623 [==============================] - 44s 7ms/step - loss: 0.2051 - mse: 0.2051 - val_loss: 0.3643 - val_mse: 0.3643\n",
      "Epoch 4/50\n",
      "6623/6623 [==============================] - 43s 7ms/step - loss: 0.2132 - mse: 0.2132 - val_loss: 0.3502 - val_mse: 0.3502\n",
      "Epoch 5/50\n",
      "6623/6623 [==============================] - 43s 7ms/step - loss: 0.2787 - mse: 0.2787 - val_loss: 0.4181 - val_mse: 0.4181\n",
      "Epoch 6/50\n",
      "6623/6623 [==============================] - 44s 7ms/step - loss: 0.1770 - mse: 0.1770 - val_loss: 0.5027 - val_mse: 0.5027\n",
      "Epoch 7/50\n",
      "6623/6623 [==============================] - 44s 7ms/step - loss: 0.1677 - mse: 0.1677 - val_loss: 0.5539 - val_mse: 0.5539\n",
      "Epoch 8/50\n",
      "6623/6623 [==============================] - 44s 7ms/step - loss: 0.1582 - mse: 0.1582 - val_loss: 0.6519 - val_mse: 0.6519\n",
      "Epoch 9/50\n",
      "6623/6623 [==============================] - 43s 7ms/step - loss: 0.1536 - mse: 0.1536 - val_loss: 0.4302 - val_mse: 0.4302\n",
      "Epoch 10/50\n",
      "6623/6623 [==============================] - 44s 7ms/step - loss: 0.1484 - mse: 0.1484 - val_loss: 0.3695 - val_mse: 0.3695\n",
      "Epoch 11/50\n",
      "6623/6623 [==============================] - 43s 7ms/step - loss: 0.1435 - mse: 0.1435 - val_loss: 0.4526 - val_mse: 0.4526\n",
      "Epoch 12/50\n",
      "6623/6623 [==============================] - 44s 7ms/step - loss: 0.1422 - mse: 0.1422 - val_loss: 0.4506 - val_mse: 0.4506\n",
      "Epoch 13/50\n",
      "6623/6623 [==============================] - 44s 7ms/step - loss: 0.1383 - mse: 0.1383 - val_loss: 0.5022 - val_mse: 0.5022\n",
      "Epoch 14/50\n",
      "6623/6623 [==============================] - 43s 7ms/step - loss: 0.1358 - mse: 0.1358 - val_loss: 0.4400 - val_mse: 0.4400\n",
      "Epoch 15/50\n",
      "6623/6623 [==============================] - 45s 7ms/step - loss: 0.1338 - mse: 0.1338 - val_loss: 0.4002 - val_mse: 0.4002\n",
      "Epoch 16/50\n",
      "6623/6623 [==============================] - 44s 7ms/step - loss: 0.1320 - mse: 0.1320 - val_loss: 0.3785 - val_mse: 0.3785\n",
      "Epoch 17/50\n",
      "6623/6623 [==============================] - 43s 6ms/step - loss: 1.9333 - mse: 1.9333 - val_loss: 0.4099 - val_mse: 0.4099\n",
      "Epoch 18/50\n",
      "6623/6623 [==============================] - 43s 6ms/step - loss: 0.2547 - mse: 0.2547 - val_loss: 0.3533 - val_mse: 0.3533\n",
      "Epoch 19/50\n",
      "6623/6623 [==============================] - 43s 6ms/step - loss: 0.3178 - mse: 0.3178 - val_loss: 0.2792 - val_mse: 0.2792\n",
      "Epoch 20/50\n",
      "6623/6623 [==============================] - 44s 7ms/step - loss: 0.1574 - mse: 0.1574 - val_loss: 0.5936 - val_mse: 0.5936\n",
      "Epoch 21/50\n",
      "6623/6623 [==============================] - 44s 7ms/step - loss: 0.1362 - mse: 0.1362 - val_loss: 0.3960 - val_mse: 0.3960\n",
      "Epoch 22/50\n",
      "6623/6623 [==============================] - 42s 6ms/step - loss: 0.1511 - mse: 0.1511 - val_loss: 0.4155 - val_mse: 0.4155\n",
      "Epoch 23/50\n",
      "6623/6623 [==============================] - 43s 6ms/step - loss: 0.1299 - mse: 0.1299 - val_loss: 0.3630 - val_mse: 0.3630\n",
      "Epoch 24/50\n",
      "6623/6623 [==============================] - 43s 6ms/step - loss: 0.1325 - mse: 0.1325 - val_loss: 0.3644 - val_mse: 0.3644\n",
      "Epoch 25/50\n",
      "6623/6623 [==============================] - 43s 6ms/step - loss: 0.1269 - mse: 0.1269 - val_loss: 0.3765 - val_mse: 0.3765\n",
      "Epoch 26/50\n",
      "6623/6623 [==============================] - 43s 6ms/step - loss: 0.1256 - mse: 0.1256 - val_loss: 0.5431 - val_mse: 0.5431\n",
      "Epoch 27/50\n",
      "6623/6623 [==============================] - 43s 7ms/step - loss: 0.1252 - mse: 0.1252 - val_loss: 0.4182 - val_mse: 0.4182\n",
      "Epoch 28/50\n",
      "6623/6623 [==============================] - 44s 7ms/step - loss: 0.1258 - mse: 0.1258 - val_loss: 0.3976 - val_mse: 0.3976\n",
      "Epoch 29/50\n",
      "6623/6623 [==============================] - 44s 7ms/step - loss: 0.1233 - mse: 0.1233 - val_loss: 0.4082 - val_mse: 0.4082\n",
      "Epoch 30/50\n",
      "6623/6623 [==============================] - 43s 7ms/step - loss: 0.1667 - mse: 0.1667 - val_loss: 0.4454 - val_mse: 0.4454\n",
      "Epoch 31/50\n",
      "6623/6623 [==============================] - 43s 6ms/step - loss: 0.1228 - mse: 0.1228 - val_loss: 0.3813 - val_mse: 0.3813\n",
      "Epoch 32/50\n",
      "6623/6623 [==============================] - 43s 7ms/step - loss: 0.2087 - mse: 0.2087 - val_loss: 0.4914 - val_mse: 0.4914\n",
      "Epoch 33/50\n",
      "6623/6623 [==============================] - 43s 7ms/step - loss: 0.1289 - mse: 0.1289 - val_loss: 0.4068 - val_mse: 0.4068\n",
      "Epoch 34/50\n",
      "6623/6623 [==============================] - 43s 7ms/step - loss: 0.1225 - mse: 0.1225 - val_loss: 0.4253 - val_mse: 0.4253\n",
      "Epoch 35/50\n",
      "6623/6623 [==============================] - 44s 7ms/step - loss: 0.1213 - mse: 0.1213 - val_loss: 0.4182 - val_mse: 0.4182\n",
      "Epoch 36/50\n",
      "6623/6623 [==============================] - 43s 7ms/step - loss: 0.1204 - mse: 0.1204 - val_loss: 0.4719 - val_mse: 0.4719\n",
      "Epoch 37/50\n",
      "6623/6623 [==============================] - 43s 7ms/step - loss: 0.1194 - mse: 0.1194 - val_loss: 0.4348 - val_mse: 0.4348\n",
      "Epoch 38/50\n",
      "6623/6623 [==============================] - 43s 6ms/step - loss: 0.1186 - mse: 0.1186 - val_loss: 0.4426 - val_mse: 0.4426\n",
      "Epoch 39/50\n",
      "6623/6623 [==============================] - 43s 6ms/step - loss: 0.1349 - mse: 0.1349 - val_loss: 0.4821 - val_mse: 0.4821\n",
      "Epoch 40/50\n",
      "6623/6623 [==============================] - 44s 7ms/step - loss: 0.1186 - mse: 0.1186 - val_loss: 0.4092 - val_mse: 0.4092\n",
      "Epoch 41/50\n",
      "6623/6623 [==============================] - 43s 7ms/step - loss: 0.1178 - mse: 0.1178 - val_loss: 0.4305 - val_mse: 0.4305\n",
      "Epoch 42/50\n",
      "6623/6623 [==============================] - 43s 7ms/step - loss: 0.1172 - mse: 0.1172 - val_loss: 0.4041 - val_mse: 0.4041\n",
      "Epoch 43/50\n",
      "6623/6623 [==============================] - 44s 7ms/step - loss: 0.1533 - mse: 0.1533 - val_loss: 0.4749 - val_mse: 0.4749\n",
      "Epoch 44/50\n",
      "6623/6623 [==============================] - 44s 7ms/step - loss: 0.1170 - mse: 0.1170 - val_loss: 0.4241 - val_mse: 0.4241\n",
      "Epoch 45/50\n",
      "6623/6623 [==============================] - 44s 7ms/step - loss: 0.1162 - mse: 0.1162 - val_loss: 0.4472 - val_mse: 0.4472\n",
      "Epoch 46/50\n",
      "6623/6623 [==============================] - 43s 7ms/step - loss: 0.1160 - mse: 0.1160 - val_loss: 0.4742 - val_mse: 0.4742\n",
      "Epoch 47/50\n",
      "6623/6623 [==============================] - 44s 7ms/step - loss: 0.1155 - mse: 0.1155 - val_loss: 0.4317 - val_mse: 0.4317\n",
      "Epoch 48/50\n",
      "6623/6623 [==============================] - 43s 6ms/step - loss: 0.1155 - mse: 0.1155 - val_loss: 0.4576 - val_mse: 0.4576\n",
      "Epoch 49/50\n",
      "6623/6623 [==============================] - 43s 6ms/step - loss: 0.1149 - mse: 0.1149 - val_loss: 0.4389 - val_mse: 0.4389\n",
      "Epoch 50/50\n",
      "6623/6623 [==============================] - 44s 7ms/step - loss: 0.1150 - mse: 0.1150 - val_loss: 0.5777 - val_mse: 0.5777\n"
     ]
    },
    {
     "data": {
      "text/plain": [
       "<keras.callbacks.History at 0x7c537d070160>"
      ]
     },
     "execution_count": 239,
     "metadata": {},
     "output_type": "execute_result"
    }
   ],
   "source": [
    "ann_model_2.compile(loss=\"mse\",\n",
    "                    optimizer=tf.keras.optimizers.Adam(),\n",
    "                    metrics=[\"mse\"])\n",
    "ann_model_2_history = ann_model_2.fit(x=x_train,\n",
    "                                      y=y_train,\n",
    "                                      epochs=50,\n",
    "                                      validation_data=(x_valid, y_valid))"
   ]
  },
  {
   "cell_type": "code",
   "execution_count": 246,
   "metadata": {
    "execution": {
     "iopub.execute_input": "2023-06-07T22:44:17.364641Z",
     "iopub.status.busy": "2023-06-07T22:44:17.364242Z",
     "iopub.status.idle": "2023-06-08T00:10:42.618712Z",
     "shell.execute_reply": "2023-06-08T00:10:42.617459Z",
     "shell.execute_reply.started": "2023-06-07T22:44:17.364612Z"
    }
   },
   "outputs": [
    {
     "name": "stdout",
     "output_type": "stream",
     "text": [
      "Epoch 1/50\n",
      "6623/6623 [==============================] - 108s 16ms/step - loss: 0.8134 - mse: 0.8134 - val_loss: 0.3319 - val_mse: 0.3319\n",
      "Epoch 2/50\n",
      "6623/6623 [==============================] - 99s 15ms/step - loss: 0.3002 - mse: 0.3002 - val_loss: 0.3578 - val_mse: 0.3578\n",
      "Epoch 3/50\n",
      "6623/6623 [==============================] - 100s 15ms/step - loss: 0.2348 - mse: 0.2348 - val_loss: 0.5906 - val_mse: 0.5906\n",
      "Epoch 4/50\n",
      "6623/6623 [==============================] - 103s 16ms/step - loss: 0.2084 - mse: 0.2084 - val_loss: 0.4762 - val_mse: 0.4762\n",
      "Epoch 5/50\n",
      "6623/6623 [==============================] - 101s 15ms/step - loss: 0.1969 - mse: 0.1969 - val_loss: 0.3847 - val_mse: 0.3847\n",
      "Epoch 6/50\n",
      "6623/6623 [==============================] - 104s 16ms/step - loss: 0.1904 - mse: 0.1904 - val_loss: 0.4379 - val_mse: 0.4379\n",
      "Epoch 7/50\n",
      "6623/6623 [==============================] - 108s 16ms/step - loss: 0.1858 - mse: 0.1858 - val_loss: 0.4436 - val_mse: 0.4436\n",
      "Epoch 8/50\n",
      "6623/6623 [==============================] - 103s 15ms/step - loss: 0.1826 - mse: 0.1826 - val_loss: 0.4158 - val_mse: 0.4158\n",
      "Epoch 9/50\n",
      "6623/6623 [==============================] - 102s 15ms/step - loss: 0.1804 - mse: 0.1804 - val_loss: 0.3463 - val_mse: 0.3463\n",
      "Epoch 10/50\n",
      "6623/6623 [==============================] - 99s 15ms/step - loss: 0.1779 - mse: 0.1779 - val_loss: 0.5080 - val_mse: 0.5080\n",
      "Epoch 11/50\n",
      "6623/6623 [==============================] - 100s 15ms/step - loss: 0.1761 - mse: 0.1761 - val_loss: 0.8117 - val_mse: 0.8117\n",
      "Epoch 12/50\n",
      "6623/6623 [==============================] - 101s 15ms/step - loss: 0.1743 - mse: 0.1743 - val_loss: 0.5815 - val_mse: 0.5815\n",
      "Epoch 13/50\n",
      "6623/6623 [==============================] - 100s 15ms/step - loss: 0.1730 - mse: 0.1730 - val_loss: 0.4796 - val_mse: 0.4796\n",
      "Epoch 14/50\n",
      "6623/6623 [==============================] - 102s 15ms/step - loss: 0.1703 - mse: 0.1703 - val_loss: 0.5936 - val_mse: 0.5936\n",
      "Epoch 15/50\n",
      "6623/6623 [==============================] - 100s 15ms/step - loss: 0.1711 - mse: 0.1711 - val_loss: 0.5055 - val_mse: 0.5055\n",
      "Epoch 16/50\n",
      "6623/6623 [==============================] - 100s 15ms/step - loss: 0.1698 - mse: 0.1698 - val_loss: 0.4587 - val_mse: 0.4587\n",
      "Epoch 17/50\n",
      "6623/6623 [==============================] - 103s 16ms/step - loss: 0.1678 - mse: 0.1678 - val_loss: 0.4622 - val_mse: 0.4622\n",
      "Epoch 18/50\n",
      "6623/6623 [==============================] - 104s 16ms/step - loss: 0.1668 - mse: 0.1668 - val_loss: 0.5021 - val_mse: 0.5021\n",
      "Epoch 19/50\n",
      "6623/6623 [==============================] - 105s 16ms/step - loss: 0.1672 - mse: 0.1672 - val_loss: 0.4658 - val_mse: 0.4658\n",
      "Epoch 20/50\n",
      "6623/6623 [==============================] - 105s 16ms/step - loss: 0.1661 - mse: 0.1661 - val_loss: 0.4278 - val_mse: 0.4278\n",
      "Epoch 21/50\n",
      "6623/6623 [==============================] - 102s 15ms/step - loss: 0.1662 - mse: 0.1662 - val_loss: 0.3795 - val_mse: 0.3795\n",
      "Epoch 22/50\n",
      "6623/6623 [==============================] - 103s 16ms/step - loss: 0.1644 - mse: 0.1644 - val_loss: 0.5498 - val_mse: 0.5498\n",
      "Epoch 23/50\n",
      "6623/6623 [==============================] - 102s 15ms/step - loss: 0.1637 - mse: 0.1637 - val_loss: 0.4394 - val_mse: 0.4394\n",
      "Epoch 24/50\n",
      "6623/6623 [==============================] - 98s 15ms/step - loss: 0.1636 - mse: 0.1636 - val_loss: 0.3701 - val_mse: 0.3701\n",
      "Epoch 25/50\n",
      "6623/6623 [==============================] - 102s 15ms/step - loss: 0.1624 - mse: 0.1624 - val_loss: 0.4939 - val_mse: 0.4939\n",
      "Epoch 26/50\n",
      "6623/6623 [==============================] - 104s 16ms/step - loss: 0.1616 - mse: 0.1616 - val_loss: 0.5525 - val_mse: 0.5525\n",
      "Epoch 27/50\n",
      "6623/6623 [==============================] - 100s 15ms/step - loss: 0.1623 - mse: 0.1623 - val_loss: 0.3656 - val_mse: 0.3656\n",
      "Epoch 28/50\n",
      "6623/6623 [==============================] - 101s 15ms/step - loss: 0.1615 - mse: 0.1615 - val_loss: 0.4465 - val_mse: 0.4465\n",
      "Epoch 29/50\n",
      "6623/6623 [==============================] - 104s 16ms/step - loss: 0.1618 - mse: 0.1618 - val_loss: 0.4780 - val_mse: 0.4780\n",
      "Epoch 30/50\n",
      "6623/6623 [==============================] - 103s 16ms/step - loss: 0.1611 - mse: 0.1611 - val_loss: 0.3932 - val_mse: 0.3932\n",
      "Epoch 31/50\n",
      "6623/6623 [==============================] - 104s 16ms/step - loss: 0.1591 - mse: 0.1591 - val_loss: 0.5651 - val_mse: 0.5651\n",
      "Epoch 32/50\n",
      "6623/6623 [==============================] - 104s 16ms/step - loss: 0.1592 - mse: 0.1592 - val_loss: 0.4807 - val_mse: 0.4807\n",
      "Epoch 33/50\n",
      "6623/6623 [==============================] - 104s 16ms/step - loss: 0.1595 - mse: 0.1595 - val_loss: 0.4736 - val_mse: 0.4736\n",
      "Epoch 34/50\n",
      "6623/6623 [==============================] - 103s 16ms/step - loss: 0.1589 - mse: 0.1589 - val_loss: 0.5037 - val_mse: 0.5037\n",
      "Epoch 35/50\n",
      "6623/6623 [==============================] - 104s 16ms/step - loss: 0.1575 - mse: 0.1575 - val_loss: 0.5130 - val_mse: 0.5130\n",
      "Epoch 36/50\n",
      "6623/6623 [==============================] - 102s 15ms/step - loss: 0.1579 - mse: 0.1579 - val_loss: 0.4905 - val_mse: 0.4905\n",
      "Epoch 37/50\n",
      "6623/6623 [==============================] - 101s 15ms/step - loss: 0.1577 - mse: 0.1577 - val_loss: 0.5738 - val_mse: 0.5738\n",
      "Epoch 38/50\n",
      "6623/6623 [==============================] - 105s 16ms/step - loss: 0.1571 - mse: 0.1571 - val_loss: 0.4563 - val_mse: 0.4563\n",
      "Epoch 39/50\n",
      "6623/6623 [==============================] - 106s 16ms/step - loss: 0.1574 - mse: 0.1574 - val_loss: 0.4618 - val_mse: 0.4618\n",
      "Epoch 40/50\n",
      "6623/6623 [==============================] - 104s 16ms/step - loss: 0.1565 - mse: 0.1565 - val_loss: 0.4052 - val_mse: 0.4052\n",
      "Epoch 41/50\n",
      "6623/6623 [==============================] - 104s 16ms/step - loss: 0.1574 - mse: 0.1574 - val_loss: 0.5008 - val_mse: 0.5008\n",
      "Epoch 42/50\n",
      "6623/6623 [==============================] - 106s 16ms/step - loss: 0.1565 - mse: 0.1565 - val_loss: 0.5122 - val_mse: 0.5122\n",
      "Epoch 43/50\n",
      "6623/6623 [==============================] - 106s 16ms/step - loss: 0.1550 - mse: 0.1550 - val_loss: 0.5515 - val_mse: 0.5515\n",
      "Epoch 44/50\n",
      "6623/6623 [==============================] - 104s 16ms/step - loss: 0.1557 - mse: 0.1557 - val_loss: 0.4500 - val_mse: 0.4500\n",
      "Epoch 45/50\n",
      "6623/6623 [==============================] - 107s 16ms/step - loss: 0.1557 - mse: 0.1557 - val_loss: 0.4149 - val_mse: 0.4149\n",
      "Epoch 46/50\n",
      "6623/6623 [==============================] - 105s 16ms/step - loss: 0.1549 - mse: 0.1549 - val_loss: 0.7076 - val_mse: 0.7076\n",
      "Epoch 47/50\n",
      "6623/6623 [==============================] - 104s 16ms/step - loss: 0.1549 - mse: 0.1549 - val_loss: 0.4991 - val_mse: 0.4991\n",
      "Epoch 48/50\n",
      "6623/6623 [==============================] - 105s 16ms/step - loss: 0.1540 - mse: 0.1540 - val_loss: 0.5226 - val_mse: 0.5226\n",
      "Epoch 49/50\n",
      "6623/6623 [==============================] - 105s 16ms/step - loss: 0.1536 - mse: 0.1536 - val_loss: 0.5742 - val_mse: 0.5742\n",
      "Epoch 50/50\n",
      "6623/6623 [==============================] - 104s 16ms/step - loss: 0.1534 - mse: 0.1534 - val_loss: 0.5548 - val_mse: 0.5548\n"
     ]
    }
   ],
   "source": [
    "ann_model_3.compile(loss=\"mse\",\n",
    "                    optimizer=tf.keras.optimizers.Adam(),\n",
    "                    metrics=[\"mse\"])\n",
    "ann_model_3_history = ann_model_3.fit(x=x_train,\n",
    "                                      y=y_train,\n",
    "                                      epochs=50,\n",
    "                                      validation_data=(x_valid, y_valid))"
   ]
  },
  {
   "cell_type": "code",
   "execution_count": 247,
   "metadata": {
    "execution": {
     "iopub.execute_input": "2023-06-08T00:11:04.767680Z",
     "iopub.status.busy": "2023-06-08T00:11:04.767278Z",
     "iopub.status.idle": "2023-06-08T00:11:09.311927Z",
     "shell.execute_reply": "2023-06-08T00:11:09.310603Z",
     "shell.execute_reply.started": "2023-06-08T00:11:04.767649Z"
    }
   },
   "outputs": [
    {
     "name": "stdout",
     "output_type": "stream",
     "text": [
      "828/828 [==============================] - 1s 2ms/step - loss: 0.6852 - mse: 0.6852\n",
      "ann_model_1_evaluate_valid_data:\n",
      "[0.6852084398269653, 0.6852084398269653]\n",
      "828/828 [==============================] - 1s 1ms/step\n"
     ]
    },
    {
     "data": {
      "text/plain": [
       "array([[ 7.8521175],\n",
       "       [10.184403 ],\n",
       "       [ 9.669841 ],\n",
       "       ...,\n",
       "       [ 9.154989 ],\n",
       "       [ 9.315643 ],\n",
       "       [10.692999 ]], dtype=float32)"
      ]
     },
     "execution_count": 247,
     "metadata": {},
     "output_type": "execute_result"
    }
   ],
   "source": [
    "ann_model_1_evaluate_valid_data = ann_model_1.evaluate(x_valid, y_valid)\n",
    "print(\"ann_model_1_evaluate_valid_data:\")\n",
    "print(ann_model_1_evaluate_valid_data)\n",
    "ann_model_1_preds_valid_data = ann_model_1.predict(x_valid)\n",
    "ann_model_1_preds_valid_data"
   ]
  },
  {
   "cell_type": "code",
   "execution_count": 249,
   "metadata": {
    "execution": {
     "iopub.execute_input": "2023-06-08T00:11:21.271148Z",
     "iopub.status.busy": "2023-06-08T00:11:21.270208Z",
     "iopub.status.idle": "2023-06-08T00:11:26.116302Z",
     "shell.execute_reply": "2023-06-08T00:11:26.115098Z",
     "shell.execute_reply.started": "2023-06-08T00:11:21.271109Z"
    }
   },
   "outputs": [
    {
     "name": "stdout",
     "output_type": "stream",
     "text": [
      "828/828 [==============================] - 2s 3ms/step - loss: 0.5777 - mse: 0.5777\n",
      "ann_model_2_evaluate_valid_data:\n",
      "[0.5776843428611755, 0.5776843428611755]\n",
      "828/828 [==============================] - 2s 2ms/step\n"
     ]
    },
    {
     "data": {
      "text/plain": [
       "array([[ 8.616568],\n",
       "       [10.138477],\n",
       "       [10.242009],\n",
       "       ...,\n",
       "       [ 9.533321],\n",
       "       [ 9.596424],\n",
       "       [11.678546]], dtype=float32)"
      ]
     },
     "execution_count": 249,
     "metadata": {},
     "output_type": "execute_result"
    }
   ],
   "source": [
    "ann_model_2_evaluate_valid_data = ann_model_2.evaluate(x_valid, y_valid)\n",
    "print(\"ann_model_2_evaluate_valid_data:\")\n",
    "print(ann_model_2_evaluate_valid_data)\n",
    "ann_model_2_preds_valid_data = ann_model_2.predict(x_valid)\n",
    "ann_model_2_preds_valid_data"
   ]
  },
  {
   "cell_type": "code",
   "execution_count": 250,
   "metadata": {
    "execution": {
     "iopub.execute_input": "2023-06-08T00:11:27.580535Z",
     "iopub.status.busy": "2023-06-08T00:11:27.580120Z",
     "iopub.status.idle": "2023-06-08T00:11:35.615885Z",
     "shell.execute_reply": "2023-06-08T00:11:35.614679Z",
     "shell.execute_reply.started": "2023-06-08T00:11:27.580502Z"
    }
   },
   "outputs": [
    {
     "name": "stdout",
     "output_type": "stream",
     "text": [
      "828/828 [==============================] - 4s 5ms/step - loss: 0.5548 - mse: 0.5548\n",
      "ann_model_3_evaluate_valid_data:\n",
      "[0.5548421144485474, 0.5548421144485474]\n",
      "828/828 [==============================] - 4s 4ms/step\n"
     ]
    },
    {
     "data": {
      "text/plain": [
       "array([[ 9.743998],\n",
       "       [10.043694],\n",
       "       [10.467735],\n",
       "       ...,\n",
       "       [ 9.238356],\n",
       "       [ 9.645981],\n",
       "       [11.348682]], dtype=float32)"
      ]
     },
     "execution_count": 250,
     "metadata": {},
     "output_type": "execute_result"
    }
   ],
   "source": [
    "ann_model_3_evaluate_valid_data = ann_model_3.evaluate(x_valid, y_valid)\n",
    "print(\"ann_model_3_evaluate_valid_data:\")\n",
    "print(ann_model_3_evaluate_valid_data)\n",
    "ann_model_3_preds_valid_data = ann_model_3.predict(x_valid)\n",
    "ann_model_3_preds_valid_data"
   ]
  },
  {
   "cell_type": "markdown",
   "metadata": {},
   "source": [
    "## Evaluate all models on the validation set"
   ]
  },
  {
   "cell_type": "code",
   "execution_count": 259,
   "metadata": {
    "execution": {
     "iopub.execute_input": "2023-06-08T00:16:01.189274Z",
     "iopub.status.busy": "2023-06-08T00:16:01.188840Z",
     "iopub.status.idle": "2023-06-08T00:16:01.196363Z",
     "shell.execute_reply": "2023-06-08T00:16:01.194762Z",
     "shell.execute_reply.started": "2023-06-08T00:16:01.189241Z"
    }
   },
   "outputs": [],
   "source": [
    "ann_model_1_preds_valid_data = np.reshape(ann_model_1_preds_valid_data, -1).shape\n",
    "ann_model_2_preds_valid_data = np.reshape(ann_model_2_preds_valid_data, -1).shape\n",
    "ann_model_3_preds_valid_data = np.reshape(ann_model_3_preds_valid_data, -1).shape"
   ]
  },
  {
   "cell_type": "code",
   "execution_count": 261,
   "metadata": {
    "execution": {
     "iopub.execute_input": "2023-06-08T00:16:53.613300Z",
     "iopub.status.busy": "2023-06-08T00:16:53.612849Z",
     "iopub.status.idle": "2023-06-08T00:16:53.639024Z",
     "shell.execute_reply": "2023-06-08T00:16:53.637566Z",
     "shell.execute_reply.started": "2023-06-08T00:16:53.613268Z"
    }
   },
   "outputs": [
    {
     "name": "stdout",
     "output_type": "stream",
     "text": [
      "Actual - Predictions stats on tree models on VALIDATION SET\n",
      "decision tree:\n",
      "mean: 0.23457067105741003\n",
      "std: 0.8451387450964338\n",
      "----------------------------------------------\n",
      "random forest:\n",
      "mean: 0.15918383123907423\n",
      "std: 0.5361385480312683\n",
      "----------------------------------------------\n",
      "bigger random forest:\n",
      "mean: 0.16653238394304914\n",
      "std: 0.5279716539617655\n",
      "----------------------------------------------\n",
      "xgboost:\n",
      "mean: 0.0035574576\n",
      "std: 0.3954641\n",
      "----------------------------------------------\n",
      "----------------------------------------------\n",
      "Actual vs Predictions on neural network models\n",
      "ann_model_1:\n",
      "mean: -26478.15409262567\n",
      "std: 0.6884114248228914\n",
      "----------------------------------------------\n",
      "ann_model_2:\n",
      "mean: -26478.15409262567\n",
      "std: 0.6884114248228914\n",
      "----------------------------------------------\n",
      "ann_model_3:\n",
      "mean: -26478.15409262567\n",
      "std: 0.6884114248228914\n"
     ]
    }
   ],
   "source": [
    "print(\"Actual - Predictions stats on tree models on VALIDATION SET\")\n",
    "actual_preds_diff_decision_tree_valid_data = y_valid - decision_tree_preds_valid_data\n",
    "print(\"decision tree:\")\n",
    "print(\"mean:\", actual_preds_diff_decision_tree_valid_data.mean())\n",
    "print(\"std:\", actual_preds_diff_decision_tree_valid_data.std())\n",
    "print(\"----------------------------------------------\")\n",
    "\n",
    "actual__preds_diff_random_forest_valid_data = y_valid - random_forest_preds_valid_data\n",
    "print(\"random forest:\")\n",
    "print(\"mean:\", actual__preds_diff_random_forest_valid_data.mean())\n",
    "print(\"std:\", actual__preds_diff_random_forest_valid_data.std())\n",
    "print(\"----------------------------------------------\")\n",
    "\n",
    "actual_preds_diff_bigger_random_forest_valid_data = y_valid - bigger_random_forest_preds_valid_data\n",
    "print(\"bigger random forest:\")\n",
    "print(\"mean:\", actual_preds_diff_bigger_random_forest_valid_data.mean())\n",
    "print(\"std:\", actual_preds_diff_bigger_random_forest_valid_data.std())\n",
    "print(\"----------------------------------------------\")\n",
    "\n",
    "actual_preds_diff_xgboost_valid_data = y_valid - xgboost_preds_valid_data\n",
    "print(\"xgboost:\")\n",
    "print(\"mean:\", actual_preds_diff_xgboost_valid_data.mean())\n",
    "print(\"std:\", actual_preds_diff_xgboost_valid_data.std())\n",
    "print(\"----------------------------------------------\")\n",
    "print(\"----------------------------------------------\")\n",
    "\n",
    "print(\"Actual vs Predictions on neural network models\")\n",
    "actual_preds_diff_ann_model_1_valid_data = y_valid - ann_model_1_preds_valid_data\n",
    "print(\"ann_model_1:\")\n",
    "print(\"mean:\", actual_preds_diff_ann_model_1_valid_data.mean())\n",
    "print(\"std:\", actual_preds_diff_ann_model_1_valid_data.std())\n",
    "print(\"----------------------------------------------\")\n",
    "\n",
    "actual_preds_diff_ann_model_2_valid_data = y_valid - ann_model_2_preds_valid_data\n",
    "print(\"ann_model_2:\")\n",
    "print(\"mean:\", actual_preds_diff_ann_model_2_valid_data.mean())\n",
    "print(\"std:\", actual_preds_diff_ann_model_2_valid_data.std())\n",
    "print(\"----------------------------------------------\")\n",
    "\n",
    "actual_preds_diff_ann_model_3_valid_data = y_valid - ann_model_3_preds_valid_data\n",
    "print(\"ann_model_3:\")\n",
    "print(\"mean:\", actual_preds_diff_ann_model_3_valid_data.mean())\n",
    "print(\"std:\", actual_preds_diff_ann_model_3_valid_data.std())"
   ]
  },
  {
   "cell_type": "code",
   "execution_count": 262,
   "metadata": {
    "execution": {
     "iopub.execute_input": "2023-06-08T00:18:24.753928Z",
     "iopub.status.busy": "2023-06-08T00:18:24.753388Z",
     "iopub.status.idle": "2023-06-08T00:18:34.398635Z",
     "shell.execute_reply": "2023-06-08T00:18:34.397504Z",
     "shell.execute_reply.started": "2023-06-08T00:18:24.753885Z"
    }
   },
   "outputs": [
    {
     "name": "stderr",
     "output_type": "stream",
     "text": [
      "[Parallel(n_jobs=1)]: Using backend SequentialBackend with 1 concurrent workers.\n",
      "[Parallel(n_jobs=1)]: Done  30 out of  30 | elapsed:    0.3s finished\n",
      "[Parallel(n_jobs=1)]: Using backend SequentialBackend with 1 concurrent workers.\n",
      "[Parallel(n_jobs=1)]: Done  75 out of  75 | elapsed:    0.8s finished\n"
     ]
    },
    {
     "name": "stdout",
     "output_type": "stream",
     "text": [
      "828/828 [==============================] - 1s 1ms/step\n",
      "828/828 [==============================] - 2s 3ms/step\n",
      "828/828 [==============================] - 4s 4ms/step\n"
     ]
    }
   ],
   "source": [
    "decision_tree_preds_test_data = decision_tree.predict(x_test)\n",
    "\n",
    "random_forest_preds_test_data = random_forest.predict(x_test)\n",
    "\n",
    "bigger_random_forest_preds_test_data = bigger_random_forest.predict(x_test)\n",
    "\n",
    "xgboost_preds_test_data = xgboost.predict(x_test)\n",
    "\n",
    "ann_model_1_preds_test_data = ann_model_1.predict(x_test)\n",
    "ann_model_1_preds_test_data = np.reshape(ann_model_1_preds_test_data, -1)\n",
    "\n",
    "ann_model_2_preds_test_data = ann_model_2.predict(x_test)\n",
    "ann_model_2_preds_test_data = np.reshape(ann_model_2_preds_test_data, -1)\n",
    "\n",
    "ann_model_3_preds_test_data = ann_model_3.predict(x_test)\n",
    "ann_model_3_preds_test_data = np.reshape(ann_model_3_preds_test_data, -1)"
   ]
  },
  {
   "cell_type": "markdown",
   "metadata": {},
   "source": [
    "## Evaluate all models on the test set"
   ]
  },
  {
   "cell_type": "code",
   "execution_count": 263,
   "metadata": {
    "execution": {
     "iopub.execute_input": "2023-06-08T00:18:40.474186Z",
     "iopub.status.busy": "2023-06-08T00:18:40.473745Z",
     "iopub.status.idle": "2023-06-08T00:18:40.501090Z",
     "shell.execute_reply": "2023-06-08T00:18:40.499737Z",
     "shell.execute_reply.started": "2023-06-08T00:18:40.474150Z"
    }
   },
   "outputs": [
    {
     "name": "stdout",
     "output_type": "stream",
     "text": [
      "Actual vs Predictions on tree models on TEST SET\n",
      "decision tree:\n",
      "mean: 0.23181861146583824\n",
      "std: 0.8570038466402908\n",
      "----------------------------------------------\n",
      "random forest:\n",
      "mean: 0.15581070021538568\n",
      "std: 0.5400674004554699\n",
      "----------------------------------------------\n",
      "bigger random forest:\n",
      "mean: 0.1629813575556243\n",
      "std: 0.5318785344198528\n",
      "----------------------------------------------\n",
      "xgboost:\n",
      "mean: 0.004307293\n",
      "std: 0.39918867\n",
      "----------------------------------------------\n",
      "----------------------------------------------\n",
      "Actual vs Predictions on neural network models\n",
      "ann_model_1:\n",
      "mean: 0.029138556\n",
      "std: 0.81799114\n",
      "----------------------------------------------\n",
      "ann_model_2:\n",
      "mean: -0.15322115\n",
      "std: 0.73266417\n",
      "----------------------------------------------\n",
      "ann_model_3:\n",
      "mean: -0.29725266\n",
      "std: 0.6934139\n"
     ]
    }
   ],
   "source": [
    "print(\"Actual vs Predictions on tree models on TEST SET\")\n",
    "actual_preds_diff_decision_tree_test_data = y_test - decision_tree_preds_test_data\n",
    "print(\"decision tree:\")\n",
    "print(\"mean:\", actual_preds_diff_decision_tree_test_data.mean())\n",
    "print(\"std:\", actual_preds_diff_decision_tree_test_data.std())\n",
    "print(\"----------------------------------------------\")\n",
    "\n",
    "actual_preds_diff_random_forest_test_data = y_test - random_forest_preds_test_data\n",
    "print(\"random forest:\")\n",
    "print(\"mean:\", actual_preds_diff_random_forest_test_data.mean())\n",
    "print(\"std:\", actual_preds_diff_random_forest_test_data.std())\n",
    "print(\"----------------------------------------------\")\n",
    "\n",
    "actual_preds_diff_bigger_random_forest_test_data = y_test - bigger_random_forest_preds_test_data\n",
    "print(\"bigger random forest:\")\n",
    "print(\"mean:\", actual_preds_diff_bigger_random_forest_test_data.mean())\n",
    "print(\"std:\", actual_preds_diff_bigger_random_forest_test_data.std())\n",
    "print(\"----------------------------------------------\")\n",
    "\n",
    "actual_preds_diff_xgboost_test_data = y_test - xgboost_preds_test_data\n",
    "print(\"xgboost:\")\n",
    "print(\"mean:\", actual_preds_diff_xgboost_test_data.mean())\n",
    "print(\"std:\", actual_preds_diff_xgboost_test_data.std())\n",
    "print(\"----------------------------------------------\")\n",
    "print(\"----------------------------------------------\")\n",
    "\n",
    "print(\"Actual vs Predictions on neural network models\")\n",
    "actual_preds_diff_ann_model_1_test_data = y_test - ann_model_1_preds_test_data\n",
    "print(\"ann_model_1:\")\n",
    "print(\"mean:\", actual_preds_diff_ann_model_1_test_data.mean())\n",
    "print(\"std:\", actual_preds_diff_ann_model_1_test_data.std())\n",
    "print(\"----------------------------------------------\")\n",
    "\n",
    "actual_preds_diff_ann_model_2_test_data = y_test - ann_model_2_preds_test_data\n",
    "print(\"ann_model_2:\")\n",
    "print(\"mean:\", actual_preds_diff_ann_model_2_test_data.mean())\n",
    "print(\"std:\", actual_preds_diff_ann_model_2_test_data.std())\n",
    "print(\"----------------------------------------------\")\n",
    "\n",
    "actual_preds_diff_ann_model_3_test_data = y_test - ann_model_3_preds_test_data\n",
    "print(\"ann_model_3:\")\n",
    "print(\"mean:\", actual_preds_diff_ann_model_3_test_data.mean())\n",
    "print(\"std:\", actual_preds_diff_ann_model_3_test_data.std())"
   ]
  },
  {
   "cell_type": "code",
   "execution_count": 278,
   "metadata": {
    "execution": {
     "iopub.execute_input": "2023-06-08T00:25:16.009222Z",
     "iopub.status.busy": "2023-06-08T00:25:16.008755Z",
     "iopub.status.idle": "2023-06-08T00:25:17.543407Z",
     "shell.execute_reply": "2023-06-08T00:25:17.542239Z",
     "shell.execute_reply.started": "2023-06-08T00:25:16.009186Z"
    }
   },
   "outputs": [
    {
     "data": {
      "image/png": "[encoded data removed]",
      "text/plain": [
       "<Figure size 1200x800 with 6 Axes>"
      ]
     },
     "metadata": {},
     "output_type": "display_data"
    }
   ],
   "source": [
    "fig, axes = plt.subplots(nrows=2, ncols=3, figsize=(12, 8), sharey=True)\n",
    "plt.suptitle(\"Distribution of Differences Between Actual and Predicted on Test Set\")\n",
    "\n",
    "axes[0][0].set_xlabel(\"Decision Tree\")\n",
    "actual_preds_diff_decision_tree_test_data.hist(ax=axes[0][0], bins=50, color=\"purple\")\n",
    "\n",
    "axes[0][1].set_xlabel(\"Random Forest\")\n",
    "actual_preds_diff_random_forest_test_data.hist(ax=axes[0][1], bins=50, color=\"purple\")\n",
    "\n",
    "axes[0][2].set_xlabel(\"Bigger Random Forest\")\n",
    "actual_preds_diff_bigger_random_forest_test_data.hist(ax=axes[0][2], bins=50, color=\"purple\")\n",
    "\n",
    "axes[1][0].set_xlabel(\"Neural Network(1)\")\n",
    "actual_preds_diff_ann_model_1_test_data.hist(ax=axes[1][0], bins=50, color=\"purple\")\n",
    "\n",
    "axes[1][1].set_xlabel(\"Neural Network(2)\")\n",
    "actual_preds_diff_ann_model_2_test_data.hist(ax=axes[1][1], bins=50, color=\"purple\")\n",
    "\n",
    "axes[1][2].set_xlabel(\"Neural Network(3)\")\n",
    "actual_preds_diff_ann_model_2_test_data.hist(ax=axes[1][2], bins=50, color=\"purple\")\n",
    "\n",
    "plt.show()"
   ]
  },
  {
   "cell_type": "code",
   "execution_count": 280,
   "metadata": {
    "execution": {
     "iopub.execute_input": "2023-06-08T00:25:31.168404Z",
     "iopub.status.busy": "2023-06-08T00:25:31.167123Z",
     "iopub.status.idle": "2023-06-08T00:25:31.540583Z",
     "shell.execute_reply": "2023-06-08T00:25:31.539495Z",
     "shell.execute_reply.started": "2023-06-08T00:25:31.168336Z"
    }
   },
   "outputs": [
    {
     "data": {
      "image/png": "[encoded data removed]",
      "text/plain": [
       "<Figure size 400x300 with 1 Axes>"
      ]
     },
     "metadata": {},
     "output_type": "display_data"
    }
   ],
   "source": [
    "plt.figure(figsize=(4, 3))\n",
    "plt.hist(x=actual_preds_diff_xgboost_test_data, bins=50, color='darkgreen')\n",
    "plt.xlabel(\"Actual - Prediction\")\n",
    "plt.ylabel(\"Number of Data Points\")\n",
    "plt.title(\"XGBoost - Distribution of Errors on Test Set\")\n",
    "plt.grid(True)\n",
    "plt.show()"
   ]
  },
  {
   "cell_type": "code",
   "execution_count": 300,
   "metadata": {
    "execution": {
     "iopub.execute_input": "2023-06-08T00:35:31.863721Z",
     "iopub.status.busy": "2023-06-08T00:35:31.863216Z",
     "iopub.status.idle": "2023-06-08T00:35:31.873722Z",
     "shell.execute_reply": "2023-06-08T00:35:31.872609Z",
     "shell.execute_reply.started": "2023-06-08T00:35:31.863689Z"
    }
   },
   "outputs": [
    {
     "data": {
      "text/plain": [
       "dict_keys(['loss', 'mse', 'val_loss', 'val_mse'])"
      ]
     },
     "execution_count": 300,
     "metadata": {},
     "output_type": "execute_result"
    }
   ],
   "source": [
    "ann_model_3_history.history.keys()"
   ]
  },
  {
   "cell_type": "code",
   "execution_count": 309,
   "metadata": {
    "execution": {
     "iopub.execute_input": "2023-06-08T00:41:14.792105Z",
     "iopub.status.busy": "2023-06-08T00:41:14.791639Z",
     "iopub.status.idle": "2023-06-08T00:41:15.164044Z",
     "shell.execute_reply": "2023-06-08T00:41:15.162752Z",
     "shell.execute_reply.started": "2023-06-08T00:41:14.792070Z"
    }
   },
   "outputs": [
    {
     "data": {
      "image/png": "[encoded data removed]",
      "text/plain": [
       "<Figure size 640x480 with 1 Axes>"
      ]
     },
     "metadata": {},
     "output_type": "display_data"
    }
   ],
   "source": [
    "plt.plot(ann_model_3_history.history[\"mse\"], color='blue', label=\"Train MSE\")\n",
    "plt.plot(ann_model_3_history.history[\"val_mse\"], color='red', label=\"Validation MSE\")\n",
    "plt.legend(loc=\"upper right\")\n",
    "plt.title(\"Neural Network(3) Training and Validation Loss\")\n",
    "plt.grid(True)\n",
    "plt.show()"
   ]
  },
  {
   "cell_type": "code",
   "execution_count": 291,
   "metadata": {
    "execution": {
     "iopub.execute_input": "2023-06-08T00:31:21.700356Z",
     "iopub.status.busy": "2023-06-08T00:31:21.699952Z",
     "iopub.status.idle": "2023-06-08T00:31:22.104537Z",
     "shell.execute_reply": "2023-06-08T00:31:22.103374Z",
     "shell.execute_reply.started": "2023-06-08T00:31:21.700325Z"
    }
   },
   "outputs": [
    {
     "data": {
      "image/png": "[encoded data removed]",
      "text/plain": [
       "<Figure size 640x480 with 1 Axes>"
      ]
     },
     "metadata": {},
     "output_type": "display_data"
    }
   ],
   "source": [
    "x_axis = np.arange(-3, 3, 0.01)\n",
    "\n",
    "from scipy.stats import norm\n",
    "plt.plot(x_axis, norm.pdf(x_axis, 0, 1), color=\"red\")\n",
    "plt.title(\"Standard Normal Distribution\")\n",
    "plt.grid(True)"
   ]
  },
  {
   "cell_type": "code",
   "execution_count": 319,
   "metadata": {
    "execution": {
     "iopub.execute_input": "2023-06-08T00:47:20.408356Z",
     "iopub.status.busy": "2023-06-08T00:47:20.407886Z",
     "iopub.status.idle": "2023-06-08T00:47:20.441047Z",
     "shell.execute_reply": "2023-06-08T00:47:20.439749Z",
     "shell.execute_reply.started": "2023-06-08T00:47:20.408323Z"
    }
   },
   "outputs": [
    {
     "name": "stderr",
     "output_type": "stream",
     "text": [
      "/tmp/ipykernel_32/3031992029.py:2: SettingWithCopyWarning: \n",
      "A value is trying to be set on a copy of a slice from a DataFrame\n",
      "\n",
      "See the caveats in the documentation: https://pandas.pydata.org/pandas-docs/stable/user_guide/indexing.html#returning-a-view-versus-a-copy\n",
      "  price_and_mileage_df.rename(columns={ \"log(price)\": \"log(Price)\",\n"
     ]
    },
    {
     "data": {
      "text/html": [
       "<div>\n",
       "<style scoped>\n",
       "    .dataframe tbody tr th:only-of-type {\n",
       "        vertical-align: middle;\n",
       "    }\n",
       "\n",
       "    .dataframe tbody tr th {\n",
       "        vertical-align: top;\n",
       "    }\n",
       "\n",
       "    .dataframe thead th {\n",
       "        text-align: right;\n",
       "    }\n",
       "</style>\n",
       "<table border=\"1\" class=\"dataframe\">\n",
       "  <thead>\n",
       "    <tr style=\"text-align: right;\">\n",
       "      <th></th>\n",
       "      <th>log(Price)</th>\n",
       "      <th>Mileage</th>\n",
       "    </tr>\n",
       "  </thead>\n",
       "  <tbody>\n",
       "    <tr>\n",
       "      <th>log(Price)</th>\n",
       "      <td>1.000000</td>\n",
       "      <td>-0.541172</td>\n",
       "    </tr>\n",
       "    <tr>\n",
       "      <th>Mileage</th>\n",
       "      <td>-0.541172</td>\n",
       "      <td>1.000000</td>\n",
       "    </tr>\n",
       "  </tbody>\n",
       "</table>\n",
       "</div>"
      ],
      "text/plain": [
       "            log(Price)   Mileage\n",
       "log(Price)    1.000000 -0.541172\n",
       "Mileage      -0.541172  1.000000"
      ]
     },
     "execution_count": 319,
     "metadata": {},
     "output_type": "execute_result"
    }
   ],
   "source": [
    "price_and_mileage_df = cars_df[[\"log(price)\", \"mileage\"]]\n",
    "price_and_mileage_df.rename(columns={ \"log(price)\": \"log(Price)\", \n",
    "                                      \"mileage\": \"Mileage\"},\n",
    "                            inplace=True)\n",
    "price_mileage_correlation_matrix = price_and_mileage_df.corr()\n",
    "price_mileage_correlation_matrix"
   ]
  },
  {
   "cell_type": "code",
   "execution_count": 342,
   "metadata": {
    "execution": {
     "iopub.execute_input": "2023-06-08T00:56:01.074716Z",
     "iopub.status.busy": "2023-06-08T00:56:01.074284Z",
     "iopub.status.idle": "2023-06-08T00:56:01.405737Z",
     "shell.execute_reply": "2023-06-08T00:56:01.404521Z",
     "shell.execute_reply.started": "2023-06-08T00:56:01.074684Z"
    }
   },
   "outputs": [
    {
     "data": {
      "image/png": "[encoded data removed]",
      "text/plain": [
       "<Figure size 400x400 with 2 Axes>"
      ]
     },
     "metadata": {},
     "output_type": "display_data"
    }
   ],
   "source": [
    "plt.figure(figsize=(4,4))\n",
    "sns.heatmap(price_mileage_correlation_matrix, annot=True, cmap=plt.cm.YlGnBu)\n",
    "plt.title(\"Linear Correlation Between log(Price) and Mileage\")\n",
    "plt.show()"
   ]
  },
  {
   "cell_type": "code",
   "execution_count": 325,
   "metadata": {
    "execution": {
     "iopub.execute_input": "2023-06-08T00:50:39.281430Z",
     "iopub.status.busy": "2023-06-08T00:50:39.280100Z",
     "iopub.status.idle": "2023-06-08T00:50:39.310839Z",
     "shell.execute_reply": "2023-06-08T00:50:39.309572Z",
     "shell.execute_reply.started": "2023-06-08T00:50:39.281372Z"
    }
   },
   "outputs": [
    {
     "name": "stderr",
     "output_type": "stream",
     "text": [
      "/tmp/ipykernel_32/3140208116.py:2: SettingWithCopyWarning: \n",
      "A value is trying to be set on a copy of a slice from a DataFrame\n",
      "\n",
      "See the caveats in the documentation: https://pandas.pydata.org/pandas-docs/stable/user_guide/indexing.html#returning-a-view-versus-a-copy\n",
      "  price_and_year_df.rename(columns={ \"log(price)\": \"log(Price)\",\n"
     ]
    },
    {
     "data": {
      "text/html": [
       "<div>\n",
       "<style scoped>\n",
       "    .dataframe tbody tr th:only-of-type {\n",
       "        vertical-align: middle;\n",
       "    }\n",
       "\n",
       "    .dataframe tbody tr th {\n",
       "        vertical-align: top;\n",
       "    }\n",
       "\n",
       "    .dataframe thead th {\n",
       "        text-align: right;\n",
       "    }\n",
       "</style>\n",
       "<table border=\"1\" class=\"dataframe\">\n",
       "  <thead>\n",
       "    <tr style=\"text-align: right;\">\n",
       "      <th></th>\n",
       "      <th>log(Price)</th>\n",
       "      <th>Year Made</th>\n",
       "    </tr>\n",
       "  </thead>\n",
       "  <tbody>\n",
       "    <tr>\n",
       "      <th>log(Price)</th>\n",
       "      <td>1.000000</td>\n",
       "      <td>0.611393</td>\n",
       "    </tr>\n",
       "    <tr>\n",
       "      <th>Year Made</th>\n",
       "      <td>0.611393</td>\n",
       "      <td>1.000000</td>\n",
       "    </tr>\n",
       "  </tbody>\n",
       "</table>\n",
       "</div>"
      ],
      "text/plain": [
       "            log(Price)  Year Made\n",
       "log(Price)    1.000000   0.611393\n",
       "Year Made     0.611393   1.000000"
      ]
     },
     "execution_count": 325,
     "metadata": {},
     "output_type": "execute_result"
    }
   ],
   "source": [
    "price_and_year_df = cars_df[[\"log(price)\", \"year\"]]\n",
    "price_and_year_df.rename(columns={ \"log(price)\": \"log(Price)\", \n",
    "                                      \"year\": \"Year Made\"},\n",
    "                            inplace=True)\n",
    "price_year_correlation_matrix = price_and_year_df.corr()\n",
    "price_year_correlation_matrix"
   ]
  },
  {
   "cell_type": "code",
   "execution_count": 340,
   "metadata": {
    "execution": {
     "iopub.execute_input": "2023-06-08T00:54:50.295332Z",
     "iopub.status.busy": "2023-06-08T00:54:50.294842Z",
     "iopub.status.idle": "2023-06-08T00:54:50.624962Z",
     "shell.execute_reply": "2023-06-08T00:54:50.623779Z",
     "shell.execute_reply.started": "2023-06-08T00:54:50.295295Z"
    }
   },
   "outputs": [
    {
     "data": {
      "image/png": "[encoded data removed]",
      "text/plain": [
       "<Figure size 300x300 with 2 Axes>"
      ]
     },
     "metadata": {},
     "output_type": "display_data"
    }
   ],
   "source": [
    "plt.figure(figsize=(4,4))\n",
    "sns.heatmap(price_year_correlation_matrix, annot=True, cmap=plt.cm.BuGn)\n",
    "plt.title(\"Linear Correlation Between log(Price) and Year Made\")\n",
    "plt.show()"
   ]
  },
  {
   "cell_type": "code",
   "execution_count": null,
   "metadata": {},
   "outputs": [],
   "source": []
  }
 ],
 "metadata": {
  "kernelspec": {
   "display_name": "Python 3 (ipykernel)",
   "language": "python",
   "name": "python3"
  },
  "language_info": {
   "codemirror_mode": {
    "name": "ipython",
    "version": 3
   },
   "file_extension": ".py",
   "mimetype": "text/x-python",
   "name": "python",
   "nbconvert_exporter": "python",
   "pygments_lexer": "ipython3",
   "version": "3.9.13"
  }
 },
 "nbformat": 4,
 "nbformat_minor": 4
}
