{
 "cells": [
  {
   "cell_type": "code",
   "execution_count": 1,
   "id": "79c65546",
   "metadata": {
    "editable": true,
    "scrolled": true,
    "slideshow": {
     "slide_type": ""
    },
    "tags": []
   },
   "outputs": [],
   "source": [
    "import numpy as np\n",
    "import pandas as pd\n",
    "import matplotlib.pyplot as plt\n",
    "import seaborn as sns\n",
    "import sklearn\n",
    "from sklearn.preprocessing import OneHotEncoder\n",
    "import time\n",
    "import graphviz"
   ]
  },
  {
   "cell_type": "markdown",
   "id": "1160b592-2fa2-4c26-998d-9b4fb0483c10",
   "metadata": {},
   "source": [
    "## Clock time"
   ]
  },
  {
   "cell_type": "code",
   "execution_count": null,
   "id": "6e8fba3c-428f-4f19-9efb-3e29588f1f8f",
   "metadata": {},
   "outputs": [],
   "source": [
    "start_time = time.time()\n",
    "\n",
    "# do something here\n",
    "\n",
    "print(\"time to run:\", time.time() - start_time)"
   ]
  },
  {
   "cell_type": "markdown",
   "id": "0621f7f6",
   "metadata": {},
   "source": [
    "## Create DataFrame from dictionary"
   ]
  },
  {
   "cell_type": "code",
   "execution_count": 29,
   "id": "586dff27",
   "metadata": {},
   "outputs": [
    {
     "data": {
      "text/html": [
       "<div>\n",
       "<style scoped>\n",
       "    .dataframe tbody tr th:only-of-type {\n",
       "        vertical-align: middle;\n",
       "    }\n",
       "\n",
       "    .dataframe tbody tr th {\n",
       "        vertical-align: top;\n",
       "    }\n",
       "\n",
       "    .dataframe thead th {\n",
       "        text-align: right;\n",
       "    }\n",
       "</style>\n",
       "<table border=\"1\" class=\"dataframe\">\n",
       "  <thead>\n",
       "    <tr style=\"text-align: right;\">\n",
       "      <th></th>\n",
       "      <th>count_1</th>\n",
       "      <th>count_2</th>\n",
       "      <th>count_3</th>\n",
       "    </tr>\n",
       "  </thead>\n",
       "  <tbody>\n",
       "    <tr>\n",
       "      <th>fake_a</th>\n",
       "      <td>0.0</td>\n",
       "      <td>0.0</td>\n",
       "      <td>1.0</td>\n",
       "    </tr>\n",
       "    <tr>\n",
       "      <th>fake_b</th>\n",
       "      <td>1.5</td>\n",
       "      <td>2.0</td>\n",
       "      <td>NaN</td>\n",
       "    </tr>\n",
       "    <tr>\n",
       "      <th>fake_c</th>\n",
       "      <td>3.0</td>\n",
       "      <td>NaN</td>\n",
       "      <td>NaN</td>\n",
       "    </tr>\n",
       "    <tr>\n",
       "      <th>fake_d</th>\n",
       "      <td>4.0</td>\n",
       "      <td>NaN</td>\n",
       "      <td>6.0</td>\n",
       "    </tr>\n",
       "  </tbody>\n",
       "</table>\n",
       "</div>"
      ],
      "text/plain": [
       "        count_1  count_2  count_3\n",
       "fake_a      0.0      0.0      1.0\n",
       "fake_b      1.5      2.0      NaN\n",
       "fake_c      3.0      NaN      NaN\n",
       "fake_d      4.0      NaN      6.0"
      ]
     },
     "execution_count": 29,
     "metadata": {},
     "output_type": "execute_result"
    }
   ],
   "source": [
    "fake_data_dict = { 'fake_a': [0,0,1], 'fake_b': [1.5, 2], 'fake_c': [3], 'fake_d': [4, None, 6] }\n",
    "\n",
    "fake_data_with_dict_index = pd.DataFrame.from_dict(data=fake_data_dict,\n",
    "                                  orient='index',\n",
    "                                  columns=['count_1', 'count_2', 'count_3'])\n",
    "fake_data_with_dict_index"
   ]
  },
  {
   "cell_type": "code",
   "execution_count": 28,
   "id": "6c363e72",
   "metadata": {},
   "outputs": [
    {
     "data": {
      "text/html": [
       "<div>\n",
       "<style scoped>\n",
       "    .dataframe tbody tr th:only-of-type {\n",
       "        vertical-align: middle;\n",
       "    }\n",
       "\n",
       "    .dataframe tbody tr th {\n",
       "        vertical-align: top;\n",
       "    }\n",
       "\n",
       "    .dataframe thead th {\n",
       "        text-align: right;\n",
       "    }\n",
       "</style>\n",
       "<table border=\"1\" class=\"dataframe\">\n",
       "  <thead>\n",
       "    <tr style=\"text-align: right;\">\n",
       "      <th></th>\n",
       "      <th>fake_a</th>\n",
       "      <th>fake_b</th>\n",
       "      <th>fake_c</th>\n",
       "      <th>fake_d</th>\n",
       "    </tr>\n",
       "  </thead>\n",
       "  <tbody>\n",
       "    <tr>\n",
       "      <th>0</th>\n",
       "      <td>0.0</td>\n",
       "      <td>NaN</td>\n",
       "      <td>NaN</td>\n",
       "      <td>4.0</td>\n",
       "    </tr>\n",
       "    <tr>\n",
       "      <th>1</th>\n",
       "      <td>NaN</td>\n",
       "      <td>1.5</td>\n",
       "      <td>NaN</td>\n",
       "      <td>NaN</td>\n",
       "    </tr>\n",
       "    <tr>\n",
       "      <th>2</th>\n",
       "      <td>1.0</td>\n",
       "      <td>2.0</td>\n",
       "      <td>3.0</td>\n",
       "      <td>3.0</td>\n",
       "    </tr>\n",
       "  </tbody>\n",
       "</table>\n",
       "</div>"
      ],
      "text/plain": [
       "   fake_a  fake_b  fake_c  fake_d\n",
       "0     0.0     NaN     NaN     4.0\n",
       "1     NaN     1.5     NaN     NaN\n",
       "2     1.0     2.0     3.0     3.0"
      ]
     },
     "execution_count": 28,
     "metadata": {},
     "output_type": "execute_result"
    }
   ],
   "source": [
    "fake_data_dict_same_num_columns = { 'fake_a': [0, None, 1], 'fake_b': [None, 1.5, 2], 'fake_c': [None, None, 3], 'fake_d': [4, None, 3] }\n",
    "\n",
    "fake_data_with_dict_columns = pd.DataFrame.from_dict(data=fake_data_dict_same_num_columns)\n",
    "fake_data_with_dict_columns"
   ]
  },
  {
   "cell_type": "markdown",
   "id": "087d5b5a",
   "metadata": {},
   "source": [
    "## Create DataFrame from list of lists"
   ]
  },
  {
   "cell_type": "code",
   "execution_count": 43,
   "id": "6bdff78d",
   "metadata": {},
   "outputs": [
    {
     "data": {
      "text/html": [
       "<div>\n",
       "<style scoped>\n",
       "    .dataframe tbody tr th:only-of-type {\n",
       "        vertical-align: middle;\n",
       "    }\n",
       "\n",
       "    .dataframe tbody tr th {\n",
       "        vertical-align: top;\n",
       "    }\n",
       "\n",
       "    .dataframe thead th {\n",
       "        text-align: right;\n",
       "    }\n",
       "</style>\n",
       "<table border=\"1\" class=\"dataframe\">\n",
       "  <thead>\n",
       "    <tr style=\"text-align: right;\">\n",
       "      <th></th>\n",
       "      <th>categorical</th>\n",
       "      <th>numerical</th>\n",
       "      <th>binary</th>\n",
       "      <th>integer</th>\n",
       "    </tr>\n",
       "  </thead>\n",
       "  <tbody>\n",
       "    <tr>\n",
       "      <th>0</th>\n",
       "      <td>fake_a</td>\n",
       "      <td>1.90</td>\n",
       "      <td>yes</td>\n",
       "      <td>4.0</td>\n",
       "    </tr>\n",
       "    <tr>\n",
       "      <th>1</th>\n",
       "      <td>fake_a</td>\n",
       "      <td>1.55</td>\n",
       "      <td>no</td>\n",
       "      <td>3.0</td>\n",
       "    </tr>\n",
       "    <tr>\n",
       "      <th>2</th>\n",
       "      <td>fake_c</td>\n",
       "      <td>NaN</td>\n",
       "      <td>None</td>\n",
       "      <td>NaN</td>\n",
       "    </tr>\n",
       "    <tr>\n",
       "      <th>3</th>\n",
       "      <td>fake_b</td>\n",
       "      <td>1.30</td>\n",
       "      <td>yes</td>\n",
       "      <td>8.0</td>\n",
       "    </tr>\n",
       "    <tr>\n",
       "      <th>4</th>\n",
       "      <td>fake_c</td>\n",
       "      <td>-1.64</td>\n",
       "      <td>no</td>\n",
       "      <td>4.0</td>\n",
       "    </tr>\n",
       "    <tr>\n",
       "      <th>5</th>\n",
       "      <td>fake_a</td>\n",
       "      <td>NaN</td>\n",
       "      <td>no</td>\n",
       "      <td>6.0</td>\n",
       "    </tr>\n",
       "    <tr>\n",
       "      <th>6</th>\n",
       "      <td>fake_b</td>\n",
       "      <td>-1.24</td>\n",
       "      <td>yes</td>\n",
       "      <td>NaN</td>\n",
       "    </tr>\n",
       "    <tr>\n",
       "      <th>7</th>\n",
       "      <td>fake_c</td>\n",
       "      <td>-0.99</td>\n",
       "      <td>yes</td>\n",
       "      <td>7.0</td>\n",
       "    </tr>\n",
       "    <tr>\n",
       "      <th>8</th>\n",
       "      <td>fake_b</td>\n",
       "      <td>NaN</td>\n",
       "      <td>no</td>\n",
       "      <td>5.0</td>\n",
       "    </tr>\n",
       "  </tbody>\n",
       "</table>\n",
       "</div>"
      ],
      "text/plain": [
       "  categorical  numerical binary  integer\n",
       "0      fake_a       1.90    yes      4.0\n",
       "1      fake_a       1.55     no      3.0\n",
       "2      fake_c        NaN   None      NaN\n",
       "3      fake_b       1.30    yes      8.0\n",
       "4      fake_c      -1.64     no      4.0\n",
       "5      fake_a        NaN     no      6.0\n",
       "6      fake_b      -1.24    yes      NaN\n",
       "7      fake_c      -0.99    yes      7.0\n",
       "8      fake_b        NaN     no      5.0"
      ]
     },
     "execution_count": 43,
     "metadata": {},
     "output_type": "execute_result"
    }
   ],
   "source": [
    "fake_data_list = [['fake_a', 1.9, 'yes', 4], ['fake_a', 1.55, 'no', 3], ['fake_c', None, None, None],\n",
    "                  ['fake_b', 1.3, 'yes', 8], ['fake_c', -1.64, 'no', 4], ['fake_a', None, 'no', 6],\n",
    "                  ['fake_b', -1.24, 'yes', None], ['fake_c', -0.99, 'yes', 7], ['fake_b', None, 'no', 5]]\n",
    "\n",
    "fake_data = pd.DataFrame(data=fake_data_list, columns=['categorical', 'numerical', 'binary', 'integer'])\n",
    "fake_data"
   ]
  },
  {
   "cell_type": "markdown",
   "id": "77b2b8c9",
   "metadata": {},
   "source": [
    "## See object types"
   ]
  },
  {
   "cell_type": "code",
   "execution_count": 44,
   "id": "b2717a1f",
   "metadata": {},
   "outputs": [
    {
     "name": "stdout",
     "output_type": "stream",
     "text": [
      "<class 'pandas.core.frame.DataFrame'>\n",
      "RangeIndex: 9 entries, 0 to 8\n",
      "Data columns (total 4 columns):\n",
      " #   Column       Non-Null Count  Dtype  \n",
      "---  ------       --------------  -----  \n",
      " 0   categorical  9 non-null      object \n",
      " 1   numerical    6 non-null      float64\n",
      " 2   binary       8 non-null      object \n",
      " 3   integer      7 non-null      float64\n",
      "dtypes: float64(2), object(2)\n",
      "memory usage: 416.0+ bytes\n"
     ]
    }
   ],
   "source": [
    "fake_data.info()"
   ]
  },
  {
   "cell_type": "markdown",
   "id": "5dc3bbf3",
   "metadata": {},
   "source": [
    "## Basis statistics of numerical columns"
   ]
  },
  {
   "cell_type": "code",
   "execution_count": 50,
   "id": "68e21ca7",
   "metadata": {},
   "outputs": [
    {
     "data": {
      "text/html": [
       "<div>\n",
       "<style scoped>\n",
       "    .dataframe tbody tr th:only-of-type {\n",
       "        vertical-align: middle;\n",
       "    }\n",
       "\n",
       "    .dataframe tbody tr th {\n",
       "        vertical-align: top;\n",
       "    }\n",
       "\n",
       "    .dataframe thead th {\n",
       "        text-align: right;\n",
       "    }\n",
       "</style>\n",
       "<table border=\"1\" class=\"dataframe\">\n",
       "  <thead>\n",
       "    <tr style=\"text-align: right;\">\n",
       "      <th></th>\n",
       "      <th>numerical</th>\n",
       "      <th>integer</th>\n",
       "    </tr>\n",
       "  </thead>\n",
       "  <tbody>\n",
       "    <tr>\n",
       "      <th>count</th>\n",
       "      <td>6.000000</td>\n",
       "      <td>7.000000</td>\n",
       "    </tr>\n",
       "    <tr>\n",
       "      <th>mean</th>\n",
       "      <td>0.146667</td>\n",
       "      <td>5.285714</td>\n",
       "    </tr>\n",
       "    <tr>\n",
       "      <th>std</th>\n",
       "      <td>1.598795</td>\n",
       "      <td>1.799471</td>\n",
       "    </tr>\n",
       "    <tr>\n",
       "      <th>min</th>\n",
       "      <td>-1.640000</td>\n",
       "      <td>3.000000</td>\n",
       "    </tr>\n",
       "    <tr>\n",
       "      <th>25%</th>\n",
       "      <td>-1.177500</td>\n",
       "      <td>4.000000</td>\n",
       "    </tr>\n",
       "    <tr>\n",
       "      <th>50%</th>\n",
       "      <td>0.155000</td>\n",
       "      <td>5.000000</td>\n",
       "    </tr>\n",
       "    <tr>\n",
       "      <th>75%</th>\n",
       "      <td>1.487500</td>\n",
       "      <td>6.500000</td>\n",
       "    </tr>\n",
       "    <tr>\n",
       "      <th>max</th>\n",
       "      <td>1.900000</td>\n",
       "      <td>8.000000</td>\n",
       "    </tr>\n",
       "  </tbody>\n",
       "</table>\n",
       "</div>"
      ],
      "text/plain": [
       "       numerical   integer\n",
       "count   6.000000  7.000000\n",
       "mean    0.146667  5.285714\n",
       "std     1.598795  1.799471\n",
       "min    -1.640000  3.000000\n",
       "25%    -1.177500  4.000000\n",
       "50%     0.155000  5.000000\n",
       "75%     1.487500  6.500000\n",
       "max     1.900000  8.000000"
      ]
     },
     "execution_count": 50,
     "metadata": {},
     "output_type": "execute_result"
    }
   ],
   "source": [
    "fake_data.describe()"
   ]
  },
  {
   "cell_type": "markdown",
   "id": "d5d975c5",
   "metadata": {},
   "source": [
    "## Count and see unique values of a particular column"
   ]
  },
  {
   "cell_type": "code",
   "execution_count": 59,
   "id": "ff1733ef",
   "metadata": {},
   "outputs": [
    {
     "name": "stdout",
     "output_type": "stream",
     "text": [
      "Number of unique values in select column: 3\n"
     ]
    },
    {
     "data": {
      "text/plain": [
       "array(['fake_a', 'fake_c', 'fake_b'], dtype=object)"
      ]
     },
     "execution_count": 59,
     "metadata": {},
     "output_type": "execute_result"
    }
   ],
   "source": [
    "print(\"Number of unique values in select column:\", fake_data['categorical'].nunique())\n",
    "fake_data['categorical'].unique() # wrap it in list() to get just array"
   ]
  },
  {
   "cell_type": "markdown",
   "id": "a6f16309",
   "metadata": {},
   "source": [
    "## Null values, missing values\n",
    "### axis=0 means up and down in 2d, condense 4d tensor of shape \n",
    "### (n, m, k, p) to (1, m, k, p)\n",
    "### axis=1 means right and left in 2d, condense 4d tensor of shape \n",
    "### (n, m, k, p) to (n, 1, k, p)\n",
    "### axis=3 in a 4d tensor, condense 4d tensor of shape \n",
    "### (n, m, k, p) to (n, m, k, 1)"
   ]
  },
  {
   "cell_type": "markdown",
   "id": "ad4c1791",
   "metadata": {},
   "source": [
    "## Count number of missing or null values per column, hence axis=0"
   ]
  },
  {
   "cell_type": "code",
   "execution_count": 49,
   "id": "29974361",
   "metadata": {},
   "outputs": [
    {
     "data": {
      "text/plain": [
       "categorical    0\n",
       "numerical      3\n",
       "binary         1\n",
       "integer        2\n",
       "dtype: int64"
      ]
     },
     "execution_count": 49,
     "metadata": {},
     "output_type": "execute_result"
    }
   ],
   "source": [
    "fake_data.isnull().sum(axis=0)"
   ]
  },
  {
   "cell_type": "markdown",
   "id": "480991b0",
   "metadata": {},
   "source": [
    "## Count number of missing or null values per data per row(example), hence axis=1"
   ]
  },
  {
   "cell_type": "code",
   "execution_count": 61,
   "id": "3c7d81ae",
   "metadata": {},
   "outputs": [
    {
     "data": {
      "text/plain": [
       "0    0\n",
       "1    0\n",
       "2    3\n",
       "3    0\n",
       "4    0\n",
       "5    1\n",
       "6    1\n",
       "7    0\n",
       "8    1\n",
       "dtype: int64"
      ]
     },
     "execution_count": 61,
     "metadata": {},
     "output_type": "execute_result"
    }
   ],
   "source": [
    "fake_data.isnull().sum(axis=1)"
   ]
  },
  {
   "cell_type": "markdown",
   "id": "c4852990",
   "metadata": {},
   "source": [
    "## Create pie graph of number of rows with x columns of missing values"
   ]
  },
  {
   "cell_type": "code",
   "execution_count": 96,
   "id": "77bbf434",
   "metadata": {},
   "outputs": [
    {
     "name": "stdout",
     "output_type": "stream",
     "text": [
      "  categorical  numerical binary  integer  null_count\n",
      "0      fake_a       1.90    yes      4.0           0\n",
      "1      fake_a       1.55     no      3.0           0\n",
      "2      fake_c        NaN   None      NaN           3\n",
      "3      fake_b       1.30    yes      8.0           0\n",
      "4      fake_c      -1.64     no      4.0           0\n",
      "5      fake_a        NaN     no      6.0           1\n",
      "6      fake_b      -1.24    yes      NaN           1\n",
      "7      fake_c      -0.99    yes      7.0           0\n",
      "8      fake_b        NaN     no      5.0           1\n",
      "--------------------------------------------------------\n",
      "null_count\n",
      "0    5\n",
      "1    3\n",
      "3    1\n",
      "dtype: int64\n",
      "--------------------------------------------------------\n",
      "{0: 5, 1: 3, 3: 1}\n"
     ]
    },
    {
     "data": {
      "text/plain": [
       "{'0 Null Value(s)': 5, '1 Null Value(s)': 3, '3 Null Value(s)': 1}"
      ]
     },
     "execution_count": 96,
     "metadata": {},
     "output_type": "execute_result"
    }
   ],
   "source": [
    "fake_data['null_count'] = fake_data.isnull().sum(axis=1)\n",
    "print(fake_data)\n",
    "print('--------------------------------------------------------')\n",
    "print(fake_data.groupby('null_count').count().max(axis=1))\n",
    "print('--------------------------------------------------------')\n",
    "fakeData_grouped_by_nullCount_dict = fake_data.groupby('null_count').count().max(axis=1).to_dict()\n",
    "print(fakeData_grouped_by_nullCount_dict)\n",
    "fakeData_grouped_by_nullCount_dict_renamedKeys = { \"{} Null Value(s)\".format(key): value for key, value in fakeData_grouped_by_nullCount_dict.items() }\n",
    "fakeData_grouped_by_nullCount_dict_renamedKeys"
   ]
  },
  {
   "cell_type": "code",
   "execution_count": 89,
   "id": "4a44fc8f",
   "metadata": {},
   "outputs": [
    {
     "data": {
      "image/png": "[encoded data removed]",
      "text/plain": [
       "<Figure size 400x400 with 1 Axes>"
      ]
     },
     "metadata": {},
     "output_type": "display_data"
    }
   ],
   "source": [
    "fig, ax = plt.subplots(nrows=1, ncols=1, figsize=(4, 4))\n",
    "# ax = ax.flatten() # if multiple subplots\n",
    "# _ = ax[0].pie()\n",
    "# ax[0].set_title()\n",
    "\n",
    "ax.pie(x=list(fakeData_grouped_by_nullCount_dict_renamedKeys.values()),\n",
    "       autopct=lambda x: \"{:,.0f} = {:.2f}%\".format(x * sum(fakeData_grouped_by_nullCount_dict_renamedKeys.values())/100, x),\n",
    "       explode=[0.05] * len(fakeData_grouped_by_nullCount_dict_renamedKeys.keys()),\n",
    "       labels=fakeData_grouped_by_nullCount_dict_renamedKeys.keys(),\n",
    "       colors=sns.color_palette(\"Set2\")[0:len(fakeData_grouped_by_nullCount_dict_renamedKeys.keys())])\n",
    "\n",
    "plt.title(\"Number of Rows With x Null Values\")\n",
    "plt.show()"
   ]
  },
  {
   "cell_type": "markdown",
   "id": "32284f36",
   "metadata": {},
   "source": [
    "## Visualize which columns are missing data and how much?"
   ]
  },
  {
   "cell_type": "code",
   "execution_count": 110,
   "id": "648dc70f",
   "metadata": {},
   "outputs": [
    {
     "name": "stdout",
     "output_type": "stream",
     "text": [
      "categorical    0\n",
      "numerical      2\n",
      "binary         0\n",
      "integer        1\n",
      "null_count     0\n",
      "dtype: int64\n",
      "---------------------------------------------------------------------\n",
      "Index(['categorical', 'numerical', 'binary', 'integer'], dtype='object')\n"
     ]
    },
    {
     "data": {
      "text/html": [
       "<div>\n",
       "<style scoped>\n",
       "    .dataframe tbody tr th:only-of-type {\n",
       "        vertical-align: middle;\n",
       "    }\n",
       "\n",
       "    .dataframe tbody tr th {\n",
       "        vertical-align: top;\n",
       "    }\n",
       "\n",
       "    .dataframe thead th {\n",
       "        text-align: right;\n",
       "    }\n",
       "</style>\n",
       "<table border=\"1\" class=\"dataframe\">\n",
       "  <thead>\n",
       "    <tr style=\"text-align: right;\">\n",
       "      <th></th>\n",
       "      <th>categorical</th>\n",
       "      <th>numerical</th>\n",
       "      <th>binary</th>\n",
       "      <th>integer</th>\n",
       "      <th>null_count</th>\n",
       "    </tr>\n",
       "  </thead>\n",
       "  <tbody>\n",
       "    <tr>\n",
       "      <th>5</th>\n",
       "      <td>fake_a</td>\n",
       "      <td>NaN</td>\n",
       "      <td>no</td>\n",
       "      <td>6.0</td>\n",
       "      <td>1</td>\n",
       "    </tr>\n",
       "    <tr>\n",
       "      <th>6</th>\n",
       "      <td>fake_b</td>\n",
       "      <td>-1.24</td>\n",
       "      <td>yes</td>\n",
       "      <td>NaN</td>\n",
       "      <td>1</td>\n",
       "    </tr>\n",
       "    <tr>\n",
       "      <th>8</th>\n",
       "      <td>fake_b</td>\n",
       "      <td>NaN</td>\n",
       "      <td>no</td>\n",
       "      <td>5.0</td>\n",
       "      <td>1</td>\n",
       "    </tr>\n",
       "  </tbody>\n",
       "</table>\n",
       "</div>"
      ],
      "text/plain": [
       "  categorical  numerical binary  integer  null_count\n",
       "5      fake_a        NaN     no      6.0           1\n",
       "6      fake_b      -1.24    yes      NaN           1\n",
       "8      fake_b        NaN     no      5.0           1"
      ]
     },
     "execution_count": 110,
     "metadata": {},
     "output_type": "execute_result"
    }
   ],
   "source": [
    "print(fake_data[fake_data['null_count'] == 1].isnull().sum())\n",
    "print('---------------------------------------------------------------------')\n",
    "print(fake_data[fake_data['null_count'] == 1].isnull().sum().index[:-1])\n",
    "fake_data[fake_data['null_count'] == 1]"
   ]
  },
  {
   "cell_type": "code",
   "execution_count": 126,
   "id": "837a144c",
   "metadata": {},
   "outputs": [
    {
     "name": "stdout",
     "output_type": "stream",
     "text": [
      "[array([0, 2, 0, 1], dtype=int64), array([0., 0., 0., 0.]), array([0, 1, 1, 1], dtype=int64)]\n",
      "-----------------------------------------------------------------------\n",
      "labels: Index(['categorical', 'numerical', 'binary', 'integer'], dtype='object')\n",
      "-----------------------------------------------------------------------\n"
     ]
    },
    {
     "data": {
      "image/png": "[encoded data removed]",
      "text/plain": [
       "<Figure size 1500x500 with 3 Axes>"
      ]
     },
     "metadata": {},
     "output_type": "display_data"
    }
   ],
   "source": [
    "MAX_NUM_MISSING_VALUES = 3\n",
    "\n",
    "amount_of_null_counts = [\n",
    "    fake_data[fake_data['null_count'] == x]\n",
    "    .isnull().sum().values[:-1] for x in range(1, MAX_NUM_MISSING_VALUES + 1)\n",
    "]\n",
    "\n",
    "print(amount_of_null_counts)\n",
    "print('-----------------------------------------------------------------------')\n",
    "labels = fake_data.columns[:-1] # exclude 'null_count' column\n",
    "print('labels:', labels)\n",
    "print('-----------------------------------------------------------------------')\n",
    "\n",
    "fig, axes = plt.subplots(nrows=1, ncols=MAX_NUM_MISSING_VALUES, figsize=(15, 5))\n",
    "axes = axes.flatten()\n",
    "\n",
    "for i in range(MAX_NUM_MISSING_VALUES):\n",
    "    ax = axes[i]\n",
    "    _ = sns.barplot(x=labels, y=amount_of_null_counts[i], ax=ax)\n",
    "    _ = ax.set_title(\"Number of Rows With {} Null(s)\".format(i+1), fontsize=15)\n",
    "    _ = ax.set_ylabel(\"Number of Null\" if i == 0 else \"\")\n",
    "    _ = ax.set_xticks([i for i in range(len(labels))], labels, rotation=90)\n",
    "    for patch in ax.patches:\n",
    "        ax.text(x=patch.get_x() + (patch.get_width()/2), \n",
    "                y=patch.get_height(),\n",
    "                s=\"{:d}\".format(int(patch.get_height())),\n",
    "                ha='center')"
   ]
  },
  {
   "cell_type": "code",
   "execution_count": 131,
   "id": "2792e0e2",
   "metadata": {},
   "outputs": [
    {
     "data": {
      "image/png": "[encoded data removed]",
      "text/plain": [
       "<Figure size 300x300 with 12 Axes>"
      ]
     },
     "metadata": {},
     "output_type": "display_data"
    }
   ],
   "source": [
    "sns.pairplot(fake_data, height=1)\n",
    "plt.show()"
   ]
  },
  {
   "cell_type": "code",
   "execution_count": 139,
   "id": "479ddc4c",
   "metadata": {},
   "outputs": [
    {
     "data": {
      "image/png": "[encoded data removed]",
      "text/plain": [
       "<Figure size 640x480 with 1 Axes>"
      ]
     },
     "metadata": {},
     "output_type": "display_data"
    }
   ],
   "source": [
    "fake_data['numerical'].hist(bins=40)\n",
    "plt.show()"
   ]
  },
  {
   "cell_type": "markdown",
   "id": "1a8d1ac0",
   "metadata": {},
   "source": [
    "## Drop columns, default in Pandas is to create a copy, ie: inplace=False"
   ]
  },
  {
   "cell_type": "code",
   "execution_count": null,
   "id": "2efd2ab0",
   "metadata": {},
   "outputs": [],
   "source": [
    "fake_data.drop(columns=[\"column_A\", \"column_K\"], axis=1, inplace=True)"
   ]
  },
  {
   "cell_type": "markdown",
   "id": "6f30bb06",
   "metadata": {},
   "source": [
    "## Drop rows with missing values, rows with null values in specific columns"
   ]
  },
  {
   "cell_type": "code",
   "execution_count": null,
   "id": "7f71c7a9",
   "metadata": {},
   "outputs": [],
   "source": [
    "fake_data.dropna(subset=[\"column_A\", \"column_K\"], inplace=True)"
   ]
  },
  {
   "cell_type": "markdown",
   "id": "4bc915f1",
   "metadata": {},
   "source": [
    "## Drop rows with certain column values based on numerical condition"
   ]
  },
  {
   "cell_type": "code",
   "execution_count": null,
   "id": "8222a763",
   "metadata": {},
   "outputs": [],
   "source": [
    "columnK_indices_by_condition = fake_data[fake_data[\"column_K\"] < numerical_condition].index\n",
    "fake_data.drop(labels=columnK_indices_by_condition, inplace=True)"
   ]
  },
  {
   "cell_type": "markdown",
   "id": "3c35a5ae",
   "metadata": {},
   "source": [
    "## Drop rows with certain column values based on list of strings condition"
   ]
  },
  {
   "cell_type": "code",
   "execution_count": null,
   "id": "dec95967",
   "metadata": {},
   "outputs": [],
   "source": [
    "list_of_strings = ['str1', 'str2', 'str3']\n",
    "new_df_with_rows_dropped = fake_df[\n",
    "        fake_df[\"str_column\"].str.contains(\"|\".join(list_of_strings))\n",
    "]"
   ]
  },
  {
   "cell_type": "markdown",
   "id": "b4be9599",
   "metadata": {},
   "source": [
    "## Break up a string, split a string at multiple points"
   ]
  },
  {
   "cell_type": "code",
   "execution_count": 173,
   "id": "87d125d1",
   "metadata": {},
   "outputs": [
    {
     "name": "stdout",
     "output_type": "stream",
     "text": [
      "list_of_broken_strings: ['this ', 'is', ' an', '', ' example', ' string']\n",
      "whitespace_removed_begin_end: ['this', 'is', 'an', '', 'example', 'string']\n",
      "substrings_filtered:  ['this', 'is', 'an', '', 'example']\n",
      "empty_strings_filtered: ['this', 'is', 'an', 'example']\n"
     ]
    }
   ],
   "source": [
    "import re\n",
    "\n",
    "example_string_to_breakup = \"this .is! an<li></li> example. string\"\n",
    "regex = '!|<li>|</li>|\\.'\n",
    "\n",
    "# note: to get rid of '.', regex needs '\\.'\n",
    "# note: if letter by letter split is wanted, use extra pipe '|' at beginning or end of regex\n",
    "# regex_with_extra_pipe = \"!|<li>|</li>|\\.\"\n",
    "\n",
    "list_of_broken_strings = re.split(regex, example_string_to_breakup)\n",
    "print('list_of_broken_strings:', list_of_broken_strings)\n",
    "\n",
    "whitespace_removed_begin_end = list(map(lambda x: x.strip(), list_of_broken_strings))\n",
    "print('whitespace_removed_begin_end:', whitespace_removed_begin_end)\n",
    "\n",
    "substrings_filtered = list(filter(lambda x: x != \"string\", whitespace_removed_begin_end))\n",
    "print('substrings_filtered: ', substrings_filtered)\n",
    "\n",
    "empty_strings_filtered = list(filter(lambda x: x != '', substrings_filtered))\n",
    "print('empty_strings_filtered:', empty_strings_filtered)"
   ]
  },
  {
   "cell_type": "markdown",
   "id": "ccc76e65",
   "metadata": {},
   "source": [
    "## Change data type"
   ]
  },
  {
   "cell_type": "code",
   "execution_count": null,
   "id": "8fa2a81b",
   "metadata": {},
   "outputs": [],
   "source": [
    "data_type_changed = fake_data.astype(dtype={ 'column_A': np.unit16,\n",
    "                                             'column_K': np.float16},\n",
    "                                     copy=False)"
   ]
  },
  {
   "cell_type": "markdown",
   "id": "1d617c54",
   "metadata": {},
   "source": [
    "## Split dataframe into train, test sets"
   ]
  },
  {
   "cell_type": "code",
   "execution_count": null,
   "id": "4ff12116",
   "metadata": {},
   "outputs": [],
   "source": [
    "train_df = fake_data.sample(frac=0.8, random_state=0)\n",
    "test_df = train_df.drop(labels=train_df.index)"
   ]
  },
  {
   "cell_type": "markdown",
   "id": "acc11824",
   "metadata": {},
   "source": [
    "## Change column name"
   ]
  },
  {
   "cell_type": "code",
   "execution_count": null,
   "id": "dd8b2043",
   "metadata": {},
   "outputs": [],
   "source": [
    "fake_data.rename(columns={ \"original_column_name\": \"new_column_name\" }, inplace=True)"
   ]
  },
  {
   "cell_type": "markdown",
   "id": "4b6508bb",
   "metadata": {},
   "source": [
    "## Fill null values with arbitrary value"
   ]
  },
  {
   "cell_type": "code",
   "execution_count": null,
   "id": "6c19cd9d",
   "metadata": {},
   "outputs": [],
   "source": [
    "fake_data[\"column_with_null_values\"].fillna(arbitrary_value, inplace=True)"
   ]
  },
  {
   "cell_type": "markdown",
   "id": "d4fc839c",
   "metadata": {},
   "source": [
    "## Add column, add auxilliary column to indicate missing/not missing feature"
   ]
  },
  {
   "cell_type": "code",
   "execution_count": null,
   "id": "efb2fbb8",
   "metadata": {},
   "outputs": [],
   "source": [
    "fake_data[\"missing_data_yes_or_no\"] = np.where(condition=fake_data['column_with_nulls'] == some_value,\n",
    "                                               1,\n",
    "                                               0)"
   ]
  },
  {
   "cell_type": "markdown",
   "id": "aae28c51",
   "metadata": {},
   "source": [
    "## Apply transformation to column, apply log transformation"
   ]
  },
  {
   "cell_type": "code",
   "execution_count": 184,
   "id": "39d513c5",
   "metadata": {},
   "outputs": [
    {
     "data": {
      "image/png": "[encoded data removed]",
      "text/plain": [
       "<Figure size 600x400 with 2 Axes>"
      ]
     },
     "metadata": {},
     "output_type": "display_data"
    }
   ],
   "source": [
    "fig, axes = plt.subplots(nrows=1, ncols=2, figsize=(6,4))\n",
    "\n",
    "fake_data['integer'].apply(np.log).hist(ax=axes[0], bins=10)\n",
    "(fake_data['integer'] ** (1/4)).apply(np.cbrt).hist(ax=axes[1], bins=10)\n",
    "\n",
    "plt.show()"
   ]
  },
  {
   "cell_type": "markdown",
   "id": "c8ef283a",
   "metadata": {},
   "source": [
    "## Join dataframes of equal number of rows side by side"
   ]
  },
  {
   "cell_type": "code",
   "execution_count": null,
   "id": "d4638144",
   "metadata": {},
   "outputs": [],
   "source": [
    "side_by_side_join = pd.concat([df_a.reset_index(drop=True), df_b.reset_index(drop=True)],\n",
    "                              axis=1)"
   ]
  },
  {
   "cell_type": "markdown",
   "id": "ff28c602",
   "metadata": {},
   "source": [
    "## Stack dataframes of equal number of columns on top of each other"
   ]
  },
  {
   "cell_type": "code",
   "execution_count": null,
   "id": "59ded3fd",
   "metadata": {},
   "outputs": [],
   "source": [
    "stacked_df = pd.concat([df_a, df_b], ignore_index=True, axis=0)"
   ]
  },
  {
   "cell_type": "markdown",
   "id": "437c6913",
   "metadata": {},
   "source": [
    "## Graph regression errors"
   ]
  },
  {
   "cell_type": "code",
   "execution_count": 276,
   "id": "92f53f56",
   "metadata": {},
   "outputs": [
    {
     "data": {
      "image/png": "[encoded data removed]",
      "text/plain": [
       "<Figure size 400x300 with 1 Axes>"
      ]
     },
     "metadata": {},
     "output_type": "display_data"
    }
   ],
   "source": [
    "y_test = np.arange(0, 1000, 1)\n",
    "y_predictions = np.arange(0, 1000, 1) + np.random.normal(loc=0, scale=0.1, size=1000)\n",
    "difference_real_predictions = y_predictions - y_test\n",
    "plt.figure(figsize=(4,3))\n",
    "plt.hist(x=difference_real_predictions, bins=30, color='green', alpha=0.75)\n",
    "plt.xlabel(\"Differences Between Predicted and Actual\")\n",
    "plt.ylabel(\"Number of Data Samples\")\n",
    "plt.show()"
   ]
  },
  {
   "cell_type": "code",
   "execution_count": 294,
   "id": "7ff413ce",
   "metadata": {},
   "outputs": [
    {
     "data": {
      "image/png": "[encoded data removed]",
      "text/plain": [
       "<Figure size 400x400 with 1 Axes>"
      ]
     },
     "metadata": {},
     "output_type": "display_data"
    }
   ],
   "source": [
    "y_test = np.arange(0, 100, 1)\n",
    "y_predictions = np.arange(0, 100, 1) + np.random.normal(loc=0, scale=10, size=100)\n",
    "fig, ax = plt.subplots(figsize=(4,4))\n",
    "ax.scatter(x=y_test, y=y_predictions)\n",
    "# ax.scatter(x=np.arange(start=0, stop=100), y=np.arange(start=0, stop=100), linewidth=1.0, linestyle='--')\n",
    "plt.xlabel('Actual')\n",
    "plt.ylabel('Predicted')\n",
    "plt.show()"
   ]
  },
  {
   "cell_type": "markdown",
   "id": "17623863",
   "metadata": {},
   "source": [
    "## Repeat a data sample"
   ]
  },
  {
   "cell_type": "code",
   "execution_count": 213,
   "id": "1d59fecb",
   "metadata": {},
   "outputs": [
    {
     "name": "stdout",
     "output_type": "stream",
     "text": [
      "data sample:\n",
      " categorical    fake_a\n",
      "numerical         1.9\n",
      "binary            yes\n",
      "integer           4.0\n",
      "null_count          0\n",
      "Name: 0, dtype: object\n",
      "--------------------------------\n"
     ]
    },
    {
     "data": {
      "text/html": [
       "<div>\n",
       "<style scoped>\n",
       "    .dataframe tbody tr th:only-of-type {\n",
       "        vertical-align: middle;\n",
       "    }\n",
       "\n",
       "    .dataframe tbody tr th {\n",
       "        vertical-align: top;\n",
       "    }\n",
       "\n",
       "    .dataframe thead th {\n",
       "        text-align: right;\n",
       "    }\n",
       "</style>\n",
       "<table border=\"1\" class=\"dataframe\">\n",
       "  <thead>\n",
       "    <tr style=\"text-align: right;\">\n",
       "      <th></th>\n",
       "      <th>0</th>\n",
       "      <th>1</th>\n",
       "      <th>2</th>\n",
       "      <th>3</th>\n",
       "      <th>4</th>\n",
       "    </tr>\n",
       "  </thead>\n",
       "  <tbody>\n",
       "    <tr>\n",
       "      <th>0</th>\n",
       "      <td>fake_a</td>\n",
       "      <td>1.9</td>\n",
       "      <td>yes</td>\n",
       "      <td>4.0</td>\n",
       "      <td>0</td>\n",
       "    </tr>\n",
       "    <tr>\n",
       "      <th>1</th>\n",
       "      <td>fake_a</td>\n",
       "      <td>1.9</td>\n",
       "      <td>yes</td>\n",
       "      <td>4.0</td>\n",
       "      <td>0</td>\n",
       "    </tr>\n",
       "    <tr>\n",
       "      <th>2</th>\n",
       "      <td>fake_a</td>\n",
       "      <td>1.9</td>\n",
       "      <td>yes</td>\n",
       "      <td>4.0</td>\n",
       "      <td>0</td>\n",
       "    </tr>\n",
       "  </tbody>\n",
       "</table>\n",
       "</div>"
      ],
      "text/plain": [
       "        0    1    2    3  4\n",
       "0  fake_a  1.9  yes  4.0  0\n",
       "1  fake_a  1.9  yes  4.0  0\n",
       "2  fake_a  1.9  yes  4.0  0"
      ]
     },
     "execution_count": 213,
     "metadata": {},
     "output_type": "execute_result"
    }
   ],
   "source": [
    "# step 1: take a sample row from the dataframe\n",
    "data_sample = fake_data.iloc[0]\n",
    "print(\"data sample:\\n\", data_sample)\n",
    "print('--------------------------------')\n",
    "\n",
    "# step 2: step 1 returns a Pandas Series, convert Series to Dataframe and transpose()\n",
    "data_sample_df = data_sample.to_frame().transpose().values\n",
    "\n",
    "# step 3: repeat this 1 row dataframe\n",
    "repeat_n_times = 3\n",
    "sample_repeated_df = pd.DataFrame(np.repeat(a=data_sample_df,\n",
    "                                            repeats=repeat_n_times,\n",
    "                                            axis=0))\n",
    "\n",
    "sample_repeated_df"
   ]
  },
  {
   "cell_type": "markdown",
   "id": "f4957248",
   "metadata": {},
   "source": [
    "## Convert binary column to one hot using various methods\n",
    "### First method"
   ]
  },
  {
   "cell_type": "code",
   "execution_count": 33,
   "id": "7aa8a6ac",
   "metadata": {},
   "outputs": [
    {
     "data": {
      "text/html": [
       "<div>\n",
       "<style scoped>\n",
       "    .dataframe tbody tr th:only-of-type {\n",
       "        vertical-align: middle;\n",
       "    }\n",
       "\n",
       "    .dataframe tbody tr th {\n",
       "        vertical-align: top;\n",
       "    }\n",
       "\n",
       "    .dataframe thead th {\n",
       "        text-align: right;\n",
       "    }\n",
       "</style>\n",
       "<table border=\"1\" class=\"dataframe\">\n",
       "  <thead>\n",
       "    <tr style=\"text-align: right;\">\n",
       "      <th></th>\n",
       "      <th>categorical</th>\n",
       "      <th>numerical</th>\n",
       "      <th>binary</th>\n",
       "      <th>integer</th>\n",
       "      <th>binary_one_hot</th>\n",
       "    </tr>\n",
       "  </thead>\n",
       "  <tbody>\n",
       "    <tr>\n",
       "      <th>0</th>\n",
       "      <td>fake_a</td>\n",
       "      <td>1.90</td>\n",
       "      <td>yes</td>\n",
       "      <td>4</td>\n",
       "      <td>1</td>\n",
       "    </tr>\n",
       "    <tr>\n",
       "      <th>1</th>\n",
       "      <td>fake_c</td>\n",
       "      <td>-0.99</td>\n",
       "      <td>yes</td>\n",
       "      <td>7</td>\n",
       "      <td>1</td>\n",
       "    </tr>\n",
       "    <tr>\n",
       "      <th>2</th>\n",
       "      <td>fake_a</td>\n",
       "      <td>1.55</td>\n",
       "      <td>no</td>\n",
       "      <td>3</td>\n",
       "      <td>0</td>\n",
       "    </tr>\n",
       "    <tr>\n",
       "      <th>3</th>\n",
       "      <td>fake_b</td>\n",
       "      <td>1.30</td>\n",
       "      <td>yes</td>\n",
       "      <td>8</td>\n",
       "      <td>1</td>\n",
       "    </tr>\n",
       "    <tr>\n",
       "      <th>4</th>\n",
       "      <td>fake_c</td>\n",
       "      <td>-1.64</td>\n",
       "      <td>no</td>\n",
       "      <td>4</td>\n",
       "      <td>0</td>\n",
       "    </tr>\n",
       "  </tbody>\n",
       "</table>\n",
       "</div>"
      ],
      "text/plain": [
       "  categorical  numerical binary  integer  binary_one_hot\n",
       "0      fake_a       1.90    yes        4               1\n",
       "1      fake_c      -0.99    yes        7               1\n",
       "2      fake_a       1.55     no        3               0\n",
       "3      fake_b       1.30    yes        8               1\n",
       "4      fake_c      -1.64     no        4               0"
      ]
     },
     "execution_count": 33,
     "metadata": {},
     "output_type": "execute_result"
    }
   ],
   "source": [
    "fake_data['binary_one_hot'] = fake_data['binary'].apply(lambda x: 0 if x == 'no' else 1)\n",
    "fake_data"
   ]
  },
  {
   "cell_type": "markdown",
   "id": "396c741d",
   "metadata": {},
   "source": [
    "## Second method"
   ]
  },
  {
   "cell_type": "code",
   "execution_count": 179,
   "id": "f1e0b101",
   "metadata": {},
   "outputs": [
    {
     "data": {
      "text/plain": [
       "0    1.0\n",
       "1    0.0\n",
       "2    NaN\n",
       "3    1.0\n",
       "4    0.0\n",
       "5    0.0\n",
       "6    1.0\n",
       "7    1.0\n",
       "8    0.0\n",
       "Name: binary, dtype: float64"
      ]
     },
     "execution_count": 179,
     "metadata": {},
     "output_type": "execute_result"
    }
   ],
   "source": [
    "fake_data['binary'].replace(to_replace=['yes', 'no'], value=[1, 0], inplace=False)\n",
    "## set inplace to True to see change in the whole dataframe"
   ]
  },
  {
   "cell_type": "markdown",
   "id": "8e540ec7",
   "metadata": {},
   "source": [
    "## Third method"
   ]
  },
  {
   "cell_type": "code",
   "execution_count": null,
   "id": "afb0c106",
   "metadata": {},
   "outputs": [],
   "source": [
    "onehot_dataframe = pd.get_dummies(data=fake_data,\n",
    "                                  columns=['categorical_column_a', 'categorical_column_k'],\n",
    "                                  prefix=['cat_a', 'cat_k'])"
   ]
  },
  {
   "cell_type": "markdown",
   "id": "9490f9df",
   "metadata": {},
   "source": [
    "## Fourth method, using Sklearn OneHotEncoder\n",
    "## PROBLEM: if you convert one hot encoded categories back to dataframe with columns as categories, then previously unseen categories will form new columns! Messing up training/testing columns!"
   ]
  },
  {
   "cell_type": "code",
   "execution_count": 229,
   "id": "ae14f2f8",
   "metadata": {},
   "outputs": [
    {
     "data": {
      "text/html": [
       "<div>\n",
       "<style scoped>\n",
       "    .dataframe tbody tr th:only-of-type {\n",
       "        vertical-align: middle;\n",
       "    }\n",
       "\n",
       "    .dataframe tbody tr th {\n",
       "        vertical-align: top;\n",
       "    }\n",
       "\n",
       "    .dataframe thead th {\n",
       "        text-align: right;\n",
       "    }\n",
       "</style>\n",
       "<table border=\"1\" class=\"dataframe\">\n",
       "  <thead>\n",
       "    <tr style=\"text-align: right;\">\n",
       "      <th></th>\n",
       "      <th>categorical_a</th>\n",
       "      <th>numerical</th>\n",
       "      <th>categorical_b</th>\n",
       "    </tr>\n",
       "  </thead>\n",
       "  <tbody>\n",
       "    <tr>\n",
       "      <th>0</th>\n",
       "      <td>a</td>\n",
       "      <td>1.35</td>\n",
       "      <td>aa</td>\n",
       "    </tr>\n",
       "    <tr>\n",
       "      <th>1</th>\n",
       "      <td>c</td>\n",
       "      <td>1.50</td>\n",
       "      <td>cc</td>\n",
       "    </tr>\n",
       "    <tr>\n",
       "      <th>2</th>\n",
       "      <td>a</td>\n",
       "      <td>0.90</td>\n",
       "      <td>abc</td>\n",
       "    </tr>\n",
       "    <tr>\n",
       "      <th>3</th>\n",
       "      <td>b</td>\n",
       "      <td>1.30</td>\n",
       "      <td>bb</td>\n",
       "    </tr>\n",
       "  </tbody>\n",
       "</table>\n",
       "</div>"
      ],
      "text/plain": [
       "  categorical_a  numerical categorical_b\n",
       "0             a       1.35            aa\n",
       "1             c       1.50            cc\n",
       "2             a       0.90           abc\n",
       "3             b       1.30            bb"
      ]
     },
     "execution_count": 229,
     "metadata": {},
     "output_type": "execute_result"
    }
   ],
   "source": [
    "example_data = [['a', 1.35, 'aa'], ['c', 1.5, 'cc'], ['a', 0.9, 'abc'], ['b', 1.3, 'bb']]\n",
    "exampledf = pd.DataFrame(data=example_data, columns=['categorical_a', 'numerical', 'categorical_b'])\n",
    "exampledf"
   ]
  },
  {
   "cell_type": "code",
   "execution_count": 241,
   "id": "c1b1ed2b",
   "metadata": {},
   "outputs": [
    {
     "name": "stdout",
     "output_type": "stream",
     "text": [
      "[[1. 0. 0. 1. 0. 0. 0.]\n",
      " [0. 0. 1. 0. 0. 0. 1.]\n",
      " [1. 0. 0. 0. 1. 0. 0.]\n",
      " [0. 1. 0. 0. 0. 1. 0.]] \n",
      "\n",
      "onehot_encoder.categories_: [array(['a', 'b', 'c'], dtype=object), array(['aa', 'abc', 'bb', 'cc'], dtype=object)]\n",
      "\n",
      "one hot categories found by OneHotEncoder: ['a', 'b', 'c', 'aa', 'abc', 'bb', 'cc']\n"
     ]
    },
    {
     "data": {
      "text/html": [
       "<div>\n",
       "<style scoped>\n",
       "    .dataframe tbody tr th:only-of-type {\n",
       "        vertical-align: middle;\n",
       "    }\n",
       "\n",
       "    .dataframe tbody tr th {\n",
       "        vertical-align: top;\n",
       "    }\n",
       "\n",
       "    .dataframe thead th {\n",
       "        text-align: right;\n",
       "    }\n",
       "</style>\n",
       "<table border=\"1\" class=\"dataframe\">\n",
       "  <thead>\n",
       "    <tr style=\"text-align: right;\">\n",
       "      <th></th>\n",
       "      <th>numerical</th>\n",
       "      <th>a</th>\n",
       "      <th>b</th>\n",
       "      <th>c</th>\n",
       "      <th>aa</th>\n",
       "      <th>abc</th>\n",
       "      <th>bb</th>\n",
       "      <th>cc</th>\n",
       "    </tr>\n",
       "  </thead>\n",
       "  <tbody>\n",
       "    <tr>\n",
       "      <th>0</th>\n",
       "      <td>1.35</td>\n",
       "      <td>1.0</td>\n",
       "      <td>0.0</td>\n",
       "      <td>0.0</td>\n",
       "      <td>1.0</td>\n",
       "      <td>0.0</td>\n",
       "      <td>0.0</td>\n",
       "      <td>0.0</td>\n",
       "    </tr>\n",
       "    <tr>\n",
       "      <th>1</th>\n",
       "      <td>1.50</td>\n",
       "      <td>0.0</td>\n",
       "      <td>0.0</td>\n",
       "      <td>1.0</td>\n",
       "      <td>0.0</td>\n",
       "      <td>0.0</td>\n",
       "      <td>0.0</td>\n",
       "      <td>1.0</td>\n",
       "    </tr>\n",
       "    <tr>\n",
       "      <th>2</th>\n",
       "      <td>0.90</td>\n",
       "      <td>1.0</td>\n",
       "      <td>0.0</td>\n",
       "      <td>0.0</td>\n",
       "      <td>0.0</td>\n",
       "      <td>1.0</td>\n",
       "      <td>0.0</td>\n",
       "      <td>0.0</td>\n",
       "    </tr>\n",
       "    <tr>\n",
       "      <th>3</th>\n",
       "      <td>1.30</td>\n",
       "      <td>0.0</td>\n",
       "      <td>1.0</td>\n",
       "      <td>0.0</td>\n",
       "      <td>0.0</td>\n",
       "      <td>0.0</td>\n",
       "      <td>1.0</td>\n",
       "      <td>0.0</td>\n",
       "    </tr>\n",
       "  </tbody>\n",
       "</table>\n",
       "</div>"
      ],
      "text/plain": [
       "   numerical    a    b    c   aa  abc   bb   cc\n",
       "0       1.35  1.0  0.0  0.0  1.0  0.0  0.0  0.0\n",
       "1       1.50  0.0  0.0  1.0  0.0  0.0  0.0  1.0\n",
       "2       0.90  1.0  0.0  0.0  0.0  1.0  0.0  0.0\n",
       "3       1.30  0.0  1.0  0.0  0.0  0.0  1.0  0.0"
      ]
     },
     "execution_count": 241,
     "metadata": {},
     "output_type": "execute_result"
    }
   ],
   "source": [
    "from sklearn.preprocessing import OneHotEncoder\n",
    "\n",
    "# one hot encoder with handle_unknown='ignore', puts all zeros for unknown/new category\n",
    "# note: all Null/None values are grouped into a single category\n",
    "onehot_encoder = OneHotEncoder(handle_unknown='ignore')\n",
    "\n",
    "# one hot encode only categorical columns with new dataframe \n",
    "x = onehot_encoder.fit_transform(exampledf[['categorical_a', 'categorical_b']])\n",
    "print(x.toarray(), '\\n')\n",
    "print('onehot_encoder.categories_:', onehot_encoder.categories_)\n",
    "\n",
    "# get the column names of categories\n",
    "onehot_cats = []\n",
    "for subarray in onehot_encoder.categories_:\n",
    "     onehot_cats += list(subarray) \n",
    "        \n",
    "print('\\none hot categories found by OneHotEncoder:', onehot_cats)\n",
    "\n",
    "# convert one hot matrix to new dataframe\n",
    "xdf = pd.DataFrame(x.toarray(), columns=onehot_cats)\n",
    "\n",
    "# join original dataframe to one hot matrix with original categorical columns dropped\n",
    "dropped = exampledf.drop(columns=['categorical_a', 'categorical_b'])\n",
    "newdf = dropped.join(xdf)\n",
    "# dropped\n",
    "newdf"
   ]
  },
  {
   "cell_type": "markdown",
   "id": "2bea7998",
   "metadata": {},
   "source": [
    "## Testing Sklearn's OneHotEncoder on a new category previously unseen by OneHotEncoder"
   ]
  },
  {
   "cell_type": "code",
   "execution_count": 249,
   "id": "ed915458",
   "metadata": {},
   "outputs": [
    {
     "name": "stdout",
     "output_type": "stream",
     "text": [
      "test dataframe example: [['z', 1.35, 'zz']] \n",
      "\n",
      "\n",
      "one hot categories same as previously found by OneHotEncoder: ['a', 'b', 'c', 'aa', 'abc', 'bb', 'cc']\n"
     ]
    },
    {
     "data": {
      "text/html": [
       "<div>\n",
       "<style scoped>\n",
       "    .dataframe tbody tr th:only-of-type {\n",
       "        vertical-align: middle;\n",
       "    }\n",
       "\n",
       "    .dataframe tbody tr th {\n",
       "        vertical-align: top;\n",
       "    }\n",
       "\n",
       "    .dataframe thead th {\n",
       "        text-align: right;\n",
       "    }\n",
       "</style>\n",
       "<table border=\"1\" class=\"dataframe\">\n",
       "  <thead>\n",
       "    <tr style=\"text-align: right;\">\n",
       "      <th></th>\n",
       "      <th>numerical</th>\n",
       "      <th>a</th>\n",
       "      <th>b</th>\n",
       "      <th>c</th>\n",
       "      <th>aa</th>\n",
       "      <th>abc</th>\n",
       "      <th>bb</th>\n",
       "      <th>cc</th>\n",
       "    </tr>\n",
       "  </thead>\n",
       "  <tbody>\n",
       "    <tr>\n",
       "      <th>0</th>\n",
       "      <td>1.35</td>\n",
       "      <td>0.0</td>\n",
       "      <td>0.0</td>\n",
       "      <td>0.0</td>\n",
       "      <td>0.0</td>\n",
       "      <td>0.0</td>\n",
       "      <td>0.0</td>\n",
       "      <td>0.0</td>\n",
       "    </tr>\n",
       "  </tbody>\n",
       "</table>\n",
       "</div>"
      ],
      "text/plain": [
       "   numerical    a    b    c   aa  abc   bb   cc\n",
       "0       1.35  0.0  0.0  0.0  0.0  0.0  0.0  0.0"
      ]
     },
     "execution_count": 249,
     "metadata": {},
     "output_type": "execute_result"
    }
   ],
   "source": [
    "test_onehot = [['z', 1.35, 'zz']]\n",
    "test_onehot_df = pd.DataFrame(data=test_onehot, columns=['categorical_a', 'numerical', 'categorical_b'])\n",
    "\n",
    "x_test = onehot_encoder.transform(test_onehot_df[['categorical_a', 'categorical_b']])\n",
    "print(\"test dataframe example:\", test_onehot, '\\n')\n",
    "\n",
    "onehot_cats = []\n",
    "for subarray in onehot_encoder.categories_:\n",
    "     onehot_cats += list(subarray) \n",
    "        \n",
    "print('\\none hot categories same as previously found by OneHotEncoder:', onehot_cats)\n",
    "\n",
    "xtestdf = pd.DataFrame(x_test.toarray(), columns=onehot_cats)\n",
    "\n",
    "testdropped = test_onehot_df.drop(columns=['categorical_a', 'categorical_b'])\n",
    "testnewdf = testdropped.join(xtestdf)\n",
    "\n",
    "testnewdf"
   ]
  },
  {
   "cell_type": "markdown",
   "id": "867a2f67",
   "metadata": {},
   "source": [
    "## Fifth method, with Sklearn's ColumnTransformer"
   ]
  },
  {
   "cell_type": "code",
   "execution_count": 253,
   "id": "4cdb0d1a",
   "metadata": {},
   "outputs": [
    {
     "data": {
      "text/plain": [
       "array([[1.  , 0.  , 0.  , 1.  , 0.  , 0.  , 0.  , 1.35],\n",
       "       [0.  , 0.  , 1.  , 0.  , 0.  , 0.  , 1.  , 1.5 ],\n",
       "       [1.  , 0.  , 0.  , 0.  , 1.  , 0.  , 0.  , 0.9 ],\n",
       "       [0.  , 1.  , 0.  , 0.  , 0.  , 1.  , 0.  , 1.3 ]])"
      ]
     },
     "execution_count": 253,
     "metadata": {},
     "output_type": "execute_result"
    }
   ],
   "source": [
    "from sklearn.preprocessing import OneHotEncoder\n",
    "from sklearn.compose import ColumnTransformer\n",
    "\n",
    "column_transformer = ColumnTransformer(\n",
    "    [('onehot_encoder', OneHotEncoder(handle_unknown='ignore'), [\"categorical_a\", \"categorical_b\"])],\n",
    "    remainder='passthrough'\n",
    ")\n",
    "\n",
    "chosen_columns_onehot_transformed = column_transformer.fit_transform(exampledf)\n",
    "chosen_columns_onehot_transformed"
   ]
  },
  {
   "cell_type": "markdown",
   "id": "68b27c98",
   "metadata": {},
   "source": [
    "## Calculate memory usage"
   ]
  },
  {
   "cell_type": "code",
   "execution_count": 214,
   "id": "d31dee15",
   "metadata": {},
   "outputs": [],
   "source": [
    "def memory_usage(_dataframe):\n",
    "    usage_in_bytes = _dataframe.memory_usage(deep=True).sum()\n",
    "    usage_in_megabytes = usage_in_bytes/(1024 ** 2)\n",
    "    return \"{:03.2f} MB\".format(usage_in_megabytes)"
   ]
  },
  {
   "cell_type": "code",
   "execution_count": 215,
   "id": "bf687ed2",
   "metadata": {},
   "outputs": [
    {
     "data": {
      "text/plain": [
       "'0.00 MB'"
      ]
     },
     "execution_count": 215,
     "metadata": {},
     "output_type": "execute_result"
    }
   ],
   "source": [
    "memory_usage(fake_data)"
   ]
  },
  {
   "cell_type": "code",
   "execution_count": null,
   "id": "e26dbde5",
   "metadata": {},
   "outputs": [],
   "source": []
  }
 ],
 "metadata": {
  "kernelspec": {
   "display_name": "Python 3 (ipykernel)",
   "language": "python",
   "name": "python3"
  },
  "language_info": {
   "codemirror_mode": {
    "name": "ipython",
    "version": 3
   },
   "file_extension": ".py",
   "mimetype": "text/x-python",
   "name": "python",
   "nbconvert_exporter": "python",
   "pygments_lexer": "ipython3",
   "version": "3.10.1"
  }
 },
 "nbformat": 4,
 "nbformat_minor": 5
}
